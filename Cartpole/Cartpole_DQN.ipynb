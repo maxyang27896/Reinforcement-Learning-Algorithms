{
 "cells": [
  {
   "cell_type": "markdown",
   "metadata": {},
   "source": [
    "# Deep Q-Learning For Cartpole "
   ]
  },
  {
   "cell_type": "code",
   "execution_count": 1,
   "metadata": {},
   "outputs": [],
   "source": [
    "# Import Packages\n",
    "import random\n",
    "import gym\n",
    "import numpy as np\n",
    "from collections import deque\n",
    "import matplotlib.pyplot as plt\n",
    "\n",
    "import tensorflow as tf\n",
    "from tensorflow.keras.optimizers import Adam"
   ]
  },
  {
   "cell_type": "code",
   "execution_count": 2,
   "metadata": {},
   "outputs": [
    {
     "name": "stdout",
     "output_type": "stream",
     "text": [
      "Num GPUs Available:  0\n"
     ]
    }
   ],
   "source": [
    "import tensorflow as tf\n",
    "print(\"Num GPUs Available: \", len(tf.config.experimental.list_physical_devices('GPU')))"
   ]
  },
  {
   "cell_type": "code",
   "execution_count": 3,
   "metadata": {},
   "outputs": [],
   "source": [
    "# create the envirnment\n",
    "env = gym.make(\"CartPole-v1\")"
   ]
  },
  {
   "cell_type": "code",
   "execution_count": 4,
   "metadata": {},
   "outputs": [
    {
     "name": "stdout",
     "output_type": "stream",
     "text": [
      "The observation space is:  4\n",
      "The action space:  2\n"
     ]
    }
   ],
   "source": [
    "# Get the observation space and actionn space\n",
    "observation_space = env.observation_space.shape[0]\n",
    "action_space = env.action_space.n\n",
    "\n",
    "print('The observation space is: ', observation_space)\n",
    "print('The action space: ', action_space)"
   ]
  },
  {
   "cell_type": "code",
   "execution_count": 5,
   "metadata": {},
   "outputs": [
    {
     "name": "stdout",
     "output_type": "stream",
     "text": [
      "Next_state:  [ 0.00428709 -0.18579624  0.0455533   0.33359725]\n",
      "Rewards: 1.0\n"
     ]
    }
   ],
   "source": [
    "# Test environment\n",
    "state = env.reset()\n",
    "state_next, reward, terminal, info = env.step(env.action_space.sample())\n",
    "print('Next_state: ', state_next)\n",
    "print('Rewards:',   reward)"
   ]
  },
  {
   "cell_type": "code",
   "execution_count": 6,
   "metadata": {},
   "outputs": [],
   "source": [
    "# Parameters\n",
    "GAMMA = 0.95                       # discount factor\n",
    "LEARNING_RATE = 0.001              # learning rate for optimiser\n",
    "\n",
    "MEMORY_SIZE = 1000000              # memeory size of the deque\n",
    "BATCH_SIZE = 20                    # Batch size for training \n",
    "\n",
    "EXPLORATION_MAX = 1.0              \n",
    "EXPLORATION_MIN = 0.1\n",
    "EXPLORATION_DECAY = 0.995\n",
    "\n",
    "exploration_rate = EXPLORATION_MAX"
   ]
  },
  {
   "cell_type": "code",
   "execution_count": 7,
   "metadata": {},
   "outputs": [
    {
     "name": "stdout",
     "output_type": "stream",
     "text": [
      "Model: \"sequential\"\n",
      "_________________________________________________________________\n",
      "Layer (type)                 Output Shape              Param #   \n",
      "=================================================================\n",
      "dense (Dense)                (None, 24)                120       \n",
      "_________________________________________________________________\n",
      "dense_1 (Dense)              (None, 24)                600       \n",
      "_________________________________________________________________\n",
      "dense_2 (Dense)              (None, 2)                 50        \n",
      "=================================================================\n",
      "Total params: 770\n",
      "Trainable params: 770\n",
      "Non-trainable params: 0\n",
      "_________________________________________________________________\n"
     ]
    }
   ],
   "source": [
    "# create the model\n",
    "model = tf.keras.models.Sequential()\n",
    "model.add(tf.keras.layers.Dense(24, input_shape=(observation_space,), activation=\"relu\"))\n",
    "model.add(tf.keras.layers.Dense(24, activation=\"relu\"))\n",
    "model.add(tf.keras.layers.Dense(action_space, activation=\"linear\"))\n",
    "model.compile(loss=\"mse\", optimizer=Adam(lr=LEARNING_RATE))\n",
    "\n",
    "model.summary()"
   ]
  },
  {
   "cell_type": "code",
   "execution_count": 8,
   "metadata": {},
   "outputs": [],
   "source": [
    "# Append experience to memory\n",
    "def remember(state, action, reward, next_state, done):\n",
    "    memory.append((state, action, reward, next_state, done))"
   ]
  },
  {
   "cell_type": "code",
   "execution_count": 9,
   "metadata": {},
   "outputs": [],
   "source": [
    "# Function to retuen an action based on the state\n",
    "def act(state):\n",
    "    \n",
    "    # Return random action if epsilon \n",
    "    if np.random.rand() < exploration_rate:\n",
    "        return random.randrange(action_space)\n",
    "    \n",
    "    # Else return the action predicted by model\n",
    "    q_values = model.predict(state)\n",
    "    \n",
    "    return np.argmax(q_values[0])"
   ]
  },
  {
   "cell_type": "code",
   "execution_count": 10,
   "metadata": {},
   "outputs": [],
   "source": [
    "### Learning function ###\n",
    "\n",
    "def experience_replay():\n",
    "    \n",
    "    global exploration_rate\n",
    "    \n",
    "    # Start training only if memeory size has reached beyond batch size\n",
    "    if len(memory) < BATCH_SIZE:\n",
    "        return\n",
    "    \n",
    "    # Take a sample batch from the memory\n",
    "    batch = random.sample(memory, BATCH_SIZE)\n",
    "    \n",
    "    # for each experience in the batch, update the network with new q_update\n",
    "    for state, action, reward, state_next, terminal in batch:\n",
    "        \n",
    "        # q_target is reward if terminal \n",
    "        q_update = reward\n",
    "        \n",
    "        # else q_target is the discounted reward \n",
    "        if not terminal:\n",
    "            q_update = (reward + GAMMA * np.amax(model.predict(state_next)[0]))\n",
    "            \n",
    "        # Get the vector of Q_target = [Q_target(1), Q_target(2)], only the Q_target index of the action is updated \n",
    "        q_values = model.predict(state)\n",
    "        q_values[0][action] = q_update\n",
    "        \n",
    "        # Fit a single sample to the model\n",
    "        model.fit(state, q_values, verbose=0)\n",
    "        \n",
    "    # Reduce the exploration \n",
    "    exploration_rate *= EXPLORATION_DECAY\n",
    "    exploration_rate = max(EXPLORATION_MIN, exploration_rate)\n"
   ]
  },
  {
   "cell_type": "code",
   "execution_count": 11,
   "metadata": {},
   "outputs": [],
   "source": [
    "def test(model, n_episodes):\n",
    "    ''' \n",
    "    function to test the result of the model for n_episodes and return average\n",
    "    rewards\n",
    "    '''\n",
    "    \n",
    "    # store average rewards\n",
    "    avg_rewards = 0\n",
    "    \n",
    "    for i in range(1, n_episodes+1):\n",
    "\n",
    "        state = env.reset()\n",
    "        done = False \n",
    "        total_rewards = 0\n",
    "        \n",
    "        # until done \n",
    "        while not done:\n",
    "            \n",
    "            # take an action in the max q_table\n",
    "            action = np.argmax(model.predict(np.array([state]))[0])\n",
    "            state, reward, done, info = env.step(action)\n",
    "            \n",
    "            # acculmulate rewards\n",
    "            total_rewards += reward\n",
    "        \n",
    "        avg_rewards = avg_rewards + 1/(i) * (total_rewards - avg_rewards)\n",
    "          \n",
    "    return avg_rewards"
   ]
  },
  {
   "cell_type": "code",
   "execution_count": null,
   "metadata": {
    "scrolled": true
   },
   "outputs": [
    {
     "name": "stdout",
     "output_type": "stream",
     "text": [
      "Run: 1, exploration: 1.0, average score: 9.2\n",
      "Run: 2, exploration: 0.9322301194154049, average score: 10.0\n",
      "Run: 3, exploration: 0.8390886103705794, average score: 9.2\n",
      "Run: 4, exploration: 0.7822236754458713, average score: 10.4\n",
      "Run: 5, exploration: 0.7183288830986236, average score: 28.8\n",
      "Run: 6, exploration: 0.5344229416520513, average score: 9.8\n",
      "Run: 7, exploration: 0.4810273709480478, average score: 9.8\n",
      "Run: 8, exploration: 0.4529463432347434, average score: 9.6\n",
      "Run: 9, exploration: 0.42650460709830135, average score: 13.8\n",
      "Run: 10, exploration: 0.3936343764094253, average score: 14.6\n",
      "Run: 11, exploration: 0.3420891339682016, average score: 14.0\n",
      "Run: 12, exploration: 0.2583638820072446, average score: 43.2\n",
      "Run: 13, exploration: 0.1912566947289212, average score: 39.0\n",
      "Run: 14, exploration: 0.1473726336968319, average score: 47.6\n",
      "Run: 15, exploration: 0.11242507996344034, average score: 10.6\n",
      "Run: 16, exploration: 0.10018300685223579, average score: 52.8\n",
      "Run: 17, exploration: 0.1, average score: 25.0\n",
      "Run: 18, exploration: 0.1, average score: 59.6\n",
      "Run: 19, exploration: 0.1, average score: 56.8\n",
      "Run: 20, exploration: 0.1, average score: 42.6\n",
      "Run: 21, exploration: 0.1, average score: 29.2\n",
      "Run: 22, exploration: 0.1, average score: 50.6\n",
      "Run: 23, exploration: 0.1, average score: 29.2\n"
     ]
    }
   ],
   "source": [
    "### Learning in the environment ###\n",
    "\n",
    "# Initialise the run\n",
    "memory = deque(maxlen=MEMORY_SIZE)\n",
    "run = 0\n",
    "N = 100\n",
    "\n",
    "# Initialise score capture\n",
    "run_list = []\n",
    "avg_score_list = []\n",
    "step_list = []\n",
    "\n",
    "# Run for N episodes\n",
    "for i in range(0,N):\n",
    "    \n",
    "    # update run number\n",
    "    run += 1\n",
    "    \n",
    "    # Initialise environment \n",
    "    state = env.reset()\n",
    "    terminal = False\n",
    "    state = np.reshape(state, [1, observation_space])\n",
    "    step = 0\n",
    "    \n",
    "    # Run each episode\n",
    "    while not terminal:\n",
    "        \n",
    "        # update the step number \n",
    "        step += 1\n",
    "        \n",
    "        # choose an action\n",
    "        action = act(state)\n",
    "        \n",
    "        # Take a step\n",
    "        state_next, reward, terminal, info = env.step(action)\n",
    "        \n",
    "        # Reward negatively if episode ended\n",
    "        reward = reward if not terminal else -reward\n",
    "        \n",
    "        # reshape state_next to format of model.predict()\n",
    "        state_next = np.reshape(state_next, [1, observation_space])\n",
    "        \n",
    "        # Add experience to memory\n",
    "        remember(state, action, reward, state_next, terminal)\n",
    "        \n",
    "        # set next state\n",
    "        state = state_next\n",
    "        \n",
    "        # End the epsiode if step > 200 \n",
    "        if step > 200:\n",
    "            terminal = True\n",
    "        \n",
    "        # Print message at the end of every episode \n",
    "        if terminal:\n",
    "            avg_rewards = test(model, 5)\n",
    "            \n",
    "            # append history of score\n",
    "            run_list.append(run)\n",
    "            step_list.append(step)\n",
    "            avg_score_list.append(avg_rewards)\n",
    "            \n",
    "            print(\"Run: \" + str(run) + \", exploration: \" + str(exploration_rate) + \", average score: \" + str(avg_rewards))\n",
    "\n",
    "        # Train for a batch of batch size \n",
    "        experience_replay()\n",
    "    \n",
    "print('Done Training!')        "
   ]
  },
  {
   "cell_type": "code",
   "execution_count": 15,
   "metadata": {},
   "outputs": [
    {
     "data": {
      "image/png": "[encoded data removed]",
      "text/plain": [
       "<Figure size 432x288 with 1 Axes>"
      ]
     },
     "metadata": {
      "needs_background": "light"
     },
     "output_type": "display_data"
    }
   ],
   "source": [
    "# plot \n",
    "plt.plot(run_list, avg_score_list, run_list, step_list)\n",
    "plt.ylabel('Scores')\n",
    "plt.xlabel('Runs')\n",
    "plt.legend(['Average Rewards', 'Steps'])\n",
    "plt.show()"
   ]
  },
  {
   "cell_type": "code",
   "execution_count": 16,
   "metadata": {},
   "outputs": [
    {
     "name": "stdout",
     "output_type": "stream",
     "text": [
      "After 50 episodes, the average score is 9.440000000000001\n"
     ]
    }
   ],
   "source": [
    "# run test\n",
    "n_episodes = 50\n",
    "avg_rewards = test(model, n_episodes)\n",
    "print(\"After \" + str(n_episodes) + \" episodes, the average score is \" + str(avg_rewards))"
   ]
  },
  {
   "cell_type": "code",
   "execution_count": 17,
   "metadata": {},
   "outputs": [
    {
     "data": {
      "text/plain": [
       "584"
      ]
     },
     "execution_count": 17,
     "metadata": {},
     "output_type": "execute_result"
    }
   ],
   "source": [
    "len(memory)"
   ]
  },
  {
   "cell_type": "code",
   "execution_count": 18,
   "metadata": {},
   "outputs": [
    {
     "data": {
      "text/plain": [
       "584"
      ]
     },
     "execution_count": 18,
     "metadata": {},
     "output_type": "execute_result"
    }
   ],
   "source": [
    "sum(step_list)"
   ]
  }
 ],
 "metadata": {
  "kernelspec": {
   "display_name": "Python 3",
   "language": "python",
   "name": "python3"
  },
  "language_info": {
   "codemirror_mode": {
    "name": "ipython",
    "version": 3
   },
   "file_extension": ".py",
   "mimetype": "text/x-python",
   "name": "python",
   "nbconvert_exporter": "python",
   "pygments_lexer": "ipython3",
   "version": "3.7.3"
  },
  "varInspector": {
   "cols": {
    "lenName": 16,
    "lenType": 16,
    "lenVar": 40
   },
   "kernels_config": {
    "python": {
     "delete_cmd_postfix": "",
     "delete_cmd_prefix": "del ",
     "library": "var_list.py",
     "varRefreshCmd": "print(var_dic_list())"
    },
    "r": {
     "delete_cmd_postfix": ") ",
     "delete_cmd_prefix": "rm(",
     "library": "var_list.r",
     "varRefreshCmd": "cat(var_dic_list()) "
    }
   },
   "types_to_exclude": [
    "module",
    "function",
    "builtin_function_or_method",
    "instance",
    "_Feature"
   ],
   "window_display": false
  }
 },
 "nbformat": 4,
 "nbformat_minor": 2
}
