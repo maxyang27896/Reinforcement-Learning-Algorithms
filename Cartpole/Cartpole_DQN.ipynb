{
 "cells": [
  {
   "cell_type": "markdown",
   "metadata": {},
   "source": [
    "# Deep Q-Learning For Cartpole "
   ]
  },
  {
   "cell_type": "code",
   "execution_count": 2,
   "metadata": {},
   "outputs": [],
   "source": [
    "# Import Packages\n",
    "import time \n",
    "\n",
    "import random\n",
    "import gym\n",
    "import numpy as np\n",
    "from collections import deque\n",
    "import matplotlib.pyplot as plt\n",
    "\n",
    "import tensorflow as tf\n",
    "from tensorflow.keras.optimizers import Adam"
   ]
  },
  {
   "cell_type": "code",
   "execution_count": 3,
   "metadata": {},
   "outputs": [
    {
     "name": "stdout",
     "output_type": "stream",
     "text": [
      "[name: \"/device:CPU:0\"\n",
      "device_type: \"CPU\"\n",
      "memory_limit: 268435456\n",
      "locality {\n",
      "}\n",
      "incarnation: 3145599709241313722\n",
      ", name: \"/device:XLA_CPU:0\"\n",
      "device_type: \"XLA_CPU\"\n",
      "memory_limit: 17179869184\n",
      "locality {\n",
      "}\n",
      "incarnation: 5989727615193503046\n",
      "physical_device_desc: \"device: XLA_CPU device\"\n",
      "]\n"
     ]
    }
   ],
   "source": [
    "from tensorflow.python.client import device_lib \n",
    "print(device_lib.list_local_devices())"
   ]
  },
  {
   "cell_type": "code",
   "execution_count": 4,
   "metadata": {},
   "outputs": [
    {
     "name": "stdout",
     "output_type": "stream",
     "text": [
      "Num GPUs Available:  1\n",
      "Num GPUs Available:  0\n"
     ]
    }
   ],
   "source": [
    "print(\"Num GPUs Available: \", len(tf.config.experimental.list_physical_devices('CPU')))\n",
    "print(\"Num GPUs Available: \", len(tf.config.experimental.list_physical_devices('GPU')))"
   ]
  },
  {
   "cell_type": "code",
   "execution_count": 5,
   "metadata": {},
   "outputs": [],
   "source": [
    "# create the envirnment\n",
    "env = gym.make(\"CartPole-v1\")"
   ]
  },
  {
   "cell_type": "code",
   "execution_count": 6,
   "metadata": {
    "scrolled": true
   },
   "outputs": [
    {
     "name": "stdout",
     "output_type": "stream",
     "text": [
      "The observation space is:  4\n",
      "The action space:  2\n"
     ]
    }
   ],
   "source": [
    "# Get the observation space and actionn space\n",
    "observation_space = env.observation_space.shape[0]\n",
    "action_space = env.action_space.n\n",
    "\n",
    "print('The observation space is: ', observation_space)\n",
    "print('The action space: ', action_space)"
   ]
  },
  {
   "cell_type": "code",
   "execution_count": 7,
   "metadata": {},
   "outputs": [
    {
     "name": "stdout",
     "output_type": "stream",
     "text": [
      "Next_state:  [ 0.01367191 -0.24207593 -0.00752055  0.29999949]\n",
      "Rewards: 1.0\n"
     ]
    }
   ],
   "source": [
    "# Test environment\n",
    "state = env.reset()\n",
    "state_next, reward, terminal, info = env.step(env.action_space.sample())\n",
    "print('Next_state: ', state_next)\n",
    "print('Rewards:',   reward)"
   ]
  },
  {
   "cell_type": "code",
   "execution_count": 8,
   "metadata": {},
   "outputs": [],
   "source": [
    "# Parameters\n",
    "GAMMA = 0.95                       # discount factor\n",
    "LEARNING_RATE = 0.001              # learning rate for optimiser\n",
    "\n",
    "MEMORY_SIZE = 10000                # memeory size of the deque\n",
    "BATCH_SIZE = 20                   # Batch size for training \n",
    "\n",
    "EXPLORATION_MAX = 1.0              \n",
    "EXPLORATION_MIN = 0.1\n",
    "EXPLORATION_DECAY = 0.995\n",
    "\n",
    "exploration_rate = EXPLORATION_MAX"
   ]
  },
  {
   "cell_type": "code",
   "execution_count": 9,
   "metadata": {},
   "outputs": [
    {
     "name": "stdout",
     "output_type": "stream",
     "text": [
      "Model: \"sequential\"\n",
      "_________________________________________________________________\n",
      "Layer (type)                 Output Shape              Param #   \n",
      "=================================================================\n",
      "dense (Dense)                (None, 24)                120       \n",
      "_________________________________________________________________\n",
      "dense_1 (Dense)              (None, 24)                600       \n",
      "_________________________________________________________________\n",
      "dense_2 (Dense)              (None, 2)                 50        \n",
      "=================================================================\n",
      "Total params: 770\n",
      "Trainable params: 770\n",
      "Non-trainable params: 0\n",
      "_________________________________________________________________\n"
     ]
    }
   ],
   "source": [
    "# create the model\n",
    "model = tf.keras.models.Sequential()\n",
    "model.add(tf.keras.layers.Dense(24, input_shape=(observation_space,), activation=\"relu\"))\n",
    "model.add(tf.keras.layers.Dense(24, activation=\"relu\"))\n",
    "model.add(tf.keras.layers.Dense(action_space, activation=\"linear\"))\n",
    "model.compile(loss=\"mse\", optimizer=Adam(lr=LEARNING_RATE))\n",
    "\n",
    "model.summary()"
   ]
  },
  {
   "cell_type": "code",
   "execution_count": 10,
   "metadata": {},
   "outputs": [],
   "source": [
    "# Append experience to memory\n",
    "def remember(state, action, reward, next_state, done):\n",
    "    memory.append((state, action, reward, next_state, done))"
   ]
  },
  {
   "cell_type": "code",
   "execution_count": 11,
   "metadata": {},
   "outputs": [],
   "source": [
    "# Function to retuen an action based on the state\n",
    "def act(state):\n",
    "    \n",
    "    # Return random action if epsilon \n",
    "    if np.random.rand() < exploration_rate:\n",
    "        return random.randrange(action_space)\n",
    "    \n",
    "    # Else return the action predicted by model\n",
    "    q_values = model.predict(state)\n",
    "    \n",
    "    return np.argmax(q_values[0])"
   ]
  },
  {
   "cell_type": "code",
   "execution_count": 12,
   "metadata": {},
   "outputs": [],
   "source": [
    "# define training strategy via per sample or per batch\n",
    "def train_sample(batch):\n",
    "    ''' \n",
    "    function to train via each sample\n",
    "    '''\n",
    "        \n",
    "    # for each experience in the batch, update the network with new q_update\n",
    "    for state, action, reward, state_next, terminal in batch:\n",
    "        \n",
    "        # q_target is reward if terminal \n",
    "        q_update = reward\n",
    "        \n",
    "        # else q_target is the discounted reward \n",
    "        if not terminal:\n",
    "            q_update = (reward + GAMMA * np.amax(model.predict(state_next)[0]))\n",
    "            \n",
    "        # Get the vector of Q_target = [Q_target(1), Q_target(2)], only the Q_target index of the action is updated \n",
    "        q_values = model.predict(state)\n",
    "        q_values[0][action] = q_update\n",
    "        \n",
    "        # Fit a single sample to the model\n",
    "        model.fit(state, q_values, verbose=0)\n",
    "\n",
    "def train_batch(batch):\n",
    "    ''' \n",
    "    function to train via each batch\n",
    "    '''\n",
    "    # Initialise list of target Q and states\n",
    "    target_Q = []\n",
    "    state_train = []\n",
    "\n",
    "    # Extract each parameter from batch\n",
    "    for state, action, reward, state_next, done in batch:\n",
    "\n",
    "        # add states to list\n",
    "        state_train.append(state[0])\n",
    "\n",
    "        # Add the target Q to list\n",
    "        if done:\n",
    "            Q_values = model.predict(state)\n",
    "            Q_values[0][action] = reward\n",
    "            target_Q.append(Q_values[0])\n",
    "        else:\n",
    "            Q_values = model.predict(state)\n",
    "            Q_values[0][action] = reward + GAMMA * np.max(model.predict(state_next)[0])\n",
    "            target_Q.append(Q_values[0])\n",
    "\n",
    "    # turn states and target Q in numpy arrays\n",
    "    state_train = np.array(state_train)\n",
    "    target_Q = np.array(target_Q)\n",
    "    \n",
    "    # Fit a a batch of results\n",
    "    history = model.fit(state_train, target_Q, verbose=0)\n",
    "    \n",
    "    return history.history['loss'][0]"
   ]
  },
  {
   "cell_type": "code",
   "execution_count": 13,
   "metadata": {},
   "outputs": [],
   "source": [
    "### Learning function ###\n",
    "\n",
    "def experience_replay():\n",
    "    \n",
    "    global exploration_rate\n",
    "    \n",
    "    # Start training only if memeory size has reached beyond batch size\n",
    "    if len(memory) < BATCH_SIZE:\n",
    "        return 0\n",
    "    \n",
    "    # Take a sample batch from the memory\n",
    "    batch = random.sample(memory, BATCH_SIZE)\n",
    "    \n",
    "    # train procedure\n",
    "    loss = train_batch(batch)\n",
    "        \n",
    "    # Reduce the exploration \n",
    "    exploration_rate *= EXPLORATION_DECAY\n",
    "    exploration_rate = max(EXPLORATION_MIN, exploration_rate)\n",
    "    \n",
    "    return loss"
   ]
  },
  {
   "cell_type": "code",
   "execution_count": 20,
   "metadata": {},
   "outputs": [],
   "source": [
    "def test(model, n_episodes):\n",
    "    ''' \n",
    "    function to test the result of the model for n_episodes and return average\n",
    "    rewards\n",
    "    '''\n",
    "    # store average rewards\n",
    "    avg_rewards = 0\n",
    "\n",
    "    for i in range(1, n_episodes+1):\n",
    "\n",
    "        state = env.reset()\n",
    "        done = False \n",
    "        total_rewards = 0\n",
    "        step = 0 \n",
    "            \n",
    "        # until done \n",
    "        while not done:\n",
    "            \n",
    "            # take an action in the max q_table\n",
    "            action = np.argmax(model.predict(np.array([state]))[0])\n",
    "            state, reward, done, info = env.step(action)\n",
    "            \n",
    "            # acculmulate rewards\n",
    "            total_rewards += reward\n",
    "            step += 1\n",
    "            \n",
    "            # End the epsiode if step > 200 \n",
    "            if step > 200:\n",
    "                done = True\n",
    "            \n",
    "        avg_rewards = avg_rewards + 1/(i) * (total_rewards - avg_rewards)\n",
    "          \n",
    "    return avg_rewards"
   ]
  },
  {
   "cell_type": "code",
   "execution_count": 15,
   "metadata": {
    "scrolled": true
   },
   "outputs": [
    {
     "name": "stdout",
     "output_type": "stream",
     "text": [
      "Run: 1, exploration: 1.0, average score: 9.6\n",
      "Run: 2, exploration: 0.960693043575437, average score: 22.8\n",
      "Run: 3, exploration: 0.8955869907338783, average score: 11.0\n",
      "Run: 4, exploration: 0.798065677681905, average score: 9.4\n",
      "Run: 5, exploration: 0.6629680834613705, average score: 9.4\n",
      "Run: 6, exploration: 0.6149486215357263, average score: 8.6\n",
      "Run: 7, exploration: 0.500708706245853, average score: 9.6\n",
      "Run: 8, exploration: 0.47622912292284103, average score: 9.2\n",
      "Run: 9, exploration: 0.43296668905325736, average score: 9.4\n",
      "Run: 10, exploration: 0.40769130904675194, average score: 9.2\n",
      "Run: 11, exploration: 0.38389143477919885, average score: 9.2\n",
      "Run: 12, exploration: 0.36512303261753626, average score: 9.4\n",
      "Run: 13, exploration: 0.3472722151889232, average score: 9.4\n",
      "Run: 14, exploration: 0.32864265128599696, average score: 9.0\n",
      "Run: 15, exploration: 0.3063705780533402, average score: 9.4\n",
      "Run: 16, exploration: 0.2913921604631864, average score: 9.2\n",
      "Run: 17, exploration: 0.2757603055760701, average score: 9.4\n",
      "Run: 18, exploration: 0.25966219297210513, average score: 9.4\n",
      "Run: 19, exploration: 0.24820838415550486, average score: 9.8\n",
      "Run: 20, exploration: 0.23489314109365644, average score: 9.2\n",
      "Run: 21, exploration: 0.21570623976979014, average score: 9.6\n",
      "Run: 22, exploration: 0.20722748400265262, average score: 9.2\n",
      "Run: 23, exploration: 0.19709615934585656, average score: 9.4\n",
      "Run: 24, exploration: 0.18559023879528855, average score: 9.2\n",
      "Run: 25, exploration: 0.17475600159032884, average score: 9.0\n",
      "Run: 26, exploration: 0.16291280823111093, average score: 10.0\n",
      "Run: 27, exploration: 0.15417328217978102, average score: 9.0\n",
      "Run: 28, exploration: 0.1451730787173275, average score: 9.6\n",
      "Run: 29, exploration: 0.138769433003975, average score: 9.8\n",
      "Run: 30, exploration: 0.13264825480308728, average score: 8.6\n",
      "Run: 31, exploration: 0.1261630989318213, average score: 9.2\n",
      "Run: 32, exploration: 0.11999500148501063, average score: 9.2\n",
      "Run: 33, exploration: 0.11470197137452155, average score: 9.6\n",
      "Run: 34, exploration: 0.1085487359239089, average score: 10.0\n",
      "Run: 35, exploration: 0.1032418023864836, average score: 10.6\n",
      "Run: 36, exploration: 0.1, average score: 20.8\n",
      "Run: 37, exploration: 0.1, average score: 11.8\n",
      "Run: 38, exploration: 0.1, average score: 11.4\n",
      "Run: 39, exploration: 0.1, average score: 13.4\n",
      "Run: 40, exploration: 0.1, average score: 12.4\n",
      "Run: 41, exploration: 0.1, average score: 14.4\n",
      "Run: 42, exploration: 0.1, average score: 25.0\n",
      "Run: 43, exploration: 0.1, average score: 25.4\n",
      "Run: 44, exploration: 0.1, average score: 12.8\n",
      "Run: 45, exploration: 0.1, average score: 13.2\n",
      "Run: 46, exploration: 0.1, average score: 11.4\n",
      "Run: 47, exploration: 0.1, average score: 11.6\n",
      "Run: 48, exploration: 0.1, average score: 12.8\n",
      "Run: 49, exploration: 0.1, average score: 13.4\n",
      "Run: 50, exploration: 0.1, average score: 11.6\n",
      "Run: 51, exploration: 0.1, average score: 12.4\n",
      "Run: 52, exploration: 0.1, average score: 13.6\n",
      "Run: 53, exploration: 0.1, average score: 13.4\n",
      "Run: 54, exploration: 0.1, average score: 11.8\n",
      "Run: 55, exploration: 0.1, average score: 13.4\n",
      "Run: 56, exploration: 0.1, average score: 12.8\n",
      "Run: 57, exploration: 0.1, average score: 14.4\n",
      "Run: 58, exploration: 0.1, average score: 13.4\n",
      "Run: 59, exploration: 0.1, average score: 14.4\n",
      "Run: 60, exploration: 0.1, average score: 13.6\n",
      "Run: 61, exploration: 0.1, average score: 15.8\n",
      "Run: 62, exploration: 0.1, average score: 13.6\n",
      "Run: 63, exploration: 0.1, average score: 14.2\n",
      "Run: 64, exploration: 0.1, average score: 15.0\n",
      "Run: 65, exploration: 0.1, average score: 15.0\n",
      "Run: 66, exploration: 0.1, average score: 14.4\n",
      "Run: 67, exploration: 0.1, average score: 15.0\n",
      "Run: 68, exploration: 0.1, average score: 12.4\n",
      "Run: 69, exploration: 0.1, average score: 14.0\n",
      "Run: 70, exploration: 0.1, average score: 45.6\n",
      "Run: 71, exploration: 0.1, average score: 18.0\n",
      "Run: 72, exploration: 0.1, average score: 16.0\n",
      "Run: 73, exploration: 0.1, average score: 15.4\n",
      "Run: 74, exploration: 0.1, average score: 15.4\n",
      "Run: 75, exploration: 0.1, average score: 15.8\n",
      "Run: 76, exploration: 0.1, average score: 20.0\n",
      "Run: 77, exploration: 0.1, average score: 19.4\n",
      "Run: 78, exploration: 0.1, average score: 20.2\n",
      "Run: 79, exploration: 0.1, average score: 19.4\n",
      "Run: 80, exploration: 0.1, average score: 20.8\n",
      "Run: 81, exploration: 0.1, average score: 19.6\n",
      "Run: 82, exploration: 0.1, average score: 90.4\n",
      "Run: 83, exploration: 0.1, average score: 28.4\n",
      "Run: 84, exploration: 0.1, average score: 21.4\n",
      "Run: 85, exploration: 0.1, average score: 27.4\n",
      "Run: 86, exploration: 0.1, average score: 24.8\n",
      "Run: 87, exploration: 0.1, average score: 29.0\n",
      "Run: 88, exploration: 0.1, average score: 27.8\n",
      "Run: 89, exploration: 0.1, average score: 26.8\n",
      "Run: 90, exploration: 0.1, average score: 21.8\n",
      "Run: 91, exploration: 0.1, average score: 37.4\n",
      "Run: 92, exploration: 0.1, average score: 30.2\n",
      "Run: 93, exploration: 0.1, average score: 22.2\n",
      "Run: 94, exploration: 0.1, average score: 34.2\n",
      "Run: 95, exploration: 0.1, average score: 38.0\n",
      "Run: 96, exploration: 0.1, average score: 39.8\n",
      "Run: 97, exploration: 0.1, average score: 51.0\n",
      "Run: 98, exploration: 0.1, average score: 34.0\n",
      "Run: 99, exploration: 0.1, average score: 33.8\n",
      "Run: 100, exploration: 0.1, average score: 26.8\n",
      "Run: 101, exploration: 0.1, average score: 28.4\n",
      "Run: 102, exploration: 0.1, average score: 36.6\n",
      "Run: 103, exploration: 0.1, average score: 27.2\n",
      "Run: 104, exploration: 0.1, average score: 25.2\n",
      "Run: 105, exploration: 0.1, average score: 33.4\n",
      "Run: 106, exploration: 0.1, average score: 24.4\n",
      "Run: 107, exploration: 0.1, average score: 55.8\n",
      "Run: 108, exploration: 0.1, average score: 34.2\n",
      "Run: 109, exploration: 0.1, average score: 25.4\n",
      "Run: 110, exploration: 0.1, average score: 53.0\n",
      "Run: 111, exploration: 0.1, average score: 56.0\n",
      "Run: 112, exploration: 0.1, average score: 58.2\n",
      "Run: 113, exploration: 0.1, average score: 44.4\n",
      "Run: 114, exploration: 0.1, average score: 44.6\n",
      "Run: 115, exploration: 0.1, average score: 30.8\n",
      "Run: 116, exploration: 0.1, average score: 156.6\n",
      "Run: 117, exploration: 0.1, average score: 39.8\n",
      "Run: 118, exploration: 0.1, average score: 28.2\n",
      "Run: 119, exploration: 0.1, average score: 43.2\n",
      "Run: 120, exploration: 0.1, average score: 52.8\n",
      "Run: 121, exploration: 0.1, average score: 35.8\n",
      "Run: 122, exploration: 0.1, average score: 84.8\n",
      "Run: 123, exploration: 0.1, average score: 71.4\n",
      "Run: 124, exploration: 0.1, average score: 65.8\n",
      "Run: 125, exploration: 0.1, average score: 76.2\n",
      "Run: 126, exploration: 0.1, average score: 58.4\n",
      "Run: 127, exploration: 0.1, average score: 68.4\n",
      "Run: 128, exploration: 0.1, average score: 87.2\n",
      "Run: 129, exploration: 0.1, average score: 119.8\n",
      "Run: 130, exploration: 0.1, average score: 96.4\n",
      "Run: 131, exploration: 0.1, average score: 91.6\n",
      "Run: 132, exploration: 0.1, average score: 100.8\n",
      "Run: 133, exploration: 0.1, average score: 136.6\n",
      "Run: 134, exploration: 0.1, average score: 50.4\n",
      "Run: 135, exploration: 0.1, average score: 87.4\n",
      "Run: 136, exploration: 0.1, average score: 119.2\n",
      "Run: 137, exploration: 0.1, average score: 119.6\n",
      "Run: 138, exploration: 0.1, average score: 112.6\n",
      "Run: 139, exploration: 0.1, average score: 85.6\n",
      "Run: 140, exploration: 0.1, average score: 121.0\n",
      "Run: 141, exploration: 0.1, average score: 91.8\n",
      "Run: 142, exploration: 0.1, average score: 112.6\n",
      "Run: 143, exploration: 0.1, average score: 98.8\n",
      "Run: 144, exploration: 0.1, average score: 111.0\n",
      "Run: 145, exploration: 0.1, average score: 114.2\n",
      "Run: 146, exploration: 0.1, average score: 183.6\n",
      "Run: 147, exploration: 0.1, average score: 166.2\n",
      "Run: 148, exploration: 0.1, average score: 149.2\n",
      "Run: 149, exploration: 0.1, average score: 246.0\n",
      "Run: 150, exploration: 0.1, average score: 1.0\n",
      "Run: 151, exploration: 0.1, average score: 284.6\n",
      "Run: 152, exploration: 0.1, average score: 1.0\n",
      "Run: 153, exploration: 0.1, average score: 183.4\n",
      "Run: 154, exploration: 0.1, average score: 174.4\n",
      "Run: 155, exploration: 0.1, average score: 262.2\n",
      "Run: 156, exploration: 0.1, average score: 1.0\n",
      "Run: 157, exploration: 0.1, average score: 155.2\n",
      "Run: 158, exploration: 0.1, average score: 313.4\n",
      "Run: 159, exploration: 0.1, average score: 251.0\n",
      "Run: 160, exploration: 0.1, average score: 201.4\n",
      "Run: 161, exploration: 0.1, average score: 179.8\n",
      "Run: 162, exploration: 0.1, average score: 330.6\n",
      "Run: 163, exploration: 0.1, average score: 347.4\n"
     ]
    },
    {
     "name": "stdout",
     "output_type": "stream",
     "text": [
      "Run: 164, exploration: 0.1, average score: 170.0\n",
      "Run: 165, exploration: 0.1, average score: 1.0\n",
      "Run: 166, exploration: 0.1, average score: 1.0\n",
      "Run: 167, exploration: 0.1, average score: 1.0\n",
      "Run: 168, exploration: 0.1, average score: 1.0\n",
      "Run: 169, exploration: 0.1, average score: 301.2\n",
      "Run: 170, exploration: 0.1, average score: 1.0\n",
      "Run: 171, exploration: 0.1, average score: 1.0\n",
      "Run: 172, exploration: 0.1, average score: 241.4\n",
      "Run: 173, exploration: 0.1, average score: 195.2\n",
      "Run: 174, exploration: 0.1, average score: 1.0\n",
      "Run: 175, exploration: 0.1, average score: 1.0\n",
      "Run: 176, exploration: 0.1, average score: 204.8\n",
      "Run: 177, exploration: 0.1, average score: 1.0\n",
      "Run: 178, exploration: 0.1, average score: 183.4\n",
      "Run: 179, exploration: 0.1, average score: 210.6\n",
      "Run: 180, exploration: 0.1, average score: 288.2\n",
      "Run: 181, exploration: 0.1, average score: 276.8\n",
      "Run: 182, exploration: 0.1, average score: 247.8\n",
      "Run: 183, exploration: 0.1, average score: 1.0\n",
      "Run: 184, exploration: 0.1, average score: 1.0\n",
      "Run: 185, exploration: 0.1, average score: 1.0\n",
      "Run: 186, exploration: 0.1, average score: 249.0\n",
      "Run: 187, exploration: 0.1, average score: 1.0\n",
      "Run: 188, exploration: 0.1, average score: 1.0\n",
      "Run: 189, exploration: 0.1, average score: 1.0\n",
      "Run: 190, exploration: 0.1, average score: 230.8\n",
      "Run: 191, exploration: 0.1, average score: 238.2\n",
      "Run: 192, exploration: 0.1, average score: 1.0\n",
      "Run: 193, exploration: 0.1, average score: 196.0\n",
      "Run: 194, exploration: 0.1, average score: 202.4\n",
      "Run: 195, exploration: 0.1, average score: 223.4\n",
      "Run: 196, exploration: 0.1, average score: 1.0\n",
      "Run: 197, exploration: 0.1, average score: 158.4\n",
      "Run: 198, exploration: 0.1, average score: 151.0\n",
      "Run: 199, exploration: 0.1, average score: 218.4\n",
      "Run: 200, exploration: 0.1, average score: 1.0\n",
      "Done Training!\n"
     ]
    }
   ],
   "source": [
    "### Learning in the environment ###\n",
    "\n",
    "# Initialise the run\n",
    "memory = deque(maxlen=MEMORY_SIZE)\n",
    "run = 0\n",
    "N = 200\n",
    "\n",
    "# Initialise score capture\n",
    "run_list = []\n",
    "avg_score_list = []\n",
    "step_list = []\n",
    "loss_list = []\n",
    "\n",
    "# Run for N episodes\n",
    "for i in range(0,N):\n",
    "    \n",
    "    # update run number\n",
    "    run += 1\n",
    "    \n",
    "    # Initialise environment \n",
    "    state = env.reset()\n",
    "    terminal = False\n",
    "    state = np.reshape(state, [1, observation_space])\n",
    "    step = 0\n",
    "    \n",
    "    # Run each episode\n",
    "    while not terminal:\n",
    "        \n",
    "        # update the step number \n",
    "        step += 1\n",
    "        \n",
    "        # choose an action\n",
    "        action = act(state)\n",
    "        \n",
    "        # Take a step\n",
    "        state_next, reward, terminal, info = env.step(action)\n",
    "        \n",
    "        # Reward negatively if episode ended\n",
    "        reward = reward if not terminal else -reward\n",
    "        \n",
    "        # reshape state_next to format of model.predict()\n",
    "        state_next = np.reshape(state_next, [1, observation_space])\n",
    "        \n",
    "        # Add experience to memory\n",
    "        remember(state, action, reward, state_next, terminal)\n",
    "        \n",
    "        # set next state\n",
    "        state = state_next\n",
    "        \n",
    "        # End the epsiode if step > 200 \n",
    "        if step > 200:\n",
    "            terminal = True\n",
    "        \n",
    "        # Print message at the end of every episode \n",
    "        if terminal:\n",
    "            avg_rewards = test(model, 5)\n",
    "            \n",
    "            # append history of score\n",
    "            run_list.append(run)\n",
    "            step_list.append(step)\n",
    "            avg_score_list.append(avg_rewards)\n",
    "            \n",
    "            print(\"Run: \" + str(run) + \", exploration: \" + str(exploration_rate) + \", average score: \" + str(avg_rewards))\n",
    "\n",
    "        # Train for a batch of batch size \n",
    "        loss = experience_replay()\n",
    "        loss_list.append(loss)\n",
    "    \n",
    "print('Done Training!')        "
   ]
  },
  {
   "cell_type": "code",
   "execution_count": 16,
   "metadata": {},
   "outputs": [
    {
     "data": {
      "image/png": "[encoded data removed]",
      "text/plain": [
       "<Figure size 432x288 with 1 Axes>"
      ]
     },
     "metadata": {
      "needs_background": "light"
     },
     "output_type": "display_data"
    }
   ],
   "source": [
    "# plot result\n",
    "plt.plot(run_list, avg_score_list, run_list, step_list)\n",
    "plt.ylabel('Scores')\n",
    "plt.xlabel('Runs')\n",
    "plt.legend(['Average Rewards', 'Steps'])\n",
    "plt.show()"
   ]
  },
  {
   "cell_type": "code",
   "execution_count": 17,
   "metadata": {},
   "outputs": [
    {
     "data": {
      "image/png": "[encoded data removed]",
      "text/plain": [
       "<Figure size 432x288 with 1 Axes>"
      ]
     },
     "metadata": {
      "needs_background": "light"
     },
     "output_type": "display_data"
    }
   ],
   "source": [
    "# plot loss\n",
    "plt.plot(loss_list)\n",
    "plt.ylabel('Loss')\n",
    "plt.xlabel('Steps')\n",
    "plt.show()"
   ]
  },
  {
   "cell_type": "code",
   "execution_count": 21,
   "metadata": {},
   "outputs": [
    {
     "name": "stdout",
     "output_type": "stream",
     "text": [
      "After 50 episodes, the average score is 199.20000000000002\n"
     ]
    }
   ],
   "source": [
    "# run test\n",
    "n_episodes = 50\n",
    "avg_rewards = test(model, n_episodes)\n",
    "print(\"After \" + str(n_episodes) + \" episodes, the average score is \" + str(avg_rewards))"
   ]
  },
  {
   "cell_type": "code",
   "execution_count": 19,
   "metadata": {},
   "outputs": [
    {
     "data": {
      "text/plain": [
       "10000"
      ]
     },
     "execution_count": 19,
     "metadata": {},
     "output_type": "execute_result"
    }
   ],
   "source": [
    "len(memory)"
   ]
  }
 ],
 "metadata": {
  "kernelspec": {
   "display_name": "Python 3",
   "language": "python",
   "name": "python3"
  },
  "language_info": {
   "codemirror_mode": {
    "name": "ipython",
    "version": 3
   },
   "file_extension": ".py",
   "mimetype": "text/x-python",
   "name": "python",
   "nbconvert_exporter": "python",
   "pygments_lexer": "ipython3",
   "version": "3.7.3"
  },
  "varInspector": {
   "cols": {
    "lenName": 16,
    "lenType": 16,
    "lenVar": 40
   },
   "kernels_config": {
    "python": {
     "delete_cmd_postfix": "",
     "delete_cmd_prefix": "del ",
     "library": "var_list.py",
     "varRefreshCmd": "print(var_dic_list())"
    },
    "r": {
     "delete_cmd_postfix": ") ",
     "delete_cmd_prefix": "rm(",
     "library": "var_list.r",
     "varRefreshCmd": "cat(var_dic_list()) "
    }
   },
   "oldHeight": 278.86,
   "position": {
    "height": "40px",
    "left": "1004px",
    "right": "20px",
    "top": "76px",
    "width": "350px"
   },
   "types_to_exclude": [
    "module",
    "function",
    "builtin_function_or_method",
    "instance",
    "_Feature"
   ],
   "varInspector_section_display": "none",
   "window_display": true
  }
 },
 "nbformat": 4,
 "nbformat_minor": 2
}
