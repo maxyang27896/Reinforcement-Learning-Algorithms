{
 "cells": [
  {
   "cell_type": "markdown",
   "metadata": {},
   "source": [
    "# Deep Q-Learning For Cartpole "
   ]
  },
  {
   "cell_type": "code",
   "execution_count": 2,
   "metadata": {},
   "outputs": [],
   "source": [
    "# Import Packages\n",
    "import random\n",
    "import gym\n",
    "import numpy as np\n",
    "from collections import deque\n",
    "import matplotlib.pyplot as plt\n",
    "\n",
    "import tensorflow as tf\n",
    "from tensorflow.keras.optimizers import Adam"
   ]
  },
  {
   "cell_type": "code",
   "execution_count": 3,
   "metadata": {},
   "outputs": [
    {
     "name": "stdout",
     "output_type": "stream",
     "text": [
      "Num GPUs Available:  1\n",
      "Num GPUs Available:  0\n"
     ]
    }
   ],
   "source": [
    "print(\"Num GPUs Available: \", len(tf.config.experimental.list_physical_devices('CPU')))\n",
    "print(\"Num GPUs Available: \", len(tf.config.experimental.list_physical_devices('GPU')))"
   ]
  },
  {
   "cell_type": "code",
   "execution_count": 4,
   "metadata": {},
   "outputs": [],
   "source": [
    "# create the envirnment\n",
    "env = gym.make(\"CartPole-v1\")"
   ]
  },
  {
   "cell_type": "code",
   "execution_count": 5,
   "metadata": {},
   "outputs": [
    {
     "name": "stdout",
     "output_type": "stream",
     "text": [
      "The observation space is:  4\n",
      "The action space:  2\n"
     ]
    }
   ],
   "source": [
    "# Get the observation space and actionn space\n",
    "observation_space = env.observation_space.shape[0]\n",
    "action_space = env.action_space.n\n",
    "\n",
    "print('The observation space is: ', observation_space)\n",
    "print('The action space: ', action_space)"
   ]
  },
  {
   "cell_type": "code",
   "execution_count": 6,
   "metadata": {},
   "outputs": [
    {
     "name": "stdout",
     "output_type": "stream",
     "text": [
      "Next_state:  [-0.02341375  0.18302703  0.03236985 -0.29296016]\n",
      "Rewards: 1.0\n"
     ]
    }
   ],
   "source": [
    "# Test environment\n",
    "state = env.reset()\n",
    "state_next, reward, terminal, info = env.step(env.action_space.sample())\n",
    "print('Next_state: ', state_next)\n",
    "print('Rewards:',   reward)"
   ]
  },
  {
   "cell_type": "code",
   "execution_count": 9,
   "metadata": {},
   "outputs": [],
   "source": [
    "# Parameters\n",
    "GAMMA = 0.95                       # discount factor\n",
    "LEARNING_RATE = 0.001              # learning rate for optimiser\n",
    "\n",
    "MEMORY_SIZE = 10000                # memeory size of the deque\n",
    "BATCH_SIZE = 20                    # Batch size for training \n",
    "\n",
    "EXPLORATION_MAX = 1.0              \n",
    "EXPLORATION_MIN = 0.1\n",
    "EXPLORATION_DECAY = 0.995\n",
    "\n",
    "exploration_rate = EXPLORATION_MAX"
   ]
  },
  {
   "cell_type": "code",
   "execution_count": 10,
   "metadata": {},
   "outputs": [
    {
     "name": "stdout",
     "output_type": "stream",
     "text": [
      "Model: \"sequential_1\"\n",
      "_________________________________________________________________\n",
      "Layer (type)                 Output Shape              Param #   \n",
      "=================================================================\n",
      "dense_3 (Dense)              (None, 24)                120       \n",
      "_________________________________________________________________\n",
      "dense_4 (Dense)              (None, 24)                600       \n",
      "_________________________________________________________________\n",
      "dense_5 (Dense)              (None, 2)                 50        \n",
      "=================================================================\n",
      "Total params: 770\n",
      "Trainable params: 770\n",
      "Non-trainable params: 0\n",
      "_________________________________________________________________\n"
     ]
    }
   ],
   "source": [
    "# create the model\n",
    "model = tf.keras.models.Sequential()\n",
    "model.add(tf.keras.layers.Dense(24, input_shape=(observation_space,), activation=\"relu\"))\n",
    "model.add(tf.keras.layers.Dense(24, activation=\"relu\"))\n",
    "model.add(tf.keras.layers.Dense(action_space, activation=\"linear\"))\n",
    "model.compile(loss=\"mse\", optimizer=Adam(lr=LEARNING_RATE))\n",
    "\n",
    "model.summary()"
   ]
  },
  {
   "cell_type": "code",
   "execution_count": 11,
   "metadata": {},
   "outputs": [],
   "source": [
    "# Append experience to memory\n",
    "def remember(state, action, reward, next_state, done):\n",
    "    memory.append((state, action, reward, next_state, done))"
   ]
  },
  {
   "cell_type": "code",
   "execution_count": 12,
   "metadata": {},
   "outputs": [],
   "source": [
    "# Function to retuen an action based on the state\n",
    "def act(state):\n",
    "    \n",
    "    # Return random action if epsilon \n",
    "    if np.random.rand() < exploration_rate:\n",
    "        return random.randrange(action_space)\n",
    "    \n",
    "    # Else return the action predicted by model\n",
    "    q_values = model.predict(state)\n",
    "    \n",
    "    return np.argmax(q_values[0])"
   ]
  },
  {
   "cell_type": "code",
   "execution_count": 14,
   "metadata": {},
   "outputs": [],
   "source": [
    "# define training strategy\n",
    "def train_sample(batch):\n",
    "    ''' \n",
    "    function to train via each sample\n",
    "    '''\n",
    "        \n",
    "    # for each experience in the batch, update the network with new q_update\n",
    "    for state, action, reward, state_next, terminal in batch:\n",
    "        \n",
    "        # q_target is reward if terminal \n",
    "        q_update = reward\n",
    "        \n",
    "        # else q_target is the discounted reward \n",
    "        if not terminal:\n",
    "            q_update = (reward + GAMMA * np.amax(model.predict(state_next)[0]))\n",
    "            \n",
    "        # Get the vector of Q_target = [Q_target(1), Q_target(2)], only the Q_target index of the action is updated \n",
    "        q_values = model.predict(state)\n",
    "        q_values[0][action] = q_update\n",
    "        \n",
    "        # Fit a single sample to the model\n",
    "        model.fit(state, q_values, verbose=0)\n",
    "\n",
    "def train_batch:\n",
    "    ''' \n",
    "    function to train via each sample\n",
    "    '''\n",
    "    # Initialise list of target Q and states\n",
    "    target_Q = []\n",
    "    state_train = []\n",
    "\n",
    "    # Extract each parameter from batch\n",
    "    for state, action, reward, state_next, done in batch:\n",
    "\n",
    "        # add states to list\n",
    "        state_train.append(state)\n",
    "\n",
    "        # Add the target Q to list\n",
    "        if done:\n",
    "            Q_values = model.predict(state[tf.newaxis,...])\n",
    "            Q_values[0][action] = reward\n",
    "            target_Q.append(Q_values[0])\n",
    "        else:\n",
    "            Q_values = model.predict(state[tf.newaxis,...])\n",
    "            Q_values[0][action] = reward + GAMMA * np.max(model.predict(state_next)[0])\n",
    "            target_Q.append(Q_values[0])\n",
    "\n",
    "    # turn states and target Q in numpy arrays\n",
    "    state_train = np.array(state_train)\n",
    "    target_Q = np.array(target_Q)\n",
    "    \n",
    "    # Fit a a batch of results\n",
    "    model.fit(state, q_values, verbose=0)"
   ]
  },
  {
   "cell_type": "code",
   "execution_count": 18,
   "metadata": {},
   "outputs": [],
   "source": [
    "### Learning function ###\n",
    "\n",
    "def experience_replay():\n",
    "    \n",
    "    global exploration_rate\n",
    "    \n",
    "    # Start training only if memeory size has reached beyond batch size\n",
    "    if len(memory) < BATCH_SIZE:\n",
    "        return\n",
    "    \n",
    "    # Take a sample batch from the memory\n",
    "    batch = random.sample(memory, BATCH_SIZE)\n",
    "    \n",
    "    # train procedure\n",
    "    train_sample(batch)\n",
    "        \n",
    "    # Reduce the exploration \n",
    "    exploration_rate *= EXPLORATION_DECAY\n",
    "    exploration_rate = max(EXPLORATION_MIN, exploration_rate)\n"
   ]
  },
  {
   "cell_type": "code",
   "execution_count": 19,
   "metadata": {},
   "outputs": [],
   "source": [
    "def test(model, n_episodes):\n",
    "    ''' \n",
    "    function to test the result of the model for n_episodes and return average\n",
    "    rewards\n",
    "    '''\n",
    "    \n",
    "    # store average rewards\n",
    "    avg_rewards = 0\n",
    "    \n",
    "    for i in range(1, n_episodes+1):\n",
    "\n",
    "        state = env.reset()\n",
    "        done = False \n",
    "        total_rewards = 0\n",
    "        \n",
    "        # until done \n",
    "        while not done:\n",
    "            \n",
    "            # take an action in the max q_table\n",
    "            action = np.argmax(model.predict(np.array([state]))[0])\n",
    "            state, reward, done, info = env.step(action)\n",
    "            \n",
    "            # acculmulate rewards\n",
    "            total_rewards += reward\n",
    "        \n",
    "        avg_rewards = avg_rewards + 1/(i) * (total_rewards - avg_rewards)\n",
    "          \n",
    "    return avg_rewards"
   ]
  },
  {
   "cell_type": "code",
   "execution_count": 20,
   "metadata": {
    "scrolled": false
   },
   "outputs": [
    {
     "name": "stdout",
     "output_type": "stream",
     "text": [
      "Run: 1, exploration: 1.0, average score: 10.2\n",
      "Run: 2, exploration: 0.918316468354365, average score: 9.4\n",
      "Run: 3, exploration: 0.8142285204175609, average score: 10.0\n",
      "Run: 4, exploration: 0.6662995813682115, average score: 9.6\n",
      "Run: 5, exploration: 0.6274028820538087, average score: 9.4\n",
      "Run: 6, exploration: 0.5732736268885887, average score: 8.6\n",
      "Run: 7, exploration: 0.5371084840724134, average score: 9.4\n",
      "Run: 8, exploration: 0.5032248303978422, average score: 9.2\n",
      "Run: 9, exploration: 0.47622912292284103, average score: 9.4\n",
      "Run: 10, exploration: 0.45522245551230495, average score: 9.6\n",
      "Run: 11, exploration: 0.4351424010585501, average score: 10.0\n",
      "Run: 12, exploration: 0.4117990041127769, average score: 9.4\n",
      "Run: 13, exploration: 0.39166620452737816, average score: 9.4\n",
      "Run: 14, exploration: 0.3472722151889232, average score: 9.6\n",
      "Run: 15, exploration: 0.3237376186352221, average score: 9.2\n",
      "Run: 16, exploration: 0.29580711868545667, average score: 8.8\n",
      "Run: 17, exploration: 0.2743815040481898, average score: 9.6\n",
      "Run: 18, exploration: 0.2609670281126685, average score: 8.8\n",
      "Run: 19, exploration: 0.24696734223472733, average score: 9.2\n",
      "Run: 20, exploration: 0.231387331601191, average score: 10.0\n",
      "Run: 21, exploration: 0.22007483514733558, average score: 9.4\n",
      "Run: 22, exploration: 0.20619134658263935, average score: 9.8\n",
      "Run: 23, exploration: 0.19611067854912728, average score: 9.2\n",
      "Run: 24, exploration: 0.18559023879528855, average score: 9.6\n",
      "Run: 25, exploration: 0.1756341724525918, average score: 10.0\n",
      "Run: 26, exploration: 0.16704744067563246, average score: 9.6\n",
      "Run: 27, exploration: 0.15888051309497406, average score: 9.4\n",
      "Run: 28, exploration: 0.1518722266715875, average score: 9.8\n",
      "Run: 29, exploration: 0.14444721332374086, average score: 247.0\n",
      "Run: 30, exploration: 0.13738520790976036, average score: 9.2\n",
      "Run: 31, exploration: 0.13001512070402377, average score: 9.6\n",
      "Run: 32, exploration: 0.12242520289863423, average score: 9.6\n",
      "Run: 33, exploration: 0.11527836319047392, average score: 8.6\n",
      "Run: 34, exploration: 0.11019338598389174, average score: 9.4\n",
      "Run: 35, exploration: 0.10480604571960442, average score: 9.6\n",
      "Run: 36, exploration: 0.1, average score: 9.8\n",
      "Run: 37, exploration: 0.1, average score: 9.4\n",
      "Run: 38, exploration: 0.1, average score: 9.6\n",
      "Run: 39, exploration: 0.1, average score: 9.4\n",
      "Run: 40, exploration: 0.1, average score: 9.2\n",
      "Run: 41, exploration: 0.1, average score: 8.6\n",
      "Run: 42, exploration: 0.1, average score: 9.0\n",
      "Run: 43, exploration: 0.1, average score: 9.6\n",
      "Run: 44, exploration: 0.1, average score: 9.8\n",
      "Run: 45, exploration: 0.1, average score: 9.2\n",
      "Run: 46, exploration: 0.1, average score: 9.0\n",
      "Run: 47, exploration: 0.1, average score: 26.0\n",
      "Run: 48, exploration: 0.1, average score: 22.8\n",
      "Run: 49, exploration: 0.1, average score: 20.2\n",
      "Run: 50, exploration: 0.1, average score: 107.8\n",
      "Run: 51, exploration: 0.1, average score: 64.8\n",
      "Run: 52, exploration: 0.1, average score: 86.0\n",
      "Run: 53, exploration: 0.1, average score: 101.4\n",
      "Run: 54, exploration: 0.1, average score: 20.0\n",
      "Run: 55, exploration: 0.1, average score: 129.6\n",
      "Run: 56, exploration: 0.1, average score: 35.4\n",
      "Run: 57, exploration: 0.1, average score: 21.6\n",
      "Run: 58, exploration: 0.1, average score: 9.2\n",
      "Run: 59, exploration: 0.1, average score: 11.0\n",
      "Run: 60, exploration: 0.1, average score: 10.4\n",
      "Run: 61, exploration: 0.1, average score: 25.0\n",
      "Run: 62, exploration: 0.1, average score: 129.8\n",
      "Run: 63, exploration: 0.1, average score: 20.0\n",
      "Run: 64, exploration: 0.1, average score: 76.4\n",
      "Run: 65, exploration: 0.1, average score: 46.4\n",
      "Run: 66, exploration: 0.1, average score: 39.0\n",
      "Run: 67, exploration: 0.1, average score: 17.0\n",
      "Run: 68, exploration: 0.1, average score: 8.6\n",
      "Run: 69, exploration: 0.1, average score: 8.6\n",
      "Run: 70, exploration: 0.1, average score: 9.8\n",
      "Run: 71, exploration: 0.1, average score: 260.6\n",
      "Run: 72, exploration: 0.1, average score: 130.2\n",
      "Run: 73, exploration: 0.1, average score: 163.6\n",
      "Run: 74, exploration: 0.1, average score: 114.4\n",
      "Run: 75, exploration: 0.1, average score: 96.0\n",
      "Run: 76, exploration: 0.1, average score: 56.2\n",
      "Run: 77, exploration: 0.1, average score: 147.2\n",
      "Run: 78, exploration: 0.1, average score: 43.2\n",
      "Run: 79, exploration: 0.1, average score: 12.8\n",
      "Run: 80, exploration: 0.1, average score: 27.8\n",
      "Run: 81, exploration: 0.1, average score: 59.6\n",
      "Run: 82, exploration: 0.1, average score: 57.0\n",
      "Run: 83, exploration: 0.1, average score: 15.0\n",
      "Run: 84, exploration: 0.1, average score: 64.6\n",
      "Run: 85, exploration: 0.1, average score: 10.4\n",
      "Run: 86, exploration: 0.1, average score: 29.0\n",
      "Run: 87, exploration: 0.1, average score: 38.4\n",
      "Run: 88, exploration: 0.1, average score: 25.2\n",
      "Run: 89, exploration: 0.1, average score: 12.0\n",
      "Run: 90, exploration: 0.1, average score: 162.4\n",
      "Run: 91, exploration: 0.1, average score: 19.6\n",
      "Run: 92, exploration: 0.1, average score: 86.2\n",
      "Run: 93, exploration: 0.1, average score: 78.2\n",
      "Run: 94, exploration: 0.1, average score: 500.0\n",
      "Run: 95, exploration: 0.1, average score: 330.8\n",
      "Run: 96, exploration: 0.1, average score: 137.6\n",
      "Run: 97, exploration: 0.1, average score: 273.8\n",
      "Run: 98, exploration: 0.1, average score: 273.8\n",
      "Run: 99, exploration: 0.1, average score: 114.0\n",
      "Run: 100, exploration: 0.1, average score: 173.6\n",
      "Done Training!\n"
     ]
    }
   ],
   "source": [
    "### Learning in the environment ###\n",
    "\n",
    "# Initialise the run\n",
    "memory = deque(maxlen=MEMORY_SIZE)\n",
    "run = 0\n",
    "N = 100\n",
    "\n",
    "# Initialise score capture\n",
    "run_list = []\n",
    "avg_score_list = []\n",
    "step_list = []\n",
    "\n",
    "# Run for N episodes\n",
    "for i in range(0,N):\n",
    "    \n",
    "    # update run number\n",
    "    run += 1\n",
    "    \n",
    "    # Initialise environment \n",
    "    state = env.reset()\n",
    "    terminal = False\n",
    "    state = np.reshape(state, [1, observation_space])\n",
    "    step = 0\n",
    "    \n",
    "    # Run each episode\n",
    "    while not terminal:\n",
    "        \n",
    "        # update the step number \n",
    "        step += 1\n",
    "        \n",
    "        # choose an action\n",
    "        action = act(state)\n",
    "        \n",
    "        # Take a step\n",
    "        state_next, reward, terminal, info = env.step(action)\n",
    "        \n",
    "        # Reward negatively if episode ended\n",
    "        reward = reward if not terminal else -reward\n",
    "        \n",
    "        # reshape state_next to format of model.predict()\n",
    "        state_next = np.reshape(state_next, [1, observation_space])\n",
    "        \n",
    "        # Add experience to memory\n",
    "        remember(state, action, reward, state_next, terminal)\n",
    "        \n",
    "        # set next state\n",
    "        state = state_next\n",
    "        \n",
    "        # End the epsiode if step > 200 \n",
    "        if step > 200:\n",
    "            terminal = True\n",
    "        \n",
    "        # Print message at the end of every episode \n",
    "        if terminal:\n",
    "            avg_rewards = test(model, 5)\n",
    "            \n",
    "            # append history of score\n",
    "            run_list.append(run)\n",
    "            step_list.append(step)\n",
    "            avg_score_list.append(avg_rewards)\n",
    "            \n",
    "            print(\"Run: \" + str(run) + \", exploration: \" + str(exploration_rate) + \", average score: \" + str(avg_rewards))\n",
    "\n",
    "        # Train for a batch of batch size \n",
    "        experience_replay()\n",
    "    \n",
    "print('Done Training!')        "
   ]
  },
  {
   "cell_type": "code",
   "execution_count": 21,
   "metadata": {},
   "outputs": [
    {
     "data": {
      "image/png": "[encoded data removed]",
      "text/plain": [
       "<Figure size 432x288 with 1 Axes>"
      ]
     },
     "metadata": {
      "needs_background": "light"
     },
     "output_type": "display_data"
    }
   ],
   "source": [
    "# plot \n",
    "plt.plot(run_list, avg_score_list, run_list, step_list)\n",
    "plt.ylabel('Scores')\n",
    "plt.xlabel('Runs')\n",
    "plt.legend(['Average Rewards', 'Steps'])\n",
    "plt.show()"
   ]
  },
  {
   "cell_type": "code",
   "execution_count": 22,
   "metadata": {},
   "outputs": [
    {
     "name": "stdout",
     "output_type": "stream",
     "text": [
      "After 50 episodes, the average score is 159.22\n"
     ]
    }
   ],
   "source": [
    "# run test\n",
    "n_episodes = 50\n",
    "avg_rewards = test(model, n_episodes)\n",
    "print(\"After \" + str(n_episodes) + \" episodes, the average score is \" + str(avg_rewards))"
   ]
  },
  {
   "cell_type": "code",
   "execution_count": 23,
   "metadata": {},
   "outputs": [
    {
     "data": {
      "text/plain": [
       "3586"
      ]
     },
     "execution_count": 23,
     "metadata": {},
     "output_type": "execute_result"
    }
   ],
   "source": [
    "len(memory)"
   ]
  }
 ],
 "metadata": {
  "kernelspec": {
   "display_name": "Python 3",
   "language": "python",
   "name": "python3"
  },
  "language_info": {
   "codemirror_mode": {
    "name": "ipython",
    "version": 3
   },
   "file_extension": ".py",
   "mimetype": "text/x-python",
   "name": "python",
   "nbconvert_exporter": "python",
   "pygments_lexer": "ipython3",
   "version": "3.7.3"
  },
  "varInspector": {
   "cols": {
    "lenName": 16,
    "lenType": 16,
    "lenVar": 40
   },
   "kernels_config": {
    "python": {
     "delete_cmd_postfix": "",
     "delete_cmd_prefix": "del ",
     "library": "var_list.py",
     "varRefreshCmd": "print(var_dic_list())"
    },
    "r": {
     "delete_cmd_postfix": ") ",
     "delete_cmd_prefix": "rm(",
     "library": "var_list.r",
     "varRefreshCmd": "cat(var_dic_list()) "
    }
   },
   "types_to_exclude": [
    "module",
    "function",
    "builtin_function_or_method",
    "instance",
    "_Feature"
   ],
   "window_display": false
  }
 },
 "nbformat": 4,
 "nbformat_minor": 2
}
