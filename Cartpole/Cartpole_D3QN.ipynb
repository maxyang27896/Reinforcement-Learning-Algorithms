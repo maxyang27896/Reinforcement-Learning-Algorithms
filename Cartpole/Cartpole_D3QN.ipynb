{
 "cells": [
  {
   "cell_type": "markdown",
   "metadata": {},
   "source": [
    "# Deep Q-Learning For Cartpole "
   ]
  },
  {
   "cell_type": "code",
   "execution_count": 1,
   "metadata": {},
   "outputs": [],
   "source": [
    "# Import Packages\n",
    "import time \n",
    "\n",
    "import random\n",
    "import gym\n",
    "import numpy as np\n",
    "from collections import deque\n",
    "import matplotlib.pyplot as plt\n",
    "\n",
    "import tensorflow as tf\n",
    "from tensorflow.keras.optimizers import Adam"
   ]
  },
  {
   "cell_type": "code",
   "execution_count": 2,
   "metadata": {},
   "outputs": [
    {
     "name": "stdout",
     "output_type": "stream",
     "text": [
      "[name: \"/device:CPU:0\"\n",
      "device_type: \"CPU\"\n",
      "memory_limit: 268435456\n",
      "locality {\n",
      "}\n",
      "incarnation: 1045638060376261632\n",
      ", name: \"/device:XLA_CPU:0\"\n",
      "device_type: \"XLA_CPU\"\n",
      "memory_limit: 17179869184\n",
      "locality {\n",
      "}\n",
      "incarnation: 15051309432244085766\n",
      "physical_device_desc: \"device: XLA_CPU device\"\n",
      "]\n"
     ]
    }
   ],
   "source": [
    "from tensorflow.python.client import device_lib \n",
    "print(device_lib.list_local_devices())"
   ]
  },
  {
   "cell_type": "code",
   "execution_count": 3,
   "metadata": {},
   "outputs": [
    {
     "name": "stdout",
     "output_type": "stream",
     "text": [
      "Num CPUs Available:  1\n",
      "Num GPUs Available:  0\n"
     ]
    }
   ],
   "source": [
    "print(\"Num CPUs Available: \", len(tf.config.experimental.list_physical_devices('CPU')))\n",
    "print(\"Num GPUs Available: \", len(tf.config.experimental.list_physical_devices('GPU')))"
   ]
  },
  {
   "cell_type": "code",
   "execution_count": 4,
   "metadata": {},
   "outputs": [],
   "source": [
    "# create the envirnment\n",
    "env = gym.make(\"CartPole-v1\")"
   ]
  },
  {
   "cell_type": "code",
   "execution_count": 5,
   "metadata": {
    "scrolled": true
   },
   "outputs": [
    {
     "name": "stdout",
     "output_type": "stream",
     "text": [
      "The observation space is:  4\n",
      "The action space:  2\n"
     ]
    }
   ],
   "source": [
    "# Get the observation space and actionn space\n",
    "observation_space = env.observation_space.shape[0]\n",
    "action_space = env.action_space.n\n",
    "\n",
    "print('The observation space is: ', observation_space)\n",
    "print('The action space: ', action_space)"
   ]
  },
  {
   "cell_type": "code",
   "execution_count": 6,
   "metadata": {},
   "outputs": [
    {
     "name": "stdout",
     "output_type": "stream",
     "text": [
      "Next_state:  [ 0.01140017 -0.21060692  0.04348403  0.2825726 ]\n",
      "Rewards: 1.0\n"
     ]
    }
   ],
   "source": [
    "# Test environment\n",
    "state = env.reset()\n",
    "state_next, reward, terminal, info = env.step(env.action_space.sample())\n",
    "print('Next_state: ', state_next)\n",
    "print('Rewards:',   reward)"
   ]
  },
  {
   "cell_type": "code",
   "execution_count": 7,
   "metadata": {},
   "outputs": [],
   "source": [
    "# Parameters\n",
    "GAMMA = 0.95                       # discount factor\n",
    "LEARNING_RATE = 0.001              # learning rate for optimiser\n",
    "\n",
    "MEMORY_SIZE = 20000                # memeory size of the deque\n",
    "BATCH_SIZE = 32                   # Batch size for training \n",
    "\n",
    "EXPLORATION_MAX = 1.0              \n",
    "EXPLORATION_MIN = 0.1\n",
    "EXPLORATION_DECAY = 0.995\n",
    "\n",
    "exploration_rate = EXPLORATION_MAX"
   ]
  },
  {
   "cell_type": "code",
   "execution_count": 8,
   "metadata": {},
   "outputs": [
    {
     "name": "stdout",
     "output_type": "stream",
     "text": [
      "Model: \"sequential\"\n",
      "_________________________________________________________________\n",
      "Layer (type)                 Output Shape              Param #   \n",
      "=================================================================\n",
      "dense (Dense)                (None, 24)                120       \n",
      "_________________________________________________________________\n",
      "dense_1 (Dense)              (None, 24)                600       \n",
      "_________________________________________________________________\n",
      "dense_2 (Dense)              (None, 2)                 50        \n",
      "=================================================================\n",
      "Total params: 770\n",
      "Trainable params: 770\n",
      "Non-trainable params: 0\n",
      "_________________________________________________________________\n"
     ]
    }
   ],
   "source": [
    "# create the model\n",
    "model = tf.keras.models.Sequential()\n",
    "model.add(tf.keras.layers.Dense(24, input_shape=(observation_space,), activation=\"relu\"))\n",
    "model.add(tf.keras.layers.Dense(24, activation=\"relu\"))\n",
    "model.add(tf.keras.layers.Dense(action_space, activation=\"linear\"))\n",
    "model.compile(loss=\"mse\", optimizer=Adam(lr=LEARNING_RATE))\n",
    "\n",
    "model.summary()"
   ]
  },
  {
   "cell_type": "code",
   "execution_count": 8,
   "metadata": {},
   "outputs": [],
   "source": [
    "def Create_Q_Network(useDuel = True):\n",
    "    \n",
    "    # Create base model\n",
    "    input_layer = tf.keras.Input(shape = (observation_space, ))\n",
    "    dense1 = tf.keras.layers.Dense(24, activation='relu')(input_layer)\n",
    "    dense2 = tf.keras.layers.Dense(24, activation='relu')(dense1)\n",
    "    \n",
    "#     # Create advantage stream\n",
    "#     fc1 = tf.keras.layers.Dense(24)(dense2)\n",
    "#     advantage = tf.keras.layers.Dense(action_space)(fc1)\n",
    "#     advantage = tf.subtract(advantage, tf.reduce_mean(advantage, axis=-1, keepdims=True))\n",
    "\n",
    "#     # create value stream\n",
    "#     fc2 = tf.keras.layers.Dense(24)(dense2)\n",
    "#     value = tf.keras.layers.Dense(1)(fc2)\n",
    "\n",
    "#     # Output \n",
    "#     output = tf.add(value, advantage)\n",
    "\n",
    "#     # Create advantage stream\n",
    "#     fc1 = tf.keras.layers.Dense(24)(dense2)\n",
    "#     advantage = tf.keras.layers.Dense(action_space)(fc1)\n",
    "#     advantage_normalised = tf.keras.layers.Lambda(lambda advt: advt - tf.reduce_mean(advt, axis=-1, keepdims=True))(advantage)\n",
    "\n",
    "#     # create value stream\n",
    "#     fc2 = tf.keras.layers.Dense(24)(dense2)\n",
    "#     value = tf.keras.layers.Dense(1)(fc2)\n",
    "#     value_expanded = tf.keras.layers.Lambda(lambda value: tf.tile(value, [1, action_space]))(value)\n",
    "\n",
    "#     # Output \n",
    "#     output = tf.keras.layers.Add()([value_expanded, advantage_normalised])\n",
    "\n",
    "    output = tf.keras.layers.Dense(action_space, activation=\"linear\")(dense2)\n",
    "\n",
    "    # Compile model\n",
    "    model = tf.keras.Model(inputs=input_layer, outputs=output)\n",
    "    model.compile(loss='mse', optimizer=tf.keras.optimizers.RMSprop(lr=LEARNING_RATE))\n",
    "    \n",
    "    return model"
   ]
  },
  {
   "cell_type": "code",
   "execution_count": 9,
   "metadata": {},
   "outputs": [
    {
     "name": "stdout",
     "output_type": "stream",
     "text": [
      "Model: \"model\"\n",
      "_________________________________________________________________\n",
      "Layer (type)                 Output Shape              Param #   \n",
      "=================================================================\n",
      "input_1 (InputLayer)         [(None, 4)]               0         \n",
      "_________________________________________________________________\n",
      "dense (Dense)                (None, 24)                120       \n",
      "_________________________________________________________________\n",
      "dense_1 (Dense)              (None, 24)                600       \n",
      "_________________________________________________________________\n",
      "dense_2 (Dense)              (None, 2)                 50        \n",
      "=================================================================\n",
      "Total params: 770\n",
      "Trainable params: 770\n",
      "Non-trainable params: 0\n",
      "_________________________________________________________________\n"
     ]
    }
   ],
   "source": [
    "# Create the DQN and Target DQN\n",
    "DQNetwork = Create_Q_Network()\n",
    "TargetDQNewtork = Create_Q_Network()\n",
    "\n",
    "DQNetwork.summary()"
   ]
  },
  {
   "cell_type": "code",
   "execution_count": 10,
   "metadata": {},
   "outputs": [],
   "source": [
    "def update_model():\n",
    "    TargetDQNewtork.set_weights(DQNetwork.get_weights())\n",
    "update_model()"
   ]
  },
  {
   "cell_type": "code",
   "execution_count": 11,
   "metadata": {},
   "outputs": [
    {
     "name": "stdout",
     "output_type": "stream",
     "text": [
      "tf.Tensor([[-0.27021024  0.15879287]], shape=(1, 2), dtype=float32)\n",
      "tf.Tensor([[-0.27021024  0.15879287]], shape=(1, 2), dtype=float32)\n"
     ]
    }
   ],
   "source": [
    "sample_state = np.random.rand(1,4)\n",
    "print(DQNetwork(sample_state))\n",
    "print(TargetDQNewtork(sample_state))"
   ]
  },
  {
   "cell_type": "code",
   "execution_count": 11,
   "metadata": {},
   "outputs": [],
   "source": [
    "# Append experience to memory\n",
    "def remember(state, action, reward, next_state, done):\n",
    "    memory.append((state, action, reward, next_state, done))"
   ]
  },
  {
   "cell_type": "code",
   "execution_count": 12,
   "metadata": {},
   "outputs": [],
   "source": [
    "# Function to retuen an action based on the state\n",
    "def act(state):\n",
    "    \n",
    "    # Return random action if epsilon \n",
    "    if np.random.rand() < exploration_rate:\n",
    "        return random.randrange(action_space)\n",
    "    \n",
    "    # Else return the action predicted by model\n",
    "    q_values = DQNetwork.predict(state)\n",
    "    \n",
    "    return np.argmax(q_values[0])"
   ]
  },
  {
   "cell_type": "code",
   "execution_count": 13,
   "metadata": {},
   "outputs": [],
   "source": [
    "# define training strategy via per sample or per batch\n",
    "def train_batch(batch):\n",
    "    ''' \n",
    "    function to train via each batch\n",
    "    '''\n",
    "    # Initialise list of target Q and states\n",
    "    target_Q = []\n",
    "    state_train = []\n",
    "\n",
    "    # Extract each parameter from batch\n",
    "    for state, action, reward, state_next, done in batch:\n",
    "\n",
    "        # add states to list\n",
    "        state_train.append(state[0])\n",
    "\n",
    "        # Add the target Q to list\n",
    "        if done:\n",
    "            Q_values = DQNetwork.predict(state)\n",
    "            Q_values[0][action] = reward\n",
    "            target_Q.append(Q_values[0])\n",
    "        else:\n",
    "            Q_values = DQNetwork.predict(state)\n",
    "            best_action = np.argmax(Q_values)\n",
    "            Q_values[0][action] = reward + GAMMA * TargetDQNewtork.predict(state_next)[0][best_action]\n",
    "            target_Q.append(Q_values[0])\n",
    "\n",
    "    # turn states and target Q in numpy arrays\n",
    "    state_train = np.array(state_train)\n",
    "    target_Q = np.array(target_Q)\n",
    "    \n",
    "    # Fit a a batch of results\n",
    "    history = DQNetwork.fit(state_train, target_Q, verbose=0)\n",
    "    \n",
    "    return history.history['loss'][0]"
   ]
  },
  {
   "cell_type": "code",
   "execution_count": 14,
   "metadata": {},
   "outputs": [],
   "source": [
    "def model_fit(batch):\n",
    "\n",
    "    # Extract each parameter from batch\n",
    "    state_batch = np.zeros((BATCH_SIZE, observation_space))\n",
    "    action_batch = np.zeros(BATCH_SIZE, dtype = int)\n",
    "    reward_batch = np.zeros(BATCH_SIZE)\n",
    "    state_next_batch = np.zeros((BATCH_SIZE, observation_space))\n",
    "    done_batch = np.zeros(BATCH_SIZE)\n",
    "    for i in range(0,len(batch)):\n",
    "        state_batch[i] = batch[i][0]\n",
    "        action_batch[i] = batch[i][1]\n",
    "        reward_batch[i] = batch[i][2]\n",
    "        state_next_batch[i] = batch[i][3]\n",
    "        done_batch[i] = batch[i][4]\n",
    "\n",
    "    # Get predicted Q values\n",
    "    target_Q_batch = DQNetwork.predict(state_batch)\n",
    "    Q_state_old = np.array(target_Q_batch)\n",
    "    Q_next_state = DQNetwork.predict(state_next_batch)\n",
    "    Target_Q_next_state = TargetDQNewtork.predict(state_next_batch)\n",
    "    \n",
    "    # For debugging\n",
    "    best_acts = []\n",
    "    # Calculate target Q\n",
    "    for i in range(0,len(batch)):\n",
    "        if done_batch[i]:\n",
    "            target_Q_batch[i][action_batch[i]] = reward_batch[i]\n",
    "        else:\n",
    "            best_action = np.argmax(Q_next_state[i])\n",
    "            best_acts.append(best_action)\n",
    "            target_Q_batch[i][action_batch[i]] = reward_batch[i] + GAMMA * Target_Q_next_state[i][best_action]\n",
    "\n",
    "\n",
    "    # Update the sum tree priority values based on new absolute errors\n",
    "    indices = np.arange(BATCH_SIZE, dtype=np.int32)\n",
    "\n",
    "    history = DQNetwork.fit(state_batch, target_Q_batch, batch_size=BATCH_SIZE,  verbose = 0)\n",
    "    \n",
    "    return history.history['loss'][0], sum(target_Q_batch[indices, np.array(action_batch)]),  best_acts # For debugging"
   ]
  },
  {
   "cell_type": "code",
   "execution_count": 15,
   "metadata": {},
   "outputs": [],
   "source": [
    "### Learning function ###\n",
    "\n",
    "def experience_replay():\n",
    "    \n",
    "    global exploration_rate\n",
    "    \n",
    "    # Start training only if memeory size has reached beyond batch size\n",
    "    if len(memory) < BATCH_SIZE:\n",
    "        return 0,0,0\n",
    "    \n",
    "    # Take a sample batch from the memory\n",
    "    batch = random.sample(memory, BATCH_SIZE)\n",
    "    \n",
    "    # train procedure\n",
    "    loss, target_test, best_action_test = model_fit(batch)\n",
    "        \n",
    "    # Reduce the exploration \n",
    "    exploration_rate *= EXPLORATION_DECAY\n",
    "    exploration_rate = max(EXPLORATION_MIN, exploration_rate)\n",
    "    \n",
    "    return loss, target_test, best_action_test"
   ]
  },
  {
   "cell_type": "code",
   "execution_count": 16,
   "metadata": {},
   "outputs": [],
   "source": [
    "def test(n_episodes, model=None, with_limit=True, store = False):\n",
    "    ''' \n",
    "    function to test the result of the model for n_episodes and return average\n",
    "    rewards\n",
    "    '''\n",
    "    # store average rewards\n",
    "    avg_rewards = 0\n",
    "\n",
    "    for i in range(1, n_episodes+1):\n",
    "\n",
    "        state = env.reset()\n",
    "        state = np.reshape(state, [1, observation_space])\n",
    "        \n",
    "        done = False \n",
    "        total_rewards = 0\n",
    "        step = 0 \n",
    "        \n",
    "        \n",
    "        # until done \n",
    "        while not done:\n",
    "            \n",
    "            # take an action in the max q_table\n",
    "            if model:\n",
    "                action = np.argmax(model.predict(state)[0])\n",
    "            else:\n",
    "                action = env.action_space.sample()\n",
    "                \n",
    "            next_state, reward, done, info = env.step(action)\n",
    "            next_state = np.reshape(next_state, [1, observation_space])\n",
    "            \n",
    "            if store:\n",
    "                memory.append((state, action, reward, next_state, done))\n",
    "                \n",
    "            state = next_state\n",
    "            \n",
    "            # acculmulate rewards\n",
    "            total_rewards += reward\n",
    "            step += 1\n",
    "            \n",
    "            \n",
    "            # End the epsiode if step > 200 \n",
    "            if with_limit:\n",
    "                if step > 200:\n",
    "                    done = True\n",
    "            \n",
    "        avg_rewards = avg_rewards + 1/(i) * (total_rewards - avg_rewards)\n",
    "          \n",
    "    return avg_rewards"
   ]
  },
  {
   "cell_type": "code",
   "execution_count": 18,
   "metadata": {},
   "outputs": [
    {
     "name": "stdout",
     "output_type": "stream",
     "text": [
      "0.6499465107917786\n"
     ]
    },
    {
     "ename": "NameError",
     "evalue": "name 'train_batch' is not defined",
     "output_type": "error",
     "traceback": [
      "\u001b[1;31m---------------------------------------------------------------------------\u001b[0m",
      "\u001b[1;31mNameError\u001b[0m                                 Traceback (most recent call last)",
      "\u001b[1;32m<ipython-input-18-e69dec997fcb>\u001b[0m in \u001b[0;36m<module>\u001b[1;34m\u001b[0m\n\u001b[0;32m      6\u001b[0m \u001b[0mloss\u001b[0m\u001b[1;33m,\u001b[0m\u001b[0mx\u001b[0m\u001b[1;33m,\u001b[0m\u001b[0my\u001b[0m\u001b[1;33m=\u001b[0m \u001b[0mmodel_fit\u001b[0m\u001b[1;33m(\u001b[0m\u001b[0mbatch\u001b[0m\u001b[1;33m)\u001b[0m\u001b[1;33m\u001b[0m\u001b[1;33m\u001b[0m\u001b[0m\n\u001b[0;32m      7\u001b[0m \u001b[0mprint\u001b[0m\u001b[1;33m(\u001b[0m\u001b[0mloss\u001b[0m\u001b[1;33m)\u001b[0m\u001b[1;33m\u001b[0m\u001b[1;33m\u001b[0m\u001b[0m\n\u001b[1;32m----> 8\u001b[1;33m \u001b[0mprint\u001b[0m\u001b[1;33m(\u001b[0m\u001b[0mtrain_batch\u001b[0m\u001b[1;33m(\u001b[0m\u001b[0mbatch\u001b[0m\u001b[1;33m)\u001b[0m\u001b[1;33m)\u001b[0m\u001b[1;33m\u001b[0m\u001b[1;33m\u001b[0m\u001b[0m\n\u001b[0m",
      "\u001b[1;31mNameError\u001b[0m: name 'train_batch' is not defined"
     ]
    }
   ],
   "source": [
    "memory = deque(maxlen=MEMORY_SIZE)\n",
    "test(5, model=None, with_limit=True, store = True)\n",
    "\n",
    "# Sample from batch\n",
    "batch = random.sample(memory, BATCH_SIZE)\n",
    "loss,x,y= model_fit(batch)\n",
    "print(loss)\n",
    "print(train_batch(batch))\n"
   ]
  },
  {
   "cell_type": "code",
   "execution_count": 19,
   "metadata": {},
   "outputs": [
    {
     "data": {
      "text/plain": [
       "array([0.13517563, 0.14672862], dtype=float32)"
      ]
     },
     "execution_count": 19,
     "metadata": {},
     "output_type": "execute_result"
    }
   ],
   "source": [
    "TargetDQNewtork.predict(sample_state)[0]"
   ]
  },
  {
   "cell_type": "code",
   "execution_count": 17,
   "metadata": {
    "scrolled": true
   },
   "outputs": [
    {
     "name": "stdout",
     "output_type": "stream",
     "text": [
      "Run: 1, exploration: 1.0, average score: 9.2\n",
      "Run: 2, exploration: 0.985074875, average score: 9.4\n",
      "Run: 3, exploration: 0.9137248860125932, average score: 12.2\n",
      "Run: 4, exploration: 0.810157377815473, average score: 9.8\n",
      "Run: 5, exploration: 0.7744209942832988, average score: 9.2\n",
      "Run: 6, exploration: 0.7183288830986236, average score: 10.2\n",
      "Run: 7, exploration: 0.6797938283326578, average score: 13.8\n",
      "Run: 8, exploration: 0.6211445383053219, average score: 16.0\n",
      "Run: 9, exploration: 0.5761543988830038, average score: 16.4\n",
      "Run: 10, exploration: 0.531750826943791, average score: 16.2\n",
      "Run: 11, exploration: 0.4982051627146237, average score: 19.8\n",
      "Run: 12, exploration: 0.446186062443672, average score: 15.8\n",
      "Run: 13, exploration: 0.40565285250151817, average score: 16.6\n",
      "Run: 14, exploration: 0.37251769488706843, average score: 18.4\n",
      "Run: 15, exploration: 0.33195389135223546, average score: 21.2\n",
      "Run: 16, exploration: 0.3017979588795719, average score: 15.8\n",
      "Run: 17, exploration: 0.2730095965279488, average score: 18.0\n",
      "Run: 18, exploration: 0.24328132378095624, average score: 22.4\n",
      "Run: 19, exploration: 0.22793384675362674, average score: 20.0\n",
      "Run: 20, exploration: 0.20722748400265262, average score: 22.0\n",
      "Run: 21, exploration: 0.19318370215794672, average score: 16.2\n",
      "Run: 22, exploration: 0.17043057265153258, average score: 25.4\n",
      "Run: 23, exploration: 0.15888051309497406, average score: 18.2\n",
      "Run: 24, exploration: 0.14590259167570602, average score: 20.6\n",
      "Run: 25, exploration: 0.13807558583895513, average score: 14.0\n",
      "Run: 26, exploration: 0.12679708435358925, average score: 14.8\n",
      "Run: 27, exploration: 0.11527836319047392, average score: 18.2\n",
      "Run: 28, exploration: 0.10746596228306791, average score: 13.2\n",
      "Run: 29, exploration: 0.10119240105273684, average score: 9.8\n",
      "Run: 30, exploration: 0.1, average score: 11.0\n",
      "Run: 31, exploration: 0.1, average score: 11.6\n",
      "Run: 32, exploration: 0.1, average score: 10.6\n",
      "Run: 33, exploration: 0.1, average score: 13.0\n",
      "Run: 34, exploration: 0.1, average score: 13.2\n",
      "Run: 35, exploration: 0.1, average score: 10.2\n",
      "Run: 36, exploration: 0.1, average score: 9.4\n",
      "Run: 37, exploration: 0.1, average score: 10.6\n",
      "Run: 38, exploration: 0.1, average score: 12.4\n",
      "Run: 39, exploration: 0.1, average score: 11.6\n",
      "Run: 40, exploration: 0.1, average score: 10.2\n",
      "Run: 41, exploration: 0.1, average score: 10.4\n",
      "Run: 42, exploration: 0.1, average score: 10.0\n",
      "Run: 43, exploration: 0.1, average score: 9.4\n",
      "Run: 44, exploration: 0.1, average score: 10.2\n",
      "Run: 45, exploration: 0.1, average score: 9.2\n",
      "Run: 46, exploration: 0.1, average score: 9.4\n",
      "Run: 47, exploration: 0.1, average score: 10.0\n",
      "Run: 48, exploration: 0.1, average score: 9.4\n",
      "Run: 49, exploration: 0.1, average score: 8.8\n",
      "Run: 50, exploration: 0.1, average score: 9.8\n",
      "Run: 51, exploration: 0.1, average score: 11.8\n",
      "Run: 52, exploration: 0.1, average score: 21.2\n",
      "Run: 53, exploration: 0.1, average score: 9.0\n",
      "Run: 54, exploration: 0.1, average score: 9.0\n",
      "Run: 55, exploration: 0.1, average score: 15.0\n",
      "Run: 56, exploration: 0.1, average score: 9.4\n",
      "Run: 57, exploration: 0.1, average score: 9.6\n",
      "Run: 58, exploration: 0.1, average score: 9.0\n",
      "Run: 59, exploration: 0.1, average score: 9.2\n",
      "Run: 60, exploration: 0.1, average score: 9.2\n",
      "Run: 61, exploration: 0.1, average score: 11.8\n",
      "Run: 62, exploration: 0.1, average score: 11.8\n",
      "Run: 63, exploration: 0.1, average score: 9.6\n",
      "Run: 64, exploration: 0.1, average score: 9.0\n",
      "Run: 65, exploration: 0.1, average score: 9.2\n",
      "Run: 66, exploration: 0.1, average score: 18.8\n",
      "Run: 67, exploration: 0.1, average score: 11.2\n",
      "Run: 68, exploration: 0.1, average score: 9.4\n",
      "Run: 69, exploration: 0.1, average score: 9.2\n",
      "Run: 70, exploration: 0.1, average score: 9.4\n",
      "Run: 71, exploration: 0.1, average score: 9.2\n",
      "Run: 72, exploration: 0.1, average score: 12.6\n",
      "Run: 73, exploration: 0.1, average score: 9.4\n",
      "Target Model Updated!\n",
      "Run: 74, exploration: 0.1, average score: 9.6\n",
      "Run: 75, exploration: 0.1, average score: 9.6\n",
      "Run: 76, exploration: 0.1, average score: 10.0\n",
      "Run: 77, exploration: 0.1, average score: 9.8\n",
      "Run: 78, exploration: 0.1, average score: 9.0\n",
      "Run: 79, exploration: 0.1, average score: 9.4\n",
      "Run: 80, exploration: 0.1, average score: 23.2\n",
      "Run: 81, exploration: 0.1, average score: 14.0\n",
      "Run: 82, exploration: 0.1, average score: 14.2\n",
      "Run: 83, exploration: 0.1, average score: 10.6\n",
      "Run: 84, exploration: 0.1, average score: 10.8\n",
      "Run: 85, exploration: 0.1, average score: 10.6\n",
      "Run: 86, exploration: 0.1, average score: 10.2\n",
      "Run: 87, exploration: 0.1, average score: 12.8\n",
      "Run: 88, exploration: 0.1, average score: 11.6\n",
      "Run: 89, exploration: 0.1, average score: 19.0\n",
      "Run: 90, exploration: 0.1, average score: 10.4\n",
      "Run: 91, exploration: 0.1, average score: 11.8\n",
      "Run: 92, exploration: 0.1, average score: 29.2\n",
      "Run: 93, exploration: 0.1, average score: 10.6\n",
      "Run: 94, exploration: 0.1, average score: 18.4\n",
      "Run: 95, exploration: 0.1, average score: 10.0\n",
      "Run: 96, exploration: 0.1, average score: 12.8\n",
      "Run: 97, exploration: 0.1, average score: 18.0\n",
      "Run: 98, exploration: 0.1, average score: 33.8\n",
      "Run: 99, exploration: 0.1, average score: 35.2\n",
      "Run: 100, exploration: 0.1, average score: 23.8\n",
      "Run: 101, exploration: 0.1, average score: 20.4\n",
      "Run: 102, exploration: 0.1, average score: 38.2\n",
      "Run: 103, exploration: 0.1, average score: 45.6\n",
      "Run: 104, exploration: 0.1, average score: 51.2\n",
      "Run: 105, exploration: 0.1, average score: 30.2\n",
      "Run: 106, exploration: 0.1, average score: 37.8\n",
      "Run: 107, exploration: 0.1, average score: 35.4\n",
      "Run: 108, exploration: 0.1, average score: 57.2\n",
      "Run: 109, exploration: 0.1, average score: 50.0\n",
      "Run: 110, exploration: 0.1, average score: 26.6\n",
      "Run: 111, exploration: 0.1, average score: 23.2\n",
      "Run: 112, exploration: 0.1, average score: 46.6\n",
      "Run: 113, exploration: 0.1, average score: 79.4\n",
      "Target Model Updated!\n",
      "Run: 114, exploration: 0.1, average score: 60.0\n",
      "Run: 115, exploration: 0.1, average score: 32.6\n",
      "Run: 116, exploration: 0.1, average score: 51.4\n",
      "Run: 117, exploration: 0.1, average score: 43.0\n",
      "Run: 118, exploration: 0.1, average score: 77.4\n",
      "Run: 119, exploration: 0.1, average score: 94.0\n",
      "Run: 120, exploration: 0.1, average score: 186.8\n",
      "Run: 121, exploration: 0.1, average score: 153.4\n",
      "Run: 122, exploration: 0.1, average score: 157.4\n",
      "Run: 123, exploration: 0.1, average score: 130.8\n",
      "Target Model Updated!\n",
      "Run: 124, exploration: 0.1, average score: 159.4\n",
      "Run: 125, exploration: 0.1, average score: 81.6\n",
      "Run: 126, exploration: 0.1, average score: 67.0\n",
      "Run: 127, exploration: 0.1, average score: 179.0\n",
      "Run: 128, exploration: 0.1, average score: 118.8\n",
      "Run: 129, exploration: 0.1, average score: 180.2\n",
      "Run: 130, exploration: 0.1, average score: 172.8\n",
      "Run: 131, exploration: 0.1, average score: 109.6\n",
      "Target Model Updated!\n",
      "Run: 132, exploration: 0.1, average score: 174.6\n",
      "Run: 133, exploration: 0.1, average score: 139.8\n",
      "Run: 134, exploration: 0.1, average score: 125.6\n",
      "Run: 135, exploration: 0.1, average score: 184.6\n",
      "Run: 136, exploration: 0.1, average score: 147.2\n",
      "Run: 137, exploration: 0.1, average score: 125.2\n",
      "Run: 138, exploration: 0.1, average score: 138.2\n",
      "Target Model Updated!\n",
      "Run: 139, exploration: 0.1, average score: 111.8\n",
      "Run: 140, exploration: 0.1, average score: 145.6\n",
      "Run: 141, exploration: 0.1, average score: 152.4\n",
      "Run: 142, exploration: 0.1, average score: 160.4\n",
      "Run: 143, exploration: 0.1, average score: 170.2\n",
      "Run: 144, exploration: 0.1, average score: 145.2\n",
      "Run: 145, exploration: 0.1, average score: 163.8\n",
      "Target Model Updated!\n",
      "Run: 146, exploration: 0.1, average score: 178.2\n",
      "Run: 147, exploration: 0.1, average score: 188.8\n",
      "Run: 148, exploration: 0.1, average score: 148.6\n",
      "Run: 149, exploration: 0.1, average score: 155.2\n",
      "Run: 150, exploration: 0.1, average score: 178.6\n",
      "Run: 151, exploration: 0.1, average score: 150.6\n",
      "Run: 152, exploration: 0.1, average score: 145.4\n",
      "Target Model Updated!\n",
      "Run: 153, exploration: 0.1, average score: 201.0\n",
      "Run: 154, exploration: 0.1, average score: 163.2\n",
      "Run: 155, exploration: 0.1, average score: 164.0\n",
      "Run: 156, exploration: 0.1, average score: 183.0\n",
      "Run: 157, exploration: 0.1, average score: 155.0\n",
      "Run: 158, exploration: 0.1, average score: 142.4\n",
      "Target Model Updated!\n",
      "Run: 159, exploration: 0.1, average score: 190.4\n",
      "Run: 160, exploration: 0.1, average score: 181.2\n",
      "Run: 161, exploration: 0.1, average score: 160.6\n"
     ]
    },
    {
     "name": "stdout",
     "output_type": "stream",
     "text": [
      "Run: 162, exploration: 0.1, average score: 167.8\n",
      "Run: 163, exploration: 0.1, average score: 151.0\n",
      "Run: 164, exploration: 0.1, average score: 172.4\n",
      "Target Model Updated!\n",
      "Run: 165, exploration: 0.1, average score: 172.4\n",
      "Run: 166, exploration: 0.1, average score: 184.4\n",
      "Run: 167, exploration: 0.1, average score: 166.6\n",
      "Run: 168, exploration: 0.1, average score: 179.2\n",
      "Run: 169, exploration: 0.1, average score: 183.8\n",
      "Run: 170, exploration: 0.1, average score: 177.4\n",
      "Target Model Updated!\n",
      "Run: 171, exploration: 0.1, average score: 168.2\n",
      "Run: 172, exploration: 0.1, average score: 184.0\n",
      "Run: 173, exploration: 0.1, average score: 174.2\n",
      "Run: 174, exploration: 0.1, average score: 193.8\n",
      "Run: 175, exploration: 0.1, average score: 185.8\n",
      "Run: 176, exploration: 0.1, average score: 182.2\n",
      "Target Model Updated!\n",
      "Run: 177, exploration: 0.1, average score: 169.8\n",
      "Run: 178, exploration: 0.1, average score: 179.2\n",
      "Run: 179, exploration: 0.1, average score: 176.8\n",
      "Run: 180, exploration: 0.1, average score: 186.8\n",
      "Run: 181, exploration: 0.1, average score: 187.8\n",
      "Run: 182, exploration: 0.1, average score: 177.0\n",
      "Target Model Updated!\n"
     ]
    },
    {
     "ename": "KeyboardInterrupt",
     "evalue": "",
     "output_type": "error",
     "traceback": [
      "\u001b[1;31m---------------------------------------------------------------------------\u001b[0m",
      "\u001b[1;31mKeyboardInterrupt\u001b[0m                         Traceback (most recent call last)",
      "\u001b[1;32m<ipython-input-17-a6bd199b9471>\u001b[0m in \u001b[0;36m<module>\u001b[1;34m\u001b[0m\n\u001b[0;32m     75\u001b[0m \u001b[1;33m\u001b[0m\u001b[0m\n\u001b[0;32m     76\u001b[0m         \u001b[1;31m# Train for a batch of batch size\u001b[0m\u001b[1;33m\u001b[0m\u001b[1;33m\u001b[0m\u001b[1;33m\u001b[0m\u001b[0m\n\u001b[1;32m---> 77\u001b[1;33m         \u001b[0mloss\u001b[0m\u001b[1;33m,\u001b[0m \u001b[0mx\u001b[0m\u001b[1;33m,\u001b[0m \u001b[0my\u001b[0m \u001b[1;33m=\u001b[0m \u001b[0mexperience_replay\u001b[0m\u001b[1;33m(\u001b[0m\u001b[1;33m)\u001b[0m\u001b[1;33m\u001b[0m\u001b[1;33m\u001b[0m\u001b[0m\n\u001b[0m\u001b[0;32m     78\u001b[0m         \u001b[0mloss_list\u001b[0m\u001b[1;33m.\u001b[0m\u001b[0mappend\u001b[0m\u001b[1;33m(\u001b[0m\u001b[0mloss\u001b[0m\u001b[1;33m)\u001b[0m\u001b[1;33m\u001b[0m\u001b[1;33m\u001b[0m\u001b[0m\n\u001b[0;32m     79\u001b[0m         \u001b[0mtarget_tests\u001b[0m\u001b[1;33m.\u001b[0m\u001b[0mappend\u001b[0m\u001b[1;33m(\u001b[0m\u001b[0mx\u001b[0m\u001b[1;33m)\u001b[0m\u001b[1;33m\u001b[0m\u001b[1;33m\u001b[0m\u001b[0m\n",
      "\u001b[1;32m<ipython-input-15-e44675efe038>\u001b[0m in \u001b[0;36mexperience_replay\u001b[1;34m()\u001b[0m\n\u001b[0;32m     13\u001b[0m \u001b[1;33m\u001b[0m\u001b[0m\n\u001b[0;32m     14\u001b[0m     \u001b[1;31m# train procedure\u001b[0m\u001b[1;33m\u001b[0m\u001b[1;33m\u001b[0m\u001b[1;33m\u001b[0m\u001b[0m\n\u001b[1;32m---> 15\u001b[1;33m     \u001b[0mloss\u001b[0m\u001b[1;33m,\u001b[0m \u001b[0mtarget_test\u001b[0m\u001b[1;33m,\u001b[0m \u001b[0mbest_action_test\u001b[0m \u001b[1;33m=\u001b[0m \u001b[0mmodel_fit\u001b[0m\u001b[1;33m(\u001b[0m\u001b[0mbatch\u001b[0m\u001b[1;33m)\u001b[0m\u001b[1;33m\u001b[0m\u001b[1;33m\u001b[0m\u001b[0m\n\u001b[0m\u001b[0;32m     16\u001b[0m \u001b[1;33m\u001b[0m\u001b[0m\n\u001b[0;32m     17\u001b[0m     \u001b[1;31m# Reduce the exploration\u001b[0m\u001b[1;33m\u001b[0m\u001b[1;33m\u001b[0m\u001b[1;33m\u001b[0m\u001b[0m\n",
      "\u001b[1;32m<ipython-input-14-d7031e6b4597>\u001b[0m in \u001b[0;36mmodel_fit\u001b[1;34m(batch)\u001b[0m\n\u001b[0;32m     17\u001b[0m     \u001b[0mtarget_Q_batch\u001b[0m \u001b[1;33m=\u001b[0m \u001b[0mDQNetwork\u001b[0m\u001b[1;33m.\u001b[0m\u001b[0mpredict\u001b[0m\u001b[1;33m(\u001b[0m\u001b[0mstate_batch\u001b[0m\u001b[1;33m)\u001b[0m\u001b[1;33m\u001b[0m\u001b[1;33m\u001b[0m\u001b[0m\n\u001b[0;32m     18\u001b[0m     \u001b[0mQ_state_old\u001b[0m \u001b[1;33m=\u001b[0m \u001b[0mnp\u001b[0m\u001b[1;33m.\u001b[0m\u001b[0marray\u001b[0m\u001b[1;33m(\u001b[0m\u001b[0mtarget_Q_batch\u001b[0m\u001b[1;33m)\u001b[0m\u001b[1;33m\u001b[0m\u001b[1;33m\u001b[0m\u001b[0m\n\u001b[1;32m---> 19\u001b[1;33m     \u001b[0mQ_next_state\u001b[0m \u001b[1;33m=\u001b[0m \u001b[0mDQNetwork\u001b[0m\u001b[1;33m.\u001b[0m\u001b[0mpredict\u001b[0m\u001b[1;33m(\u001b[0m\u001b[0mstate_next_batch\u001b[0m\u001b[1;33m)\u001b[0m\u001b[1;33m\u001b[0m\u001b[1;33m\u001b[0m\u001b[0m\n\u001b[0m\u001b[0;32m     20\u001b[0m     \u001b[0mTarget_Q_next_state\u001b[0m \u001b[1;33m=\u001b[0m \u001b[0mTargetDQNewtork\u001b[0m\u001b[1;33m.\u001b[0m\u001b[0mpredict\u001b[0m\u001b[1;33m(\u001b[0m\u001b[0mstate_next_batch\u001b[0m\u001b[1;33m)\u001b[0m\u001b[1;33m\u001b[0m\u001b[1;33m\u001b[0m\u001b[0m\n\u001b[0;32m     21\u001b[0m \u001b[1;33m\u001b[0m\u001b[0m\n",
      "\u001b[1;32m~\\AppData\\Local\\Continuum\\anaconda3\\lib\\site-packages\\tensorflow\\python\\keras\\engine\\training.py\u001b[0m in \u001b[0;36m_method_wrapper\u001b[1;34m(self, *args, **kwargs)\u001b[0m\n\u001b[0;32m     86\u001b[0m       raise ValueError('{} is not supported in multi-worker mode.'.format(\n\u001b[0;32m     87\u001b[0m           method.__name__))\n\u001b[1;32m---> 88\u001b[1;33m     \u001b[1;32mreturn\u001b[0m \u001b[0mmethod\u001b[0m\u001b[1;33m(\u001b[0m\u001b[0mself\u001b[0m\u001b[1;33m,\u001b[0m \u001b[1;33m*\u001b[0m\u001b[0margs\u001b[0m\u001b[1;33m,\u001b[0m \u001b[1;33m**\u001b[0m\u001b[0mkwargs\u001b[0m\u001b[1;33m)\u001b[0m\u001b[1;33m\u001b[0m\u001b[1;33m\u001b[0m\u001b[0m\n\u001b[0m\u001b[0;32m     89\u001b[0m \u001b[1;33m\u001b[0m\u001b[0m\n\u001b[0;32m     90\u001b[0m   return tf_decorator.make_decorator(\n",
      "\u001b[1;32m~\\AppData\\Local\\Continuum\\anaconda3\\lib\\site-packages\\tensorflow\\python\\keras\\engine\\training.py\u001b[0m in \u001b[0;36mpredict\u001b[1;34m(self, x, batch_size, verbose, steps, callbacks, max_queue_size, workers, use_multiprocessing)\u001b[0m\n\u001b[0;32m   1262\u001b[0m       \u001b[0mpredict_function\u001b[0m \u001b[1;33m=\u001b[0m \u001b[0mself\u001b[0m\u001b[1;33m.\u001b[0m\u001b[0mmake_predict_function\u001b[0m\u001b[1;33m(\u001b[0m\u001b[1;33m)\u001b[0m\u001b[1;33m\u001b[0m\u001b[1;33m\u001b[0m\u001b[0m\n\u001b[0;32m   1263\u001b[0m       \u001b[0mcallbacks\u001b[0m\u001b[1;33m.\u001b[0m\u001b[0mon_predict_begin\u001b[0m\u001b[1;33m(\u001b[0m\u001b[1;33m)\u001b[0m\u001b[1;33m\u001b[0m\u001b[1;33m\u001b[0m\u001b[0m\n\u001b[1;32m-> 1264\u001b[1;33m       \u001b[1;32mfor\u001b[0m \u001b[0m_\u001b[0m\u001b[1;33m,\u001b[0m \u001b[0miterator\u001b[0m \u001b[1;32min\u001b[0m \u001b[0mdata_handler\u001b[0m\u001b[1;33m.\u001b[0m\u001b[0menumerate_epochs\u001b[0m\u001b[1;33m(\u001b[0m\u001b[1;33m)\u001b[0m\u001b[1;33m:\u001b[0m  \u001b[1;31m# Single epoch.\u001b[0m\u001b[1;33m\u001b[0m\u001b[1;33m\u001b[0m\u001b[0m\n\u001b[0m\u001b[0;32m   1265\u001b[0m         \u001b[1;32mwith\u001b[0m \u001b[0mdata_handler\u001b[0m\u001b[1;33m.\u001b[0m\u001b[0mcatch_stop_iteration\u001b[0m\u001b[1;33m(\u001b[0m\u001b[1;33m)\u001b[0m\u001b[1;33m:\u001b[0m\u001b[1;33m\u001b[0m\u001b[1;33m\u001b[0m\u001b[0m\n\u001b[0;32m   1266\u001b[0m           \u001b[1;32mfor\u001b[0m \u001b[0mstep\u001b[0m \u001b[1;32min\u001b[0m \u001b[0mdata_handler\u001b[0m\u001b[1;33m.\u001b[0m\u001b[0msteps\u001b[0m\u001b[1;33m(\u001b[0m\u001b[1;33m)\u001b[0m\u001b[1;33m:\u001b[0m\u001b[1;33m\u001b[0m\u001b[1;33m\u001b[0m\u001b[0m\n",
      "\u001b[1;32m~\\AppData\\Local\\Continuum\\anaconda3\\lib\\site-packages\\tensorflow\\python\\keras\\engine\\data_adapter.py\u001b[0m in \u001b[0;36menumerate_epochs\u001b[1;34m(self)\u001b[0m\n\u001b[0;32m   1121\u001b[0m   \u001b[1;32mdef\u001b[0m \u001b[0menumerate_epochs\u001b[0m\u001b[1;33m(\u001b[0m\u001b[0mself\u001b[0m\u001b[1;33m)\u001b[0m\u001b[1;33m:\u001b[0m\u001b[1;33m\u001b[0m\u001b[1;33m\u001b[0m\u001b[0m\n\u001b[0;32m   1122\u001b[0m     \u001b[1;34m\"\"\"Yields `(epoch, tf.data.Iterator)`.\"\"\"\u001b[0m\u001b[1;33m\u001b[0m\u001b[1;33m\u001b[0m\u001b[0m\n\u001b[1;32m-> 1123\u001b[1;33m     \u001b[0mdata_iterator\u001b[0m \u001b[1;33m=\u001b[0m \u001b[0miter\u001b[0m\u001b[1;33m(\u001b[0m\u001b[0mself\u001b[0m\u001b[1;33m.\u001b[0m\u001b[0m_dataset\u001b[0m\u001b[1;33m)\u001b[0m\u001b[1;33m\u001b[0m\u001b[1;33m\u001b[0m\u001b[0m\n\u001b[0m\u001b[0;32m   1124\u001b[0m     \u001b[1;32mfor\u001b[0m \u001b[0mepoch\u001b[0m \u001b[1;32min\u001b[0m \u001b[0mrange\u001b[0m\u001b[1;33m(\u001b[0m\u001b[0mself\u001b[0m\u001b[1;33m.\u001b[0m\u001b[0m_initial_epoch\u001b[0m\u001b[1;33m,\u001b[0m \u001b[0mself\u001b[0m\u001b[1;33m.\u001b[0m\u001b[0m_epochs\u001b[0m\u001b[1;33m)\u001b[0m\u001b[1;33m:\u001b[0m\u001b[1;33m\u001b[0m\u001b[1;33m\u001b[0m\u001b[0m\n\u001b[0;32m   1125\u001b[0m       \u001b[1;32mif\u001b[0m \u001b[0mself\u001b[0m\u001b[1;33m.\u001b[0m\u001b[0m_insufficient_data\u001b[0m\u001b[1;33m:\u001b[0m  \u001b[1;31m# Set by `catch_stop_iteration`.\u001b[0m\u001b[1;33m\u001b[0m\u001b[1;33m\u001b[0m\u001b[0m\n",
      "\u001b[1;32m~\\AppData\\Local\\Continuum\\anaconda3\\lib\\site-packages\\tensorflow\\python\\data\\ops\\dataset_ops.py\u001b[0m in \u001b[0;36m__iter__\u001b[1;34m(self)\u001b[0m\n\u001b[0;32m    402\u001b[0m     \"\"\"\n\u001b[0;32m    403\u001b[0m     \u001b[1;32mif\u001b[0m \u001b[0mcontext\u001b[0m\u001b[1;33m.\u001b[0m\u001b[0mexecuting_eagerly\u001b[0m\u001b[1;33m(\u001b[0m\u001b[1;33m)\u001b[0m \u001b[1;32mor\u001b[0m \u001b[0mops\u001b[0m\u001b[1;33m.\u001b[0m\u001b[0minside_function\u001b[0m\u001b[1;33m(\u001b[0m\u001b[1;33m)\u001b[0m\u001b[1;33m:\u001b[0m\u001b[1;33m\u001b[0m\u001b[1;33m\u001b[0m\u001b[0m\n\u001b[1;32m--> 404\u001b[1;33m       \u001b[1;32mreturn\u001b[0m \u001b[0miterator_ops\u001b[0m\u001b[1;33m.\u001b[0m\u001b[0mOwnedIterator\u001b[0m\u001b[1;33m(\u001b[0m\u001b[0mself\u001b[0m\u001b[1;33m)\u001b[0m\u001b[1;33m\u001b[0m\u001b[1;33m\u001b[0m\u001b[0m\n\u001b[0m\u001b[0;32m    405\u001b[0m     \u001b[1;32melse\u001b[0m\u001b[1;33m:\u001b[0m\u001b[1;33m\u001b[0m\u001b[1;33m\u001b[0m\u001b[0m\n\u001b[0;32m    406\u001b[0m       raise RuntimeError(\"__iter__() is only supported inside of tf.function \"\n",
      "\u001b[1;32m~\\AppData\\Local\\Continuum\\anaconda3\\lib\\site-packages\\tensorflow\\python\\data\\ops\\iterator_ops.py\u001b[0m in \u001b[0;36m__init__\u001b[1;34m(self, dataset, components, element_spec)\u001b[0m\n\u001b[0;32m    593\u001b[0m           context.context().device_spec.device_type != \"CPU\"):\n\u001b[0;32m    594\u001b[0m         \u001b[1;32mwith\u001b[0m \u001b[0mops\u001b[0m\u001b[1;33m.\u001b[0m\u001b[0mdevice\u001b[0m\u001b[1;33m(\u001b[0m\u001b[1;34m\"/cpu:0\"\u001b[0m\u001b[1;33m)\u001b[0m\u001b[1;33m:\u001b[0m\u001b[1;33m\u001b[0m\u001b[1;33m\u001b[0m\u001b[0m\n\u001b[1;32m--> 595\u001b[1;33m           \u001b[0mself\u001b[0m\u001b[1;33m.\u001b[0m\u001b[0m_create_iterator\u001b[0m\u001b[1;33m(\u001b[0m\u001b[0mdataset\u001b[0m\u001b[1;33m)\u001b[0m\u001b[1;33m\u001b[0m\u001b[1;33m\u001b[0m\u001b[0m\n\u001b[0m\u001b[0;32m    596\u001b[0m       \u001b[1;32melse\u001b[0m\u001b[1;33m:\u001b[0m\u001b[1;33m\u001b[0m\u001b[1;33m\u001b[0m\u001b[0m\n\u001b[0;32m    597\u001b[0m         \u001b[0mself\u001b[0m\u001b[1;33m.\u001b[0m\u001b[0m_create_iterator\u001b[0m\u001b[1;33m(\u001b[0m\u001b[0mdataset\u001b[0m\u001b[1;33m)\u001b[0m\u001b[1;33m\u001b[0m\u001b[1;33m\u001b[0m\u001b[0m\n",
      "\u001b[1;32m~\\AppData\\Local\\Continuum\\anaconda3\\lib\\site-packages\\tensorflow\\python\\data\\ops\\iterator_ops.py\u001b[0m in \u001b[0;36m_create_iterator\u001b[1;34m(self, dataset)\u001b[0m\n\u001b[0;32m    618\u001b[0m               \u001b[0moutput_types\u001b[0m\u001b[1;33m=\u001b[0m\u001b[0mself\u001b[0m\u001b[1;33m.\u001b[0m\u001b[0m_flat_output_types\u001b[0m\u001b[1;33m,\u001b[0m\u001b[1;33m\u001b[0m\u001b[1;33m\u001b[0m\u001b[0m\n\u001b[0;32m    619\u001b[0m               output_shapes=self._flat_output_shapes))\n\u001b[1;32m--> 620\u001b[1;33m       \u001b[0mgen_dataset_ops\u001b[0m\u001b[1;33m.\u001b[0m\u001b[0mmake_iterator\u001b[0m\u001b[1;33m(\u001b[0m\u001b[0mds_variant\u001b[0m\u001b[1;33m,\u001b[0m \u001b[0mself\u001b[0m\u001b[1;33m.\u001b[0m\u001b[0m_iterator_resource\u001b[0m\u001b[1;33m)\u001b[0m\u001b[1;33m\u001b[0m\u001b[1;33m\u001b[0m\u001b[0m\n\u001b[0m\u001b[0;32m    621\u001b[0m       \u001b[1;31m# Delete the resource when this object is deleted\u001b[0m\u001b[1;33m\u001b[0m\u001b[1;33m\u001b[0m\u001b[1;33m\u001b[0m\u001b[0m\n\u001b[0;32m    622\u001b[0m       self._resource_deleter = IteratorResourceDeleter(\n",
      "\u001b[1;32m~\\AppData\\Local\\Continuum\\anaconda3\\lib\\site-packages\\tensorflow\\python\\ops\\gen_dataset_ops.py\u001b[0m in \u001b[0;36mmake_iterator\u001b[1;34m(dataset, iterator, name)\u001b[0m\n\u001b[0;32m   2746\u001b[0m       _result = pywrap_tfe.TFE_Py_FastPathExecute(\n\u001b[0;32m   2747\u001b[0m         \u001b[0m_ctx\u001b[0m\u001b[1;33m.\u001b[0m\u001b[0m_context_handle\u001b[0m\u001b[1;33m,\u001b[0m \u001b[0mtld\u001b[0m\u001b[1;33m.\u001b[0m\u001b[0mdevice_name\u001b[0m\u001b[1;33m,\u001b[0m \u001b[1;34m\"MakeIterator\"\u001b[0m\u001b[1;33m,\u001b[0m \u001b[0mname\u001b[0m\u001b[1;33m,\u001b[0m\u001b[1;33m\u001b[0m\u001b[1;33m\u001b[0m\u001b[0m\n\u001b[1;32m-> 2748\u001b[1;33m         tld.op_callbacks, dataset, iterator)\n\u001b[0m\u001b[0;32m   2749\u001b[0m       \u001b[1;32mreturn\u001b[0m \u001b[0m_result\u001b[0m\u001b[1;33m\u001b[0m\u001b[1;33m\u001b[0m\u001b[0m\n\u001b[0;32m   2750\u001b[0m     \u001b[1;32mexcept\u001b[0m \u001b[0m_core\u001b[0m\u001b[1;33m.\u001b[0m\u001b[0m_FallbackException\u001b[0m\u001b[1;33m:\u001b[0m\u001b[1;33m\u001b[0m\u001b[1;33m\u001b[0m\u001b[0m\n",
      "\u001b[1;31mKeyboardInterrupt\u001b[0m: "
     ]
    }
   ],
   "source": [
    "### Learning in the environment ###\n",
    "\n",
    "# Initialise the run\n",
    "memory = deque(maxlen=MEMORY_SIZE)\n",
    "run = 0\n",
    "N = 200\n",
    "total_steps = 0\n",
    "\n",
    "# Initialise score capture\n",
    "run_list = []\n",
    "avg_score_list = []\n",
    "step_list = []\n",
    "loss_list = []\n",
    "\n",
    "\n",
    "# For debugging\n",
    "target_tests=[]\n",
    "best_action_tests=[]\n",
    "\n",
    "# Run for N episodes\n",
    "for i in range(0,N):\n",
    "    \n",
    "    # update run number\n",
    "    run += 1\n",
    "    \n",
    "    # Initialise environment \n",
    "    state = env.reset()\n",
    "    terminal = False\n",
    "    state = np.reshape(state, [1, observation_space])\n",
    "    step = 0\n",
    "    \n",
    "    # Run each episode\n",
    "    while not terminal:\n",
    "        \n",
    "        # update the step number \n",
    "        step += 1\n",
    "        total_steps += 1\n",
    "        \n",
    "        # choose an action\n",
    "        action = act(state)\n",
    "        \n",
    "        # Take a step\n",
    "        state_next, reward, terminal, info = env.step(action)\n",
    "        \n",
    "        # Reward negatively if episode ended\n",
    "        reward = reward if not terminal else -reward\n",
    "        \n",
    "        # reshape state_next to format of model.predict()\n",
    "        state_next = np.reshape(state_next, [1, observation_space])\n",
    "        \n",
    "        # Add experience to memory\n",
    "        remember(state, action, reward, state_next, terminal)\n",
    "        \n",
    "        # set next state\n",
    "        state = state_next\n",
    "        \n",
    "        # End the epsiode if step > 200 \n",
    "        if step > 200:\n",
    "            terminal = True\n",
    "        \n",
    "        # Print message at the end of every episode \n",
    "        if terminal:\n",
    "            avg_rewards = test(5, DQNetwork,  with_limit=True)\n",
    "            \n",
    "            # append history of score\n",
    "            run_list.append(run)\n",
    "            step_list.append(step)\n",
    "            avg_score_list.append(avg_rewards)\n",
    "            \n",
    "            print(\"Run: \" + str(run) + \", exploration: \" + str(exploration_rate) + \", average score: \" + str(avg_rewards))\n",
    "        \n",
    "        if total_steps % 1000 ==0:\n",
    "            update_model()\n",
    "            print(\"Target Model Updated!\")\n",
    "        \n",
    "        # Train for a batch of batch size \n",
    "        loss, x, y = experience_replay()\n",
    "        loss_list.append(loss)\n",
    "        target_tests.append(x)\n",
    "        best_action_tests.append(y)\n",
    "    \n",
    "print('Done Training!')        "
   ]
  },
  {
   "cell_type": "code",
   "execution_count": 18,
   "metadata": {},
   "outputs": [
    {
     "data": {
      "image/png": "[encoded data removed]",
      "text/plain": [
       "<Figure size 432x288 with 1 Axes>"
      ]
     },
     "metadata": {
      "needs_background": "light"
     },
     "output_type": "display_data"
    }
   ],
   "source": [
    "# plot result\n",
    "plt.plot(run_list, avg_score_list, run_list, step_list)\n",
    "plt.ylabel('Scores')\n",
    "plt.xlabel('Runs')\n",
    "plt.legend(['Average Rewards', 'Steps'])\n",
    "plt.show()"
   ]
  },
  {
   "cell_type": "code",
   "execution_count": 19,
   "metadata": {},
   "outputs": [
    {
     "data": {
      "image/png": "[encoded data removed]",
      "text/plain": [
       "<Figure size 432x288 with 1 Axes>"
      ]
     },
     "metadata": {
      "needs_background": "light"
     },
     "output_type": "display_data"
    }
   ],
   "source": [
    "# plot loss\n",
    "plt.plot(loss_list)\n",
    "plt.ylabel('Loss')\n",
    "plt.xlabel('Steps')\n",
    "plt.show()"
   ]
  },
  {
   "cell_type": "code",
   "execution_count": 20,
   "metadata": {},
   "outputs": [
    {
     "data": {
      "text/plain": [
       "[<matplotlib.lines.Line2D at 0x201944a8358>]"
      ]
     },
     "execution_count": 20,
     "metadata": {},
     "output_type": "execute_result"
    },
    {
     "data": {
      "image/png": "[encoded data removed]",
      "text/plain": [
       "<Figure size 432x288 with 1 Axes>"
      ]
     },
     "metadata": {
      "needs_background": "light"
     },
     "output_type": "display_data"
    }
   ],
   "source": [
    "plt.plot(target_tests)  # For debugging"
   ]
  },
  {
   "cell_type": "code",
   "execution_count": 23,
   "metadata": {},
   "outputs": [
    {
     "name": "stdout",
     "output_type": "stream",
     "text": [
      "After 50 episodes, the average score is 309.0200000000001\n"
     ]
    }
   ],
   "source": [
    "# run test\n",
    "n_episodes = 50\n",
    "avg_rewards = test(n_episodes, DQNetwork, with_limit = False, memory=None)\n",
    "print(\"After \" + str(n_episodes) + \" episodes, the average score is \" + str(avg_rewards))"
   ]
  },
  {
   "cell_type": "code",
   "execution_count": 28,
   "metadata": {},
   "outputs": [
    {
     "name": "stdout",
     "output_type": "stream",
     "text": [
      "Score: 152.0, Steps: 152\n"
     ]
    }
   ],
   "source": [
    "# Initialise environment \n",
    "state = env.reset()\n",
    "state = np.reshape(state, [1, observation_space])\n",
    "done = False \n",
    "total_reward = 0\n",
    "steps = 0\n",
    "\n",
    "# Until done \n",
    "while not done:\n",
    "\n",
    "    # render the current environment \n",
    "    env.render()\n",
    "\n",
    "    # take an action using model\n",
    "    action = np.argmax(DQNetwork.predict(state))\n",
    "    state, reward, done, info = env.step(action)\n",
    "    state = np.reshape(state, [1, observation_space])\n",
    "\n",
    "    total_reward += reward\n",
    "    steps += 1\n",
    "\n",
    "    # pause for visualisation\n",
    "    time.sleep(0.01)\n",
    "\n",
    "env.close()\n",
    "print (\"Score: {}, Steps: {}\".format(total_reward, steps))"
   ]
  },
  {
   "cell_type": "code",
   "execution_count": null,
   "metadata": {},
   "outputs": [],
   "source": []
  }
 ],
 "metadata": {
  "kernelspec": {
   "display_name": "Python 3",
   "language": "python",
   "name": "python3"
  },
  "language_info": {
   "codemirror_mode": {
    "name": "ipython",
    "version": 3
   },
   "file_extension": ".py",
   "mimetype": "text/x-python",
   "name": "python",
   "nbconvert_exporter": "python",
   "pygments_lexer": "ipython3",
   "version": "3.8.12"
  },
  "varInspector": {
   "cols": {
    "lenName": 16,
    "lenType": 16,
    "lenVar": 40
   },
   "kernels_config": {
    "python": {
     "delete_cmd_postfix": "",
     "delete_cmd_prefix": "del ",
     "library": "var_list.py",
     "varRefreshCmd": "print(var_dic_list())"
    },
    "r": {
     "delete_cmd_postfix": ") ",
     "delete_cmd_prefix": "rm(",
     "library": "var_list.r",
     "varRefreshCmd": "cat(var_dic_list()) "
    }
   },
   "oldHeight": 278.86,
   "position": {
    "height": "40px",
    "left": "1163px",
    "right": "20px",
    "top": "95px",
    "width": "350px"
   },
   "types_to_exclude": [
    "module",
    "function",
    "builtin_function_or_method",
    "instance",
    "_Feature"
   ],
   "varInspector_section_display": "none",
   "window_display": false
  }
 },
 "nbformat": 4,
 "nbformat_minor": 2
}
