{
 "cells": [
  {
   "cell_type": "code",
   "execution_count": 1,
   "metadata": {},
   "outputs": [
    {
     "name": "stdout",
     "output_type": "stream",
     "text": [
      "1.15.0\n"
     ]
    }
   ],
   "source": [
    "# Import packages\n",
    "import numpy as np\n",
    "import gym\n",
    "import matplotlib.pyplot as plt\n",
    "from collections import deque\n",
    "import random\n",
    "import time\n",
    "\n",
    "from tensorflow.keras.models import Sequential\n",
    "import tensorflow as tf\n",
    "print(tf.__version__)\n",
    "\n",
    "from skimage import transform \n",
    "from skimage.color import rgb2gray "
   ]
  },
  {
   "cell_type": "code",
   "execution_count": 2,
   "metadata": {},
   "outputs": [],
   "source": [
    "# Create our environment\n",
    "env = gym.make(\"SpaceInvaders-v0\")\n",
    "\n",
    "# Get state and action space\n",
    "state_size = env.observation_space\n",
    "action_size = env.action_space.n"
   ]
  },
  {
   "cell_type": "code",
   "execution_count": 3,
   "metadata": {},
   "outputs": [],
   "source": [
    "# Normalise, turn into greyscale and crop image\n",
    "frame_size = (110, 84)\n",
    "def preprocess_frame(frame):\n",
    "    # Greyscale frame \n",
    "    gray = rgb2gray(frame)\n",
    "    \n",
    "    # Crop the screen (remove the part below the player)\n",
    "    # [Up: Down, Left: right]\n",
    "    cropped_frame = gray[8:-12,4:-12]\n",
    "    \n",
    "    # Normalize Pixel Values\n",
    "    normalized_frame = cropped_frame/255.0\n",
    "    \n",
    "    # Resize\n",
    "    # Thanks to Mikołaj Walkowiak\n",
    "    preprocessed_frame = transform.resize(normalized_frame, frame_size)\n",
    "    \n",
    "    return preprocessed_frame # 110x84x1 frame"
   ]
  },
  {
   "cell_type": "code",
   "execution_count": 4,
   "metadata": {},
   "outputs": [],
   "source": [
    "# Stacking frames to provide input = [frame 1, frame 2, frame 3, frame 4]\n",
    "stack_size = 4\n",
    "# Initialise with array of zeros\n",
    "stacked_frames = deque([np.zeros(frame_size, dtype = np.int) for i in range(0,stack_size)], maxlen=stack_size)\n",
    "\n",
    "def stack_frames(stacked_frames, new_frame, is_new_episode):\n",
    "    \n",
    "    # Preprocess frame before stacking\n",
    "    frame = preprocess_frame(new_frame)\n",
    "    \n",
    "    # if new episode make copies of frame, else append frame\n",
    "    if is_new_episode:\n",
    "        \n",
    "        # Clear stacked frames\n",
    "        stacked_frames = deque([np.zeros(frame_size, dtype = np.int) for i in range(0,stack_size)], maxlen=stack_size)\n",
    "        \n",
    "        # Append the same frame to the stack stack_size times\n",
    "        for _ in range(0, stack_size):\n",
    "            stacked_frames.append(frame)\n",
    "        \n",
    "        # Return a numpy array for the stacked frame\n",
    "        stacked_states = np.stack(stacked_frames, axis = 2)\n",
    "    \n",
    "    else:\n",
    "        stacked_frames.append(frame)\n",
    "        stacked_states = np.stack(stacked_frames, axis = 2)\n",
    "    \n",
    "    return stacked_states, stacked_frames"
   ]
  },
  {
   "cell_type": "code",
   "execution_count": 5,
   "metadata": {},
   "outputs": [],
   "source": [
    "# Play a game to test environment \n",
    "def test(n_episodes, model = None, memory = None, render=False, clip_reward=True):\n",
    "    \n",
    "    # Initialise average rewards\n",
    "    avg_rewards = 0\n",
    "    run_list = []\n",
    "    \n",
    "    for i in range(1, n_episodes+1):\n",
    "        \n",
    "        # Initialise the start of environment\n",
    "        state = env.reset()\n",
    "        stacked_frames = deque([np.zeros(frame_size, dtype = np.int) for i in range(0,stack_size)], maxlen=stack_size)\n",
    "        state, stacked_frames = stack_frames(stacked_frames, state, True)\n",
    "        done = False \n",
    "        total_reward = 0\n",
    "        steps = 0\n",
    "        \n",
    "        # Play the environment until done\n",
    "        while not done:\n",
    "            if render:\n",
    "                env.render()\n",
    "                time.sleep(0.01)\n",
    "            if model:\n",
    "                action = np.argmax(sess.run(model.output, feed_dict = {model.inputs_: state[tf.newaxis,...]})[0])\n",
    "            else:\n",
    "                action = env.action_space.sample()\n",
    "            state_next, reward, done, info = env.step(action)\n",
    "            if clip_reward:\n",
    "                reward = np.sign(reward)\n",
    "            state_next, stacked_frames = stack_frames(stacked_frames, state_next, False)\n",
    "            if memory:\n",
    "                memory.store((state, action, reward, state_next, done))\n",
    "            state = state_next\n",
    "            total_reward += reward\n",
    "            steps += 1\n",
    "            if steps > 5000:\n",
    "                done = True\n",
    "                \n",
    "        if render:\n",
    "            env.close()\n",
    "        \n",
    "        # Store running average and run results\n",
    "        avg_rewards = avg_rewards + 1/(i) * (total_reward - avg_rewards)\n",
    "        run_list.append(steps)\n",
    "        \n",
    "    print(\"The average rewards for {} runs is {}\".format(n_episodes, avg_rewards))\n",
    "        \n",
    "    return run_list, avg_rewards"
   ]
  },
  {
   "cell_type": "code",
   "execution_count": 6,
   "metadata": {},
   "outputs": [],
   "source": [
    "class DQNetworks:\n",
    "    def __init__(self, state_size, action_size, learning_rate, name):\n",
    "        self.state_size = state_size\n",
    "        self.action_size = action_size\n",
    "        self.learning_rate = learning_rate\n",
    "        self.name = name\n",
    "        \n",
    "        with tf.variable_scope(self.name):\n",
    "            # We create the placeholders\n",
    "            # *state_size means that we take each elements of state_size in tuple hence is like if we wrote\n",
    "            # [None, 84, 84, 4]\n",
    "            self.inputs_ = tf.placeholder(tf.float32, [None, *state_size], name=\"inputs\")\n",
    "            self.actions_ = tf.placeholder(tf.float32, [None, self.action_size], name=\"actions_\")\n",
    "            \n",
    "            # Remember that target_Q is the R(s,a) + ymax Qhat(s', a')\n",
    "            self.target_Q = tf.placeholder(tf.float32, [None], name=\"target\")\n",
    "            self.mean_target = tf.reduce_mean(self.target_Q)\n",
    "            \n",
    "            # Input the Importance sampling weights here\n",
    "            self.IS_weights = tf.placeholder(tf.float32, [None], name=\"IS_weights\")\n",
    "            \n",
    "            \"\"\"\n",
    "            First convnet:\n",
    "            CNN\n",
    "            ELU\n",
    "            \"\"\"\n",
    "            # Input is 110x84x4\n",
    "            self.conv1 = tf.layers.conv2d(inputs = self.inputs_,\n",
    "                                         filters = 32,\n",
    "                                         kernel_size = [8,8],\n",
    "                                         strides = [4,4],\n",
    "                                         padding = \"VALID\",\n",
    "                                          kernel_initializer=tf.contrib.layers.xavier_initializer_conv2d(),\n",
    "                                         name = \"conv1\")\n",
    "            with tf.variable_scope('conv1', reuse=True):\n",
    "                self.conv1w = tf.get_variable('kernel')\n",
    "                self.conv1b = tf.get_variable('bias')\n",
    "                \n",
    "            self.conv1_out = tf.nn.elu(self.conv1, name=\"conv1_out\")\n",
    "\n",
    "                \n",
    "            \"\"\"\n",
    "            Second convnet:\n",
    "            CNN\n",
    "            ELU\n",
    "            \"\"\"\n",
    "            self.conv2 = tf.layers.conv2d(inputs = self.conv1_out,\n",
    "                                 filters = 64,\n",
    "                                 kernel_size = [4,4],\n",
    "                                 strides = [2,2],\n",
    "                                 padding = \"VALID\",\n",
    "                                kernel_initializer=tf.contrib.layers.xavier_initializer_conv2d(),\n",
    "                                 name = \"conv2\")\n",
    "            \n",
    "            with tf.variable_scope('conv2', reuse=True):\n",
    "                self.conv2w = tf.get_variable('kernel')\n",
    "                self.conv2b = tf.get_variable('bias')\n",
    "                \n",
    "\n",
    "            self.conv2_out = tf.nn.elu(self.conv2, name=\"conv2_out\")            \n",
    "            \n",
    "            \"\"\"\n",
    "            Third convnet:\n",
    "            CNN\n",
    "            ELU\n",
    "            \"\"\"\n",
    "            self.conv3 = tf.layers.conv2d(inputs = self.conv2_out,\n",
    "                                 filters = 64,\n",
    "                                 kernel_size = [3,3],\n",
    "                                 strides = [2,2],\n",
    "                                 padding = \"VALID\",\n",
    "                                kernel_initializer=tf.contrib.layers.xavier_initializer_conv2d(),\n",
    "                                 name = \"conv3\")\n",
    "            \n",
    "            with tf.variable_scope('conv3', reuse=True):\n",
    "                self.conv3w = tf.get_variable('kernel')\n",
    "                self.conv3b = tf.get_variable('bias')\n",
    "\n",
    "            self.conv3_out = tf.nn.elu(self.conv3, name=\"conv3_out\")\n",
    "            \n",
    "            self.flatten = tf.contrib.layers.flatten(self.conv3_out)\n",
    "            \n",
    "            ## Here to separate into two streams\n",
    "            # The one to calculate V(s)\n",
    "            self.value_fc = tf.layers.dense(inputs = self.flatten,\n",
    "                                            units = 512,\n",
    "                                            activation = tf.nn.elu,\n",
    "                                            kernel_initializer=tf.contrib.layers.xavier_initializer(),\n",
    "                                            name=\"value_fc\")\n",
    "            \n",
    "            with tf.variable_scope('value_fc', reuse=True):\n",
    "                self.value_fcw = tf.get_variable('kernel')\n",
    "                self.value_fcb = tf.get_variable('bias')\n",
    "                \n",
    "            self.value =  tf.layers.dense(inputs = self.value_fc,\n",
    "                                          units = 1,\n",
    "                                          activation = None,\n",
    "                                          kernel_initializer=tf.contrib.layers.xavier_initializer(),\n",
    "                                          name=\"value\")\n",
    "            \n",
    "            # The one to calculate A(s,a)\n",
    "            self.advantage_fc = tf.layers.dense(inputs = self.flatten,\n",
    "                                                units = 512,\n",
    "                                                activation = tf.nn.elu,\n",
    "                                                kernel_initializer=tf.contrib.layers.xavier_initializer(),\n",
    "                                                name=\"advantage_fc\")\n",
    "            \n",
    "            with tf.variable_scope('advantage_fc', reuse=True):\n",
    "                self.advantage_fcw = tf.get_variable('kernel')\n",
    "                self.advantage_fcb = tf.get_variable('bias')\n",
    "            \n",
    "            self.advantage = tf.layers.dense(inputs = self.advantage_fc, \n",
    "                                             kernel_initializer=tf.contrib.layers.xavier_initializer(),\n",
    "                                             units = self.action_size, \n",
    "                                             activation=None,\n",
    "                                             name = \"advantage\")\n",
    "            \n",
    "            \n",
    "            # Agregating layer \n",
    "            self.output = tf.add(self.value, tf.subtract(self.advantage, tf.reduce_mean(self.advantage, axis=1, keepdims=True)))\n",
    "            \n",
    "            self.max_Q_pred = tf.reduce_max(self.output, axis = 1)\n",
    "            self.max_Q_mean_pred = tf.reduce_mean(self.max_Q_pred)\n",
    "            self.argmax_Q_pred = tf.argmax(self.output, axis = 1)\n",
    "            \n",
    "            # Q is our predicted Q value.\n",
    "            self.Q = tf.reduce_sum(tf.multiply(self.output, self.actions_), axis = -1)      \n",
    "        \n",
    "            \n",
    "            # Absolute errors for Priortising\n",
    "            self.abs_TD_error = tf.abs(self.target_Q - self.Q)\n",
    "            \n",
    "            # The loss is the difference between our predicted Q_values and the Q_target\n",
    "            # Sum(Qtarget - Q)^2\n",
    "            self.loss = tf.reduce_mean(self.IS_weights * tf.square(self.abs_TD_error))\n",
    "            \n",
    "            self.optimizer = tf.train.RMSPropOptimizer(self.learning_rate).minimize(self.loss)"
   ]
  },
  {
   "cell_type": "code",
   "execution_count": 7,
   "metadata": {},
   "outputs": [
    {
     "name": "stdout",
     "output_type": "stream",
     "text": [
      "WARNING:tensorflow:\n",
      "The TensorFlow contrib module will not be included in TensorFlow 2.0.\n",
      "For more information, please see:\n",
      "  * https://github.com/tensorflow/community/blob/master/rfcs/20180907-contrib-sunset.md\n",
      "  * https://github.com/tensorflow/addons\n",
      "  * https://github.com/tensorflow/io (for I/O related ops)\n",
      "If you depend on functionality not listed there, please file an issue.\n",
      "\n",
      "WARNING:tensorflow:From <ipython-input-6-e6f882f61076>:34: conv2d (from tensorflow.python.layers.convolutional) is deprecated and will be removed in a future version.\n",
      "Instructions for updating:\n",
      "Use `tf.keras.layers.Conv2D` instead.\n",
      "WARNING:tensorflow:From C:\\Users\\MY2\\AppData\\Local\\Continuum\\anaconda3\\envs\\tf14\\lib\\site-packages\\tensorflow_core\\python\\layers\\convolutional.py:424: Layer.apply (from tensorflow.python.keras.engine.base_layer) is deprecated and will be removed in a future version.\n",
      "Instructions for updating:\n",
      "Please use `layer.__call__` method instead.\n",
      "WARNING:tensorflow:From C:\\Users\\MY2\\AppData\\Local\\Continuum\\anaconda3\\envs\\tf14\\lib\\site-packages\\tensorflow_core\\contrib\\layers\\python\\layers\\layers.py:1634: flatten (from tensorflow.python.layers.core) is deprecated and will be removed in a future version.\n",
      "Instructions for updating:\n",
      "Use keras.layers.flatten instead.\n",
      "WARNING:tensorflow:From <ipython-input-6-e6f882f61076>:89: dense (from tensorflow.python.layers.core) is deprecated and will be removed in a future version.\n",
      "Instructions for updating:\n",
      "Use keras.layers.Dense instead.\n",
      "WARNING:tensorflow:From C:\\Users\\MY2\\AppData\\Local\\Continuum\\anaconda3\\envs\\tf14\\lib\\site-packages\\tensorflow_core\\python\\training\\rmsprop.py:119: calling Ones.__init__ (from tensorflow.python.ops.init_ops) with dtype is deprecated and will be removed in a future version.\n",
      "Instructions for updating:\n",
      "Call initializer instance with the dtype argument instead of passing it to the constructor\n"
     ]
    }
   ],
   "source": [
    "# Reset the graph\n",
    "LEARNING_RATE = 0.001\n",
    "tf.reset_default_graph()\n",
    "\n",
    "# Instantiate the DQNetwork\n",
    "DQNetwork = DQNetworks([110, 84, 4], action_size, LEARNING_RATE, \"DQN\")\n",
    "TargetDQNetwork = DQNetworks([110, 84, 4], action_size, LEARNING_RATE, \"TargetDQN\")"
   ]
  },
  {
   "cell_type": "code",
   "execution_count": 8,
   "metadata": {},
   "outputs": [
    {
     "name": "stdout",
     "output_type": "stream",
     "text": [
      "INFO:tensorflow:Restoring parameters from C:\\Users\\MY2\\iCloudDrive\\Documents\\Computer Science\\Reinforcement Learning\\Model Results\\Atari Space Invader\\best model\\model.ckpt\n"
     ]
    }
   ],
   "source": [
    "sess = tf.Session()\n",
    "saver = tf.train.Saver()\n",
    "path = r\"C:\\Users\\MY2\\iCloudDrive\\Documents\\Computer Science\\Reinforcement Learning\\Model Results\\Atari Space Invader\\best model\\model.ckpt\"\n",
    "saver.restore(sess, path)"
   ]
  },
  {
   "cell_type": "code",
   "execution_count": 17,
   "metadata": {},
   "outputs": [
    {
     "name": "stdout",
     "output_type": "stream",
     "text": [
      "The average rewards for 1 runs is 45.0\n"
     ]
    },
    {
     "data": {
      "text/plain": [
       "([388], 45.0)"
      ]
     },
     "execution_count": 17,
     "metadata": {},
     "output_type": "execute_result"
    }
   ],
   "source": [
    "test(1, model=DQNetwork, render=True, clip_reward=False)"
   ]
  },
  {
   "cell_type": "code",
   "execution_count": 18,
   "metadata": {},
   "outputs": [
    {
     "name": "stdout",
     "output_type": "stream",
     "text": [
      "The average rewards for 10 runs is 162.0\n"
     ]
    },
    {
     "data": {
      "text/plain": [
       "([659, 325, 929, 880, 636, 815, 1012, 1111, 911, 957], 162.0)"
      ]
     },
     "execution_count": 18,
     "metadata": {},
     "output_type": "execute_result"
    }
   ],
   "source": [
    "test(10, model=DQNetwork, render=False, clip_reward=False)"
   ]
  },
  {
   "cell_type": "code",
   "execution_count": null,
   "metadata": {},
   "outputs": [],
   "source": []
  }
 ],
 "metadata": {
  "kernelspec": {
   "display_name": "Python 3",
   "language": "python",
   "name": "python3"
  },
  "language_info": {
   "codemirror_mode": {
    "name": "ipython",
    "version": 3
   },
   "file_extension": ".py",
   "mimetype": "text/x-python",
   "name": "python",
   "nbconvert_exporter": "python",
   "pygments_lexer": "ipython3",
   "version": "3.7.6"
  }
 },
 "nbformat": 4,
 "nbformat_minor": 4
}
