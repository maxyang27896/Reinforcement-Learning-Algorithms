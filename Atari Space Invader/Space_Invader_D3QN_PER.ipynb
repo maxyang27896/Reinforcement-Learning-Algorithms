{
 "cells": [
  {
   "cell_type": "markdown",
   "metadata": {},
   "source": [
    "# Deep Q Learning to Play Space Invaders"
   ]
  },
  {
   "cell_type": "code",
   "execution_count": 1,
   "metadata": {},
   "outputs": [
    {
     "name": "stdout",
     "output_type": "stream",
     "text": [
      "1.15.0\n"
     ]
    }
   ],
   "source": [
    "# Import packages\n",
    "import numpy as np\n",
    "import gym\n",
    "import matplotlib.pyplot as plt\n",
    "from collections import deque\n",
    "import random\n",
    "import time\n",
    "\n",
    "from tensorflow.keras.models import Sequential\n",
    "import tensorflow as tf\n",
    "print(tf.__version__)\n",
    "\n",
    "from skimage import transform \n",
    "from skimage.color import rgb2gray "
   ]
  },
  {
   "cell_type": "code",
   "execution_count": 2,
   "metadata": {},
   "outputs": [
    {
     "name": "stdout",
     "output_type": "stream",
     "text": [
      "[name: \"/device:CPU:0\"\n",
      "device_type: \"CPU\"\n",
      "memory_limit: 268435456\n",
      "locality {\n",
      "}\n",
      "incarnation: 14782160759977460175\n",
      ", name: \"/device:XLA_CPU:0\"\n",
      "device_type: \"XLA_CPU\"\n",
      "memory_limit: 17179869184\n",
      "locality {\n",
      "}\n",
      "incarnation: 11179188289977572899\n",
      "physical_device_desc: \"device: XLA_CPU device\"\n",
      ", name: \"/device:GPU:0\"\n",
      "device_type: \"GPU\"\n",
      "memory_limit: 11329617920\n",
      "locality {\n",
      "  bus_id: 1\n",
      "  links {\n",
      "  }\n",
      "}\n",
      "incarnation: 13137602717052311735\n",
      "physical_device_desc: \"device: 0, name: Tesla K80, pci bus id: 0001:00:00.0, compute capability: 3.7\"\n",
      ", name: \"/device:XLA_GPU:0\"\n",
      "device_type: \"XLA_GPU\"\n",
      "memory_limit: 17179869184\n",
      "locality {\n",
      "}\n",
      "incarnation: 4982666980522841153\n",
      "physical_device_desc: \"device: XLA_GPU device\"\n",
      "]\n"
     ]
    }
   ],
   "source": [
    "from tensorflow.python.client import device_lib\n",
    "print(device_lib.list_local_devices())"
   ]
  },
  {
   "cell_type": "code",
   "execution_count": 3,
   "metadata": {},
   "outputs": [
    {
     "name": "stdout",
     "output_type": "stream",
     "text": [
      "Num GPUs Available:  1\n"
     ]
    }
   ],
   "source": [
    "print(\"Num GPUs Available: \", len(tf.config.experimental.list_physical_devices('GPU')))"
   ]
  },
  {
   "cell_type": "markdown",
   "metadata": {},
   "source": [
    "## [1] Create the environment"
   ]
  },
  {
   "cell_type": "code",
   "execution_count": 4,
   "metadata": {},
   "outputs": [
    {
     "name": "stdout",
     "output_type": "stream",
     "text": [
      "The size of our frame is:  Box(210, 160, 3)\n",
      "The action size is :  6\n"
     ]
    }
   ],
   "source": [
    "# Create our environment\n",
    "env = gym.make(\"SpaceInvaders-v0\")\n",
    "\n",
    "# Get state and action space\n",
    "state_size = env.observation_space\n",
    "action_size = env.action_space.n\n",
    "\n",
    "print(\"The size of our frame is: \", state_size)\n",
    "print(\"The action size is : \", action_size)"
   ]
  },
  {
   "cell_type": "markdown",
   "metadata": {},
   "source": [
    "## [2] Preprocess Functions"
   ]
  },
  {
   "cell_type": "code",
   "execution_count": 5,
   "metadata": {},
   "outputs": [],
   "source": [
    "# plotting the images in a list\n",
    "def plot_frames(display_list, title_list = None):\n",
    "    \n",
    "    plt.figure(figsize=(10, 10))\n",
    "    for i in range(len(display_list)):\n",
    "        plt.subplot(1, len(display_list), i+1) \n",
    "        \n",
    "        if title_list:\n",
    "            plt.title(title_list[i])\n",
    "        plt.imshow(display_list[i])\n",
    "        plt.axis('off')\n",
    "\n",
    "    plt.show()"
   ]
  },
  {
   "cell_type": "markdown",
   "metadata": {},
   "source": [
    "### [2.1] Image Filtering"
   ]
  },
  {
   "cell_type": "code",
   "execution_count": 6,
   "metadata": {},
   "outputs": [
    {
     "data": {
      "image/png": "[encoded data removed]",
      "text/plain": [
       "<Figure size 720x720 with 2 Axes>"
      ]
     },
     "metadata": {
      "needs_background": "light"
     },
     "output_type": "display_data"
    },
    {
     "name": "stdout",
     "output_type": "stream",
     "text": [
      "Size before process:  (210, 160, 3)\n",
      "Size after process:  (110, 84)\n"
     ]
    }
   ],
   "source": [
    "# Normalise, turn into greyscale and crop image\n",
    "frame_size = (110, 84)\n",
    "def preprocess_frame(frame):\n",
    "    # Greyscale frame \n",
    "    gray = rgb2gray(frame)\n",
    "    \n",
    "    # Crop the screen (remove the part below the player)\n",
    "    # [Up: Down, Left: right]\n",
    "    cropped_frame = gray[8:-12,4:-12]\n",
    "    \n",
    "    # Normalize Pixel Values\n",
    "    normalized_frame = cropped_frame/255.0\n",
    "    \n",
    "    # Resize\n",
    "    # Thanks to Mikołaj Walkowiak\n",
    "    preprocessed_frame = transform.resize(normalized_frame, frame_size)\n",
    "    \n",
    "    return preprocessed_frame # 110x84x1 frame\n",
    "\n",
    "# Test out the preprocess procedure\n",
    "sample_state = env.reset()\n",
    "sample_state_processed = preprocess_frame(sample_state)\n",
    "plot_frames([sample_state, sample_state_processed], ['Original Frame','Processed Frame'])\n",
    "\n",
    "print('Size before process: ', sample_state.shape)\n",
    "print('Size after process: ', sample_state_processed.shape)"
   ]
  },
  {
   "cell_type": "markdown",
   "metadata": {},
   "source": [
    "### [2.2] Stack the frames"
   ]
  },
  {
   "cell_type": "code",
   "execution_count": 7,
   "metadata": {},
   "outputs": [
    {
     "data": {
      "image/png": "[encoded data removed]",
      "text/plain": [
       "<Figure size 720x720 with 4 Axes>"
      ]
     },
     "metadata": {
      "needs_background": "light"
     },
     "output_type": "display_data"
    },
    {
     "data": {
      "image/png": "[encoded data removed]",
      "text/plain": [
       "<Figure size 720x720 with 4 Axes>"
      ]
     },
     "metadata": {
      "needs_background": "light"
     },
     "output_type": "display_data"
    }
   ],
   "source": [
    "# Given a stacked frame, append a new frame to this stack\n",
    "def stack_frames(stacked_frames, new_frame, is_new_episode):\n",
    "    \n",
    "    # Preprocess frame before stacking\n",
    "    frame = preprocess_frame(new_frame)\n",
    "    \n",
    "    # if new episode make copies of frame, else append frame\n",
    "    if is_new_episode:\n",
    "        \n",
    "        # Clear stacked frames\n",
    "        stacked_frames = deque([np.zeros(frame_size, dtype = np.int) for i in range(0,stack_size)], maxlen=stack_size)\n",
    "        \n",
    "        # Append the same frame to the stack stack_size times\n",
    "        for _ in range(0, stack_size):\n",
    "            stacked_frames.append(frame)\n",
    "        \n",
    "        # Return a numpy array for the stacked frame\n",
    "        stacked_states = np.stack(stacked_frames, axis = 2)\n",
    "    \n",
    "    else:\n",
    "        stacked_frames.append(frame)\n",
    "        stacked_states = np.stack(stacked_frames, axis = 2)\n",
    "    \n",
    "    return stacked_states, stacked_frames\n",
    "\n",
    "# Stacking frames to provide input = [frame 1, frame 2, frame 3, frame 4]\n",
    "stack_size = 4\n",
    "\n",
    "# Initialise with array of zeros\n",
    "stacked_frames = deque([np.zeros(frame_size, dtype = np.int) for i in range(0,stack_size)], maxlen=stack_size)\n",
    "\n",
    "# Test out the stack_frames procedure\n",
    "sample_state = env.reset()\n",
    "stacked_states, stacked_frames = stack_frames(stacked_frames, sample_state, True)\n",
    "plot_frames(stacked_frames, ['Frame ' + str(1) for i in range(0,4)])\n",
    "\n",
    "for i in range(0, 4):\n",
    "    sample_next_state, _ , done , _  = env.step(env.action_space.sample())\n",
    "    stacked_states, stacked_frames = stack_frames(stacked_frames, sample_next_state, False)\n",
    "    \n",
    "plot_frames(stacked_frames, ['Frame ' + str(1) for i in range(1,4)] + ['Frame 2'] )"
   ]
  },
  {
   "cell_type": "markdown",
   "metadata": {},
   "source": [
    "## 3 Training "
   ]
  },
  {
   "cell_type": "code",
   "execution_count": 8,
   "metadata": {},
   "outputs": [],
   "source": [
    "# Define paramters for training \n",
    "LEARNING_RATE = 0.001\n",
    "MEMORY_SIZE = 50000\n",
    "BATCH_SIZE = 64\n",
    "MAX_STEP = 50000\n",
    "UPDATE_MODEL_STEP = 5000\n",
    "\n",
    "EXPLORATION_RATE = 1\n",
    "EXPLORATION_DECAY = 0.9999\n",
    "EXPLORATION_MIN = 0.01\n",
    "\n",
    "GAMMA = 0.9"
   ]
  },
  {
   "cell_type": "markdown",
   "metadata": {},
   "source": [
    "### [3.1] Create Deep Q Neural Network"
   ]
  },
  {
   "cell_type": "code",
   "execution_count": 9,
   "metadata": {},
   "outputs": [],
   "source": [
    "class DQNetworks:\n",
    "    def __init__(self, state_size, action_size, learning_rate, name='DQNetwork'):\n",
    "        self.state_size = state_size\n",
    "        self.action_size = action_size\n",
    "        self.learning_rate = learning_rate\n",
    "        \n",
    "        with tf.variable_scope(name):\n",
    "            # We create the placeholders\n",
    "            # *state_size means that we take each elements of state_size in tuple hence is like if we wrote\n",
    "            # [None, 84, 84, 4]\n",
    "            self.inputs_ = tf.placeholder(tf.float32, [None, *state_size], name=\"inputs\")\n",
    "            self.actions_ = tf.placeholder(tf.float32, [None, self.action_size], name=\"actions_\")\n",
    "            \n",
    "            # Remember that target_Q is the R(s,a) + ymax Qhat(s', a')\n",
    "            self.target_Q = tf.placeholder(tf.float32, [None], name=\"target\")\n",
    "            \n",
    "            # Input the Importance sampling weights here\n",
    "            self.IS_weights = tf.placeholder(tf.float32, [None], name=\"IS_weights\")\n",
    "            \n",
    "            \"\"\"\n",
    "            First convnet:\n",
    "            CNN\n",
    "            ELU\n",
    "            \"\"\"\n",
    "            # Input is 110x84x4\n",
    "            self.conv1 = tf.layers.conv2d(inputs = self.inputs_,\n",
    "                                         filters = 32,\n",
    "                                         kernel_size = [8,8],\n",
    "                                         strides = [4,4],\n",
    "                                         padding = \"VALID\",\n",
    "                                          kernel_initializer=tf.contrib.layers.xavier_initializer_conv2d(),\n",
    "                                         name = \"conv1\")\n",
    "            \n",
    "            self.conv1_out = tf.nn.elu(self.conv1, name=\"conv1_out\")\n",
    "            \n",
    "            \"\"\"\n",
    "            Second convnet:\n",
    "            CNN\n",
    "            ELU\n",
    "            \"\"\"\n",
    "            self.conv2 = tf.layers.conv2d(inputs = self.conv1_out,\n",
    "                                 filters = 64,\n",
    "                                 kernel_size = [4,4],\n",
    "                                 strides = [2,2],\n",
    "                                 padding = \"VALID\",\n",
    "                                kernel_initializer=tf.contrib.layers.xavier_initializer_conv2d(),\n",
    "                                 name = \"conv2\")\n",
    "\n",
    "            self.conv2_out = tf.nn.elu(self.conv2, name=\"conv2_out\")            \n",
    "            \n",
    "            \"\"\"\n",
    "            Third convnet:\n",
    "            CNN\n",
    "            ELU\n",
    "            \"\"\"\n",
    "            self.conv3 = tf.layers.conv2d(inputs = self.conv2_out,\n",
    "                                 filters = 64,\n",
    "                                 kernel_size = [3,3],\n",
    "                                 strides = [2,2],\n",
    "                                 padding = \"VALID\",\n",
    "                                kernel_initializer=tf.contrib.layers.xavier_initializer_conv2d(),\n",
    "                                 name = \"conv3\")\n",
    "\n",
    "            self.conv3_out = tf.nn.elu(self.conv3, name=\"conv3_out\")\n",
    "            \n",
    "            self.flatten = tf.contrib.layers.flatten(self.conv3_out)\n",
    "            \n",
    "            ## Here to separate into two streams\n",
    "            # The one to calculate V(s)\n",
    "            self.value_fc = tf.layers.dense(inputs = self.flatten,\n",
    "                                            units = 512,\n",
    "                                            activation = tf.nn.elu,\n",
    "                                            kernel_initializer=tf.contrib.layers.xavier_initializer(),\n",
    "                                            name=\"value_fc\")\n",
    "            \n",
    "            self.value =  tf.layers.dense(inputs = self.value_fc,\n",
    "                                          units = 1,\n",
    "                                          activation = None,\n",
    "                                          kernel_initializer=tf.contrib.layers.xavier_initializer(),\n",
    "                                          name=\"value\")\n",
    "            \n",
    "            # The one to calculate A(s,a)\n",
    "            self.advantage_fc = tf.layers.dense(inputs = self.flatten,\n",
    "                                                units = 512,\n",
    "                                                activation = tf.nn.elu,\n",
    "                                                kernel_initializer=tf.contrib.layers.xavier_initializer(),\n",
    "                                                name=\"advantage_fc\")\n",
    "            \n",
    "            self.advantage = tf.layers.dense(inputs = self.advantage_fc, \n",
    "                                             kernel_initializer=tf.contrib.layers.xavier_initializer(),\n",
    "                                             units = self.action_size, \n",
    "                                             activation=None,\n",
    "                                             name = \"advantage\")\n",
    "            \n",
    "            \n",
    "            # Agregating layer \n",
    "            self.output = tf.add(self.value, tf.subtract(self.advantage, tf.reduce_mean(self.advantage, axis=1, keepdims=True)))\n",
    "              \n",
    "            # Q is our predicted Q value.\n",
    "            self.Q = tf.reduce_sum(tf.multiply(self.output, self.actions_), axis = -1)\n",
    "            \n",
    "            # Absolute errors for Priortising\n",
    "            self.abs_TD_error = tf.abs(self.target_Q - self.Q)\n",
    "            \n",
    "            # The loss is the difference between our predicted Q_values and the Q_target\n",
    "            # Sum(Qtarget - Q)^2\n",
    "            self.loss = tf.reduce_mean(self.IS_weights * tf.square(self.abs_TD_error))\n",
    "            \n",
    "            self.optimizer = tf.train.RMSPropOptimizer(self.learning_rate).minimize(self.loss)"
   ]
  },
  {
   "cell_type": "code",
   "execution_count": 10,
   "metadata": {},
   "outputs": [
    {
     "name": "stdout",
     "output_type": "stream",
     "text": [
      "WARNING:tensorflow:\n",
      "The TensorFlow contrib module will not be included in TensorFlow 2.0.\n",
      "For more information, please see:\n",
      "  * https://github.com/tensorflow/community/blob/master/rfcs/20180907-contrib-sunset.md\n",
      "  * https://github.com/tensorflow/addons\n",
      "  * https://github.com/tensorflow/io (for I/O related ops)\n",
      "If you depend on functionality not listed there, please file an issue.\n",
      "\n",
      "WARNING:tensorflow:From <ipython-input-9-4db6040b10dd>:32: conv2d (from tensorflow.python.layers.convolutional) is deprecated and will be removed in a future version.\n",
      "Instructions for updating:\n",
      "Use `tf.keras.layers.Conv2D` instead.\n",
      "WARNING:tensorflow:From /anaconda/envs/rl_tensorflow1/lib/python3.7/site-packages/tensorflow_core/python/layers/convolutional.py:424: Layer.apply (from tensorflow.python.keras.engine.base_layer) is deprecated and will be removed in a future version.\n",
      "Instructions for updating:\n",
      "Please use `layer.__call__` method instead.\n",
      "WARNING:tensorflow:From /anaconda/envs/rl_tensorflow1/lib/python3.7/site-packages/tensorflow_core/contrib/layers/python/layers/layers.py:1634: flatten (from tensorflow.python.layers.core) is deprecated and will be removed in a future version.\n",
      "Instructions for updating:\n",
      "Use keras.layers.flatten instead.\n",
      "WARNING:tensorflow:From <ipython-input-9-4db6040b10dd>:74: dense (from tensorflow.python.layers.core) is deprecated and will be removed in a future version.\n",
      "Instructions for updating:\n",
      "Use keras.layers.Dense instead.\n",
      "WARNING:tensorflow:From /anaconda/envs/rl_tensorflow1/lib/python3.7/site-packages/tensorflow_core/python/training/rmsprop.py:119: calling Ones.__init__ (from tensorflow.python.ops.init_ops) with dtype is deprecated and will be removed in a future version.\n",
      "Instructions for updating:\n",
      "Call initializer instance with the dtype argument instead of passing it to the constructor\n"
     ]
    }
   ],
   "source": [
    "# Reset the graph\n",
    "tf.reset_default_graph()\n",
    "\n",
    "# Instantiate the DQNetwork\n",
    "DQNetwork = DQNetworks([110, 84, 4], action_size, LEARNING_RATE, \"DQN\")\n",
    "\n",
    "# Instantiate the TargetDQNetwork\n",
    "TargetDQNetwork = DQNetworks([110, 84, 4], action_size, LEARNING_RATE, \"TargetDQN\")"
   ]
  },
  {
   "cell_type": "markdown",
   "metadata": {},
   "source": [
    "### [3.2] Create memory for experience relay"
   ]
  },
  {
   "cell_type": "code",
   "execution_count": 11,
   "metadata": {},
   "outputs": [],
   "source": [
    "class SumTree:\n",
    "    \n",
    "    # Index for pointing to data \n",
    "    data_index = 0\n",
    "    capacity_filled = 0\n",
    "    \n",
    "    # Initialise the tree and data\n",
    "    def __init__(self, capacity):\n",
    "        \n",
    "        # The size of the leaves\n",
    "        self.capacity = capacity\n",
    "        \n",
    "        # Define the tree list itself, zeros everywhere\n",
    "        self.tree = np.zeros(capacity*2 - 1)\n",
    "        \n",
    "        # Define the data list for holding experiences, zeros everywhere\n",
    "        self.data = np.zeros(capacity, dtype=object)\n",
    "        \n",
    "    # Add new values to tree\n",
    "    def add(self, priority, data):\n",
    "        \n",
    "        # add to data list \n",
    "        self.data[self.data_index] = data\n",
    "        \n",
    "        # add the priority to the leaf of the tree\n",
    "        tree_index = self.data_index + self.capacity - 1\n",
    "        self.update(priority, tree_index)\n",
    "        \n",
    "        # Increase data_index\n",
    "        self.data_index += 1\n",
    "        if self.data_index > self.capacity - 1:\n",
    "            self.data_index = 0\n",
    "            \n",
    "        # Inrease capacity filled\n",
    "        if self.capacity_filled < self.capacity:\n",
    "            self.capacity_filled += 1\n",
    "            \n",
    "    # Update all the nodes leading up to a leaf\n",
    "    def update(self, priority, tree_index):\n",
    "        \n",
    "        # Find the change in priority value\n",
    "        delta_priority = priority - self.tree[tree_index]\n",
    "        \n",
    "        # Update leaf\n",
    "        self.tree[tree_index] = priority\n",
    "        \n",
    "        # Propagate change up\n",
    "        while tree_index != 0 :\n",
    "            tree_index = (tree_index - 1)//2\n",
    "            self.tree[tree_index] += delta_priority \n",
    "            \n",
    "    # sample a leaf from a value\n",
    "    def get_leaf(self, value):\n",
    "        \n",
    "        # Define initial indixes\n",
    "        parent_index = 0\n",
    "        left_index = 1\n",
    "        right_index = 2\n",
    "        \n",
    "        # Retrive the leaf algorithm\n",
    "        while left_index < (2*self.capacity - 1):\n",
    "            if self.tree[left_index] >= value: \n",
    "                parent_index = left_index\n",
    "            else:\n",
    "                parent_index = right_index\n",
    "                value = value - self.tree[left_index]      \n",
    "            # Update left_index for next iteration\n",
    "            left_index = parent_index*2 + 1\n",
    "            right_index = left_index + 1\n",
    "            \n",
    "        return parent_index, self.tree[parent_index], self.data[parent_index + 1 - self.capacity]"
   ]
  },
  {
   "cell_type": "code",
   "execution_count": 12,
   "metadata": {},
   "outputs": [],
   "source": [
    "class Memory():\n",
    "    \n",
    "    # Max TD error\n",
    "    abs_error_upper = 1.0;\n",
    "    \n",
    "    # Prioritzation exponents\n",
    "    PER_a = 0.6\n",
    "    PER_b = 0.4\n",
    "    epsilon= 0.01\n",
    "    \n",
    "    # Incremental value for PER_b\n",
    "    PER_b_increments = 0.001\n",
    "    \n",
    "    def __init__(self, capacity):\n",
    "        \n",
    "        # Create the sum tree\n",
    "        self.memory_tree = SumTree(capacity)\n",
    "            \n",
    "    def store(self, experience):\n",
    "        \n",
    "        # Get the max priority so far\n",
    "        max_priority = np.max(self.memory_tree.tree[-self.memory_tree.capacity:])\n",
    "        \n",
    "        # if max prioity is 0 then set it as abs_error_upper\n",
    "        if max_priority == 0:\n",
    "            max_priority = self.abs_error_upper\n",
    "        \n",
    "        # Store this experience in the tree\n",
    "        self.memory_tree.add(max_priority, experience)\n",
    "        \n",
    "        \n",
    "    def sample(self, n):\n",
    "        \n",
    "        # Get total priority\n",
    "        total_priority = self.memory_tree.tree[0]\n",
    "        \n",
    "        # Sample from a mini range [0:total_priority] in batch sizes\n",
    "        sample_ranges = np.linspace(0, total_priority, num=n+1)\n",
    "        \n",
    "        # get min P(i) of data filled so far and max weight to scale maximum weights = 1\n",
    "        start_filled = -self.memory_tree.capacity\n",
    "        end_filled = -(self.memory_tree.capacity - self.memory_tree.capacity_filled)\n",
    "        min_probability = np.min(self.memory_tree.tree[start_filled:end_filled])/total_priority\n",
    "        max_weight = (self.memory_tree.capacity_filled * min_probability) ** (-self.PER_b)\n",
    "        \n",
    "        # Initialise list for storing\n",
    "        tree_indexes = np.empty(n, dtype=np.int32)\n",
    "        IS_weights = np.empty(n, dtype=np.float32)\n",
    "        batch = []\n",
    "        \n",
    "        # Sample in a loop\n",
    "        for i in range(0, n):\n",
    "            value = np.random.uniform(sample_ranges[i], sample_ranges[i+1])\n",
    "            tree_index, priority, experience = self.memory_tree.get_leaf(value)\n",
    "            \n",
    "            # Append tree indicies of sample \n",
    "            tree_indexes[i] = tree_index\n",
    "            \n",
    "            # Obtain IS_weights\n",
    "            sample_probability = (priority / total_priority)\n",
    "            IS_weights[i] = ((self.memory_tree.capacity_filled * sample_probability) ** (-self.PER_b)) / max_weight\n",
    "            \n",
    "            # append expereice  to batch\n",
    "            batch.append(experience)\n",
    "            \n",
    "        # Increase PER_b value for every sampling action max = 1\n",
    "        if self.PER_b < 1.0:\n",
    "            self.PER_b += self.PER_b_increments\n",
    "        \n",
    "        return tree_indexes, IS_weights, batch\n",
    "            \n",
    "            \n",
    "    def update_batch(self, tree_indexes, TD_errors):\n",
    "        priorities = np.minimum(self.abs_error_upper, (TD_errors + self.epsilon)) ** self.PER_a\n",
    "        \n",
    "        # update the batch of prrioties\n",
    "        for idx, new_p in zip(tree_indexes, priorities):\n",
    "            self.memory_tree.update(new_p, idx)"
   ]
  },
  {
   "cell_type": "code",
   "execution_count": 176,
   "metadata": {},
   "outputs": [
    {
     "data": {
      "text/plain": [
       "array([1.        , 1.        , 1.        , 0.06473273, 0.06612306,\n",
       "       1.        , 1.        , 0.06399166, 1.        , 1.        ,\n",
       "       1.        , 0.06318223, 1.        , 1.        , 1.        ,\n",
       "       1.        , 1.        , 0.06552009, 0.06575353, 1.        ,\n",
       "       1.        , 1.        , 0.06333977, 1.        , 0.06717559,\n",
       "       0.06318223, 1.        , 1.        , 1.        , 0.06386025,\n",
       "       0.06333977, 1.        , 1.        , 1.        , 1.        ,\n",
       "       1.        , 0.06637347, 0.06552009, 1.        , 1.        ,\n",
       "       1.        , 0.06575353, 1.        , 1.        , 0.063321  ,\n",
       "       1.        , 1.        , 0.06630511, 0.06383928, 1.        ,\n",
       "       1.        , 1.        , 0.06536387, 1.        , 1.        ,\n",
       "       1.        , 0.06683905, 1.        , 1.        , 1.        ,\n",
       "       1.        , 1.        , 1.        , 0.06545214, 0.06346885,\n",
       "       1.        , 1.        , 1.        , 1.        , 0.06661084,\n",
       "       1.        , 1.        , 0.06550597, 0.06440443, 1.        ,\n",
       "       1.        , 0.06400467, 1.        , 1.        , 0.06754773,\n",
       "       1.        , 0.063782  , 1.        , 1.        , 1.        ,\n",
       "       0.06319021, 1.        , 1.        , 1.        , 0.06715172,\n",
       "       0.06374482, 1.        , 1.        , 1.        , 1.        ,\n",
       "       1.        , 1.        , 1.        , 0.06423435, 1.        ,\n",
       "       1.        , 0.06704216, 0.07027248, 0.06684463, 1.        ,\n",
       "       1.        , 1.        , 1.        , 1.        , 1.        ,\n",
       "       0.06710742, 0.06700554, 1.        , 1.        , 0.06331985,\n",
       "       1.        , 0.0660276 , 1.        , 1.        , 0.06705848,\n",
       "       1.        , 1.        , 1.        , 1.        , 0.06363475,\n",
       "       0.06719848, 1.        , 1.        , 1.        , 0.06658529,\n",
       "       1.        , 1.        , 0.06920104, 0.06871764, 1.        ,\n",
       "       1.        , 1.        , 0.06339486, 1.        , 1.        ,\n",
       "       1.        , 0.06603123, 1.        , 0.06358742, 0.06570768,\n",
       "       1.        , 1.        , 1.        , 1.        , 1.        ,\n",
       "       1.        , 0.06317125, 1.        , 1.        , 0.06517456,\n",
       "       0.06508412, 1.        , 1.        , 1.        , 1.        ,\n",
       "       1.        , 1.        , 1.        , 1.        , 0.06469345,\n",
       "       1.        , 0.06464654, 1.        , 0.06834736, 0.06551124,\n",
       "       0.06545993, 1.        , 1.        , 1.        , 1.        ,\n",
       "       1.        , 1.        , 0.0651146 , 1.        , 1.        ,\n",
       "       0.06984644, 1.        , 1.        , 1.        , 1.        ,\n",
       "       1.        , 1.        , 0.06711062, 1.        , 1.        ,\n",
       "       0.06643637, 1.        , 1.        , 0.06499342, 1.        ,\n",
       "       1.        , 1.        , 1.        , 1.        , 1.        ,\n",
       "       0.06323843, 1.        , 0.06330934, 0.06668945, 1.        ,\n",
       "       0.06587992, 1.        , 0.06638373, 1.        , 1.        ,\n",
       "       1.        , 1.        , 1.        , 0.06345777, 0.06706327,\n",
       "       1.        , 1.        , 0.06438411, 1.        , 1.        ,\n",
       "       1.        , 1.        , 1.        , 0.06538875, 1.        ,\n",
       "       1.        , 0.06691183, 1.        , 1.        , 1.        ,\n",
       "       0.06562048, 1.        , 0.067015  , 1.        , 1.        ,\n",
       "       1.        , 1.        , 1.        , 0.06727041, 1.        ,\n",
       "       0.06629608, 0.06389057, 1.        , 1.        , 1.        ,\n",
       "       1.        , 0.06570937, 1.        , 1.        , 1.        ,\n",
       "       0.06702765, 0.06317168, 0.06436122, 1.        , 1.        ,\n",
       "       0.06320713, 0.06740396, 1.        , 1.        , 1.        ,\n",
       "       1.        , 1.        , 1.        , 1.        , 0.06702018,\n",
       "       0.06647485, 1.        , 0.06593321, 1.        , 1.        ,\n",
       "       1.        , 1.        , 1.        , 0.06582179, 0.06811521,\n",
       "       0.06501938, 1.        , 1.        , 1.        , 1.        ,\n",
       "       1.        , 1.        , 1.        , 1.        , 0.06774074,\n",
       "       0.06453839, 0.06352066, 1.        , 1.        , 1.        ,\n",
       "       1.        , 1.        , 0.06905232, 1.        , 1.        ,\n",
       "       0.06574026, 0.06713065, 1.        , 1.        , 1.        ,\n",
       "       1.        , 0.06362674, 1.        , 0.06729146, 1.        ,\n",
       "       0.06571166, 1.        , 1.        , 1.        , 1.        ,\n",
       "       0.06323726, 1.        , 1.        , 1.        , 1.        ,\n",
       "       0.06803462, 1.        , 0.06555586, 1.        , 1.        ,\n",
       "       0.06611062, 1.        , 1.        , 0.06900927, 0.06571166,\n",
       "       1.        , 1.        , 1.        , 0.06816768, 1.        ,\n",
       "       1.        , 1.        , 1.        , 0.06459812, 0.06580897,\n",
       "       1.        , 1.        , 1.        , 0.06399927, 1.        ,\n",
       "       0.06664351, 0.06693064, 1.        , 1.        , 1.        ,\n",
       "       1.        , 1.        , 1.        , 1.        , 1.        ,\n",
       "       0.06703879, 0.06756993, 1.        , 1.        , 0.06370607,\n",
       "       1.        , 0.06734652, 1.        , 1.        , 0.06651288,\n",
       "       0.06398858, 1.        , 1.        , 1.        , 1.        ,\n",
       "       0.06520706, 0.06839173, 1.        , 1.        , 1.        ,\n",
       "       1.        , 0.06549813, 1.        , 1.        , 0.06440011,\n",
       "       1.        , 1.        , 0.06419115, 1.        , 1.        ,\n",
       "       0.06471997, 1.        , 1.        , 1.        , 1.        ,\n",
       "       0.06424892, 0.06564637, 0.06421266, 1.        , 1.        ,\n",
       "       1.        , 1.        , 1.        , 1.        , 1.        ,\n",
       "       0.06485476, 1.        , 1.        , 1.        , 0.06515177,\n",
       "       0.0660743 , 1.        , 0.06478775, 1.        , 1.        ,\n",
       "       1.        , 1.        , 0.06481957, 1.        , 0.06425619,\n",
       "       1.        , 1.        , 0.06520921, 1.        , 0.06370082,\n",
       "       0.06321917, 1.        , 1.        , 1.        , 1.        ,\n",
       "       1.        , 1.        , 1.        , 1.        , 1.        ,\n",
       "       1.        , 0.06337199, 0.06321917, 1.        , 0.06310049,\n",
       "       0.06329437, 1.        , 1.        , 0.06504801, 1.        ,\n",
       "       0.06429765, 1.        , 1.        , 1.        , 1.        ,\n",
       "       0.06429765, 0.06329437, 1.        , 1.        , 1.        ,\n",
       "       0.06420917, 1.        , 1.        , 1.        , 0.06329437,\n",
       "       0.06491591, 1.        , 0.06429765, 1.        , 1.        ,\n",
       "       1.        , 1.        , 1.        , 1.        , 1.        ,\n",
       "       1.        , 0.06456055, 1.        , 0.0663514 , 0.06421839,\n",
       "       1.        , 1.        , 1.        , 1.        , 0.06396507,\n",
       "       1.        , 0.06494895, 1.        , 1.        , 0.06518993,\n",
       "       1.        , 1.        , 1.        , 1.        , 1.        ,\n",
       "       1.        , 1.        , 0.06418239, 0.06327369, 1.        ,\n",
       "       0.06435479, 1.        , 1.        , 0.06399083, 0.06435286,\n",
       "       0.06431608, 1.        , 1.        , 1.        , 1.        ,\n",
       "       1.        , 1.        , 1.        , 0.06494001, 1.        ,\n",
       "       1.        , 1.        , 0.06659483, 0.06329167, 1.        ,\n",
       "       0.06640942, 0.06523172, 0.06377001, 1.        , 1.        ,\n",
       "       1.        , 1.        , 1.        , 0.0651284 , 1.        ,\n",
       "       1.        , 1.        , 1.        , 1.        , 1.        ,\n",
       "       0.06385557, 0.0631187 , 1.        , 1.        , 1.        ,\n",
       "       1.        , 1.        , 1.        , 0.06544579, 1.        ,\n",
       "       1.        , 0.06415531, 0.06392049, 1.        , 0.06331077,\n",
       "       0.0677709 , 1.        , 1.        , 1.        , 1.        ,\n",
       "       0.06358667, 1.        , 1.        , 1.        , 1.        ,\n",
       "       1.        , 1.        , 0.06605832, 0.06313545, 1.        ,\n",
       "       0.06457852, 1.        , 1.        , 1.        , 0.06356799,\n",
       "       1.        , 1.        , 0.06380608, 1.        , 0.06909215,\n",
       "       1.        , 0.06543177, 0.06660467, 1.        , 0.06327847,\n",
       "       1.        , 1.        , 1.        , 1.        , 1.        ,\n",
       "       1.        , 1.        , 0.06367435, 1.        , 0.06660467,\n",
       "       1.        , 1.        , 1.        , 0.06380559, 1.        ,\n",
       "       1.        , 1.        , 0.06405053, 0.06344744, 0.06688765,\n",
       "       1.        , 1.        , 1.        , 1.        , 1.        ,\n",
       "       1.        , 1.        , 0.06688765, 0.06344743, 1.        ,\n",
       "       0.06367435, 1.        , 1.        ])"
      ]
     },
     "execution_count": 176,
     "metadata": {},
     "output_type": "execute_result"
    }
   ],
   "source": [
    "start_filled = -memory.memory_tree.capacity \n",
    "end_filled = -(memory.memory_tree.capacity - memory.memory_tree.capacity_filled) \n",
    "memory.memory_tree.tree[start_filled:end_filled]"
   ]
  },
  {
   "cell_type": "code",
   "execution_count": 122,
   "metadata": {},
   "outputs": [
    {
     "data": {
      "text/plain": [
       "563.0"
      ]
     },
     "execution_count": 122,
     "metadata": {},
     "output_type": "execute_result"
    }
   ],
   "source": [
    "memory.memory_tree.tree[0]"
   ]
  },
  {
   "cell_type": "markdown",
   "metadata": {},
   "source": [
    "### [3.3] Act to exploit or explore"
   ]
  },
  {
   "cell_type": "code",
   "execution_count": 13,
   "metadata": {},
   "outputs": [],
   "source": [
    "# Function to pick action either from model or take random action\n",
    "def act(state, exploration_rate):\n",
    "    \n",
    "    # Take random action\n",
    "    if np.random.rand() < exploration_rate:\n",
    "        return env.action_space.sample()\n",
    "    \n",
    "    # Else use the model to predict a action\n",
    "    q_values = sess.run(DQNetwork.output, feed_dict = {DQNetwork.inputs_: state[tf.newaxis,...]})\n",
    "    \n",
    "    return np.argmax(q_values[0])"
   ]
  },
  {
   "cell_type": "code",
   "execution_count": 14,
   "metadata": {},
   "outputs": [],
   "source": [
    "# Update the target network \n",
    "def update_graph():\n",
    "    \n",
    "    # Get weights\n",
    "    from_vars = tf.get_collection(tf.GraphKeys.TRAINABLE_VARIABLES, \"DQN\")\n",
    "    to_vars = tf.get_collection(tf.GraphKeys.TRAINABLE_VARIABLES, \"TargetDQN\")\n",
    "    \n",
    "    # Update the target \n",
    "    updated_weights = [to_var.assign(from_var) for from_var, to_var in zip(from_vars, to_vars)]\n",
    "    \n",
    "    return updated_weights"
   ]
  },
  {
   "cell_type": "markdown",
   "metadata": {},
   "source": [
    "## [3.4] Train agent in batches from memory"
   ]
  },
  {
   "cell_type": "code",
   "execution_count": 15,
   "metadata": {},
   "outputs": [],
   "source": [
    "# Function to fit data from experience obtained from memory, THE LEARNING PROCEDURE\n",
    "def model_fit(BATCH_SIZE):\n",
    "    \n",
    "    # Sample from memory\n",
    "    tree_idx, IS_weights, batch = memory.sample(BATCH_SIZE)\n",
    "\n",
    "    # Initialise list of target Q and states\n",
    "    target_Q = []\n",
    "    state_train = []\n",
    "    action_list = []\n",
    "    \n",
    "    # Extract each parameter from batch\n",
    "    for state, action, reward, state_next, done in batch:\n",
    "\n",
    "        # add states to list\n",
    "        state_train.append(state)\n",
    "        \n",
    "        # add action to list\n",
    "        action_onehot = np.zeros(action_size)\n",
    "        action_onehot[action] = 1\n",
    "        action_list.append(action_onehot)\n",
    "\n",
    "        # Add the target Q to list\n",
    "        if done:\n",
    "            target_Q.append(reward)\n",
    "        else:\n",
    "            # Double target DQN, take best action from DQN and update with Q-values with TargetDQN Q-values[best_action]\n",
    "            best_action = np.argmax(sess.run(DQNetwork.output, \n",
    "                                            feed_dict = {DQNetwork.inputs_: state_next[tf.newaxis,...]})[0])\n",
    "            Q_update = reward + GAMMA * sess.run(TargetDQNetwork.output, \n",
    "                                                feed_dict = {TargetDQNetwork.inputs_: state_next[tf.newaxis,...]})[0][best_action]\n",
    "            target_Q.append(Q_update)\n",
    "\n",
    "    # Turn states and target Q in numpy arrays\n",
    "    state_train = np.array(state_train)\n",
    "    target_Q = np.array(target_Q)\n",
    "    action_list = np.array(action_list)\n",
    "    \n",
    "    # Fit the data \n",
    "    loss, abs_TD_error, _ = sess.run([DQNetwork.loss, DQNetwork.abs_TD_error, DQNetwork.optimizer],\n",
    "                                            feed_dict={DQNetwork.inputs_: state_train,\n",
    "                                                    DQNetwork.target_Q: target_Q,\n",
    "                                                    DQNetwork.actions_: action_list,\n",
    "                                                    DQNetwork.IS_weights: IS_weights})\n",
    "    # Update the priorites with latest TD errors\n",
    "    memory.update_batch(tree_idx, abs_TD_error)\n",
    "    \n",
    "    return loss"
   ]
  },
  {
   "cell_type": "markdown",
   "metadata": {},
   "source": [
    "### [3.5] Test agent by taking random actions"
   ]
  },
  {
   "cell_type": "code",
   "execution_count": 22,
   "metadata": {},
   "outputs": [],
   "source": [
    "# Play a game to test environment \n",
    "def test(n_episodes, model = None, memory = None):\n",
    "    \n",
    "    # Initialise average rewards\n",
    "    avg_rewards = 0\n",
    "    run_list = []\n",
    "    \n",
    "    for i in range(1, n_episodes+1):\n",
    "        \n",
    "        # Initialise the start of environment\n",
    "        state = env.reset()\n",
    "        stacked_frames = deque([np.zeros(frame_size, dtype = np.int) for i in range(0,stack_size)], maxlen=stack_size)\n",
    "        state, stacked_frames = stack_frames(stacked_frames, state, True)\n",
    "        done = False \n",
    "        total_reward = 0\n",
    "        steps = 0\n",
    "\n",
    "        while not done:\n",
    "            if model:\n",
    "                action = np.argmax(sess.run(model.output, feed_dict = {model.inputs_: state[tf.newaxis,...]})[0])\n",
    "            else:\n",
    "                action = env.action_space.sample()\n",
    "            state_next, reward, done, info = env.step(action)\n",
    "            state_next, stacked_frames = stack_frames(stacked_frames, state_next, False)\n",
    "            if memory:\n",
    "                memory.store((state, action, reward, state_next, done))\n",
    "            state = state_next\n",
    "            total_reward += reward\n",
    "            steps += 1\n",
    "            if steps > MAX_STEP:\n",
    "                done = True\n",
    "        \n",
    "        avg_rewards = avg_rewards + 1/(i) * (total_reward - avg_rewards)\n",
    "        run_list.append(steps)\n",
    "        \n",
    "    return run_list, avg_rewards"
   ]
  },
  {
   "cell_type": "code",
   "execution_count": 16,
   "metadata": {},
   "outputs": [
    {
     "name": "stdout",
     "output_type": "stream",
     "text": [
      "Total steps by taking random actions:  [801]\n",
      "Average rewards by taking random actions:  180.0\n",
      "Memory length:  801\n"
     ]
    }
   ],
   "source": [
    "# Initialise memory\n",
    "memory = Memory(MEMORY_SIZE)\n",
    "\n",
    "# Run Tests\n",
    "steps, total_reward = test(1, model = None, memory = memory)\n",
    "\n",
    "print(\"Total steps by taking random actions: \", steps)\n",
    "print(\"Average rewards by taking random actions: \", total_reward)\n",
    "print(\"Memory length: \", memory.memory_tree.capacity_filled)"
   ]
  },
  {
   "cell_type": "code",
   "execution_count": 184,
   "metadata": {},
   "outputs": [
    {
     "name": "stdout",
     "output_type": "stream",
     "text": [
      "[0.3194578 0.3194578 0.3194578 0.3194578 0.3194578 0.3194578 0.3194578\n",
      " 0.3194578 0.3194578 0.3194578 0.3194578 0.3194578 0.3194578 0.3194578\n",
      " 0.3194578 0.3194578 0.3194578 0.3194578 0.9849532 0.3194578 0.3194578\n",
      " 0.3194578 0.3194578 0.3194578 0.3194578 0.3194578 0.3194578 0.3194578\n",
      " 0.3194578 0.3194578 0.3194578 0.3194578 0.3194578 0.3194578 0.3194578\n",
      " 0.3194578 0.3194578 0.3194578 0.3194578 0.3194578 0.9916156 0.3194578\n",
      " 0.3194578 0.3194578 0.3194578 0.3194578 0.3194578 0.3194578 0.3194578\n",
      " 0.3194578 0.3194578 0.3194578 0.3194578 0.3194578 0.3194578 0.3194578\n",
      " 0.3194578 0.3194578 0.3194578 0.3194578 0.3194578 0.3194578 0.3194578\n",
      " 0.3194578]\n"
     ]
    }
   ],
   "source": [
    "tree_idx, IS_weights, batch = memory.sample(BATCH_SIZE)\n",
    "\n",
    "print(IS_weights)"
   ]
  },
  {
   "cell_type": "code",
   "execution_count": 186,
   "metadata": {},
   "outputs": [
    {
     "data": {
      "text/plain": [
       "array([1.        , 1.        , 1.        , 1.        , 1.        ,\n",
       "       1.        , 1.        , 1.        , 1.        , 1.        ,\n",
       "       1.        , 1.        , 1.        , 1.        , 1.        ,\n",
       "       1.        , 1.        , 1.        , 0.06545993, 1.        ,\n",
       "       1.        , 1.        , 1.        , 1.        , 1.        ,\n",
       "       1.        , 1.        , 1.        , 1.        , 1.        ,\n",
       "       1.        , 1.        , 1.        , 1.        , 1.        ,\n",
       "       1.        , 1.        , 1.        , 1.        , 1.        ,\n",
       "       0.06440011, 1.        , 1.        , 1.        , 1.        ,\n",
       "       1.        , 1.        , 1.        , 1.        , 1.        ,\n",
       "       1.        , 1.        , 1.        , 1.        , 1.        ,\n",
       "       1.        , 1.        , 1.        , 1.        , 1.        ,\n",
       "       1.        , 1.        , 1.        , 1.        ])"
      ]
     },
     "execution_count": 186,
     "metadata": {},
     "output_type": "execute_result"
    }
   ],
   "source": [
    "memory.memory_tree.tree[tree_idx]"
   ]
  },
  {
   "cell_type": "code",
   "execution_count": 194,
   "metadata": {},
   "outputs": [
    {
     "data": {
      "text/plain": [
       "5"
      ]
     },
     "execution_count": 194,
     "metadata": {},
     "output_type": "execute_result"
    }
   ],
   "source": [
    "batch[0][1]"
   ]
  },
  {
   "cell_type": "code",
   "execution_count": 100,
   "metadata": {},
   "outputs": [
    {
     "name": "stdout",
     "output_type": "stream",
     "text": [
      "0.010286483\n",
      "[0.11516771 0.43870953]\n",
      "[0.01151677 0.04387095]\n"
     ]
    }
   ],
   "source": [
    "# Define the training material\n",
    "state_train = np.random.rand(2,110, 84, 4)\n",
    "target_Q = np.random.rand(2)\n",
    "action_list = np.array([[0,1,0,0,0,0], [0,0,0,0,1,0]])\n",
    "IS_weights = np.array([0.1, 0.1])\n",
    "\n",
    "with tf.Session() as sess:\n",
    "    \n",
    "    # Initialize the variables\n",
    "    sess.run(tf.global_variables_initializer())\n",
    "    \n",
    "    loss, abs_error, weighted_TD = sess.run([DQNetwork.loss, DQNetwork.abs_TD_error, DQNetwork.weighted_TD], \n",
    "                                    feed_dict = {DQNetwork.inputs_: stacked_states[tf.newaxis,...], \n",
    "                                                 DQNetwork.target_Q: target_Q,\n",
    "                                                 DQNetwork.actions_: action_list,\n",
    "                                                 DQNetwork.IS_weights: IS_weights})\n",
    "\n",
    "\n",
    "print(loss)\n",
    "print(abs_error)\n",
    "print(weighted_TD)"
   ]
  },
  {
   "cell_type": "code",
   "execution_count": 22,
   "metadata": {},
   "outputs": [
    {
     "name": "stdout",
     "output_type": "stream",
     "text": [
      "Loss is : 2.551473\n",
      "Elapsed_time:  0.5619301795959473\n"
     ]
    }
   ],
   "source": [
    "# Check time taken to train for 1 batch\n",
    "start_time = time.time()\n",
    "with tf.Session() as sess:\n",
    "    # Initialize the variables\n",
    "    sess.run(tf.global_variables_initializer())\n",
    "    history = model_fit(BATCH_SIZE)\n",
    "print(\"Loss is :\", history)\n",
    "print(\"Elapsed_time: \", time.time() - start_time)"
   ]
  },
  {
   "cell_type": "markdown",
   "metadata": {},
   "source": [
    "### Training on the environment"
   ]
  },
  {
   "cell_type": "code",
   "execution_count": 16,
   "metadata": {
    "scrolled": true
   },
   "outputs": [
    {
     "name": "stdout",
     "output_type": "stream",
     "text": [
      "Target network updated!\n",
      "Episode 1, exploration rate: 0.9435, final rewards: 85.0, final loss is 0.0978, Time elapsed: 108.3577\n",
      "Episode 2, exploration rate: 0.8730, final rewards: 180.0, final loss is 0.1104, Time elapsed: 156.2128\n",
      "Episode 3, exploration rate: 0.8311, final rewards: 110.0, final loss is 0.2104, Time elapsed: 100.4073\n",
      "Episode 4, exploration rate: 0.7996, final rewards: 75.0, final loss is 0.2507, Time elapsed: 78.5321\n",
      "Episode 5, exploration rate: 0.7531, final rewards: 155.0, final loss is 0.0910, Time elapsed: 121.4904\n",
      "Episode 6, exploration rate: 0.6787, final rewards: 595.0, final loss is 0.7193, Time elapsed: 210.6556\n",
      "Episode 7, exploration rate: 0.6173, final rewards: 395.0, final loss is 0.4406, Time elapsed: 192.0100\n",
      "Target network updated!\n",
      "Episode 8, exploration rate: 0.5943, final rewards: 90.0, final loss is 0.2861, Time elapsed: 78.0376\n",
      "Episode 9, exploration rate: 0.5491, final rewards: 175.0, final loss is 0.7156, Time elapsed: 161.8867\n",
      "Episode 10, exploration rate: 0.5266, final rewards: 55.0, final loss is 0.4513, Time elapsed: 85.7790\n",
      "Episode 11, exploration rate: 0.5008, final rewards: 80.0, final loss is 0.2702, Time elapsed: 103.1428\n",
      "Episode 12, exploration rate: 0.4743, final rewards: 65.0, final loss is 0.4408, Time elapsed: 111.4342\n",
      "Episode 13, exploration rate: 0.4457, final rewards: 30.0, final loss is 0.4890, Time elapsed: 126.9235\n",
      "Episode 14, exploration rate: 0.4178, final rewards: 210.0, final loss is 0.1944, Time elapsed: 132.5400\n",
      "Episode 15, exploration rate: 0.3936, final rewards: 115.0, final loss is 1.0416, Time elapsed: 121.1942\n",
      "Episode 16, exploration rate: 0.3763, final rewards: 80.0, final loss is 0.3817, Time elapsed: 90.3465\n",
      "Target network updated!\n",
      "Episode 17, exploration rate: 0.3492, final rewards: 110.0, final loss is 0.2617, Time elapsed: 152.4072\n",
      "Episode 18, exploration rate: 0.3132, final rewards: 90.0, final loss is 0.5116, Time elapsed: 222.5293\n",
      "Episode 19, exploration rate: 0.2925, final rewards: 125.0, final loss is 0.4101, Time elapsed: 140.2073\n",
      "Episode 20, exploration rate: 0.2685, final rewards: 160.0, final loss is 0.2731, Time elapsed: 175.1041\n",
      "Episode 21, exploration rate: 0.2554, final rewards: 75.0, final loss is 0.5629, Time elapsed: 102.6119\n",
      "Episode 22, exploration rate: 0.2452, final rewards: 60.0, final loss is 0.3417, Time elapsed: 83.1061\n",
      "Episode 23, exploration rate: 0.2274, final rewards: 190.0, final loss is 0.1002, Time elapsed: 154.5613\n",
      "Target network updated!\n",
      "Episode 24, exploration rate: 0.2129, final rewards: 125.0, final loss is 0.6949, Time elapsed: 135.2438\n",
      "Episode 25, exploration rate: 0.1934, final rewards: 215.0, final loss is 0.2011, Time elapsed: 195.3392\n",
      "Episode 26, exploration rate: 0.1809, final rewards: 185.0, final loss is 0.1750, Time elapsed: 136.7911\n",
      "Episode 27, exploration rate: 0.1660, final rewards: 325.0, final loss is 1.2164, Time elapsed: 177.0283\n",
      "Episode 28, exploration rate: 0.1576, final rewards: 20.0, final loss is 0.1373, Time elapsed: 105.6825\n",
      "Episode 29, exploration rate: 0.1495, final rewards: 45.0, final loss is 0.2757, Time elapsed: 108.1345\n",
      "Episode 30, exploration rate: 0.1399, final rewards: 150.0, final loss is 0.4601, Time elapsed: 135.3918\n",
      "Target network updated!\n",
      "Episode 31, exploration rate: 0.1325, final rewards: 135.0, final loss is 0.2090, Time elapsed: 110.3182\n",
      "Episode 32, exploration rate: 0.1218, final rewards: 260.0, final loss is 0.1956, Time elapsed: 172.2855\n",
      "Episode 33, exploration rate: 0.1125, final rewards: 165.0, final loss is 0.3714, Time elapsed: 160.2346\n",
      "Episode 34, exploration rate: 0.1037, final rewards: 160.0, final loss is 1.4150, Time elapsed: 163.8246\n",
      "Episode 35, exploration rate: 0.0984, final rewards: 70.0, final loss is 1.3532, Time elapsed: 106.7901\n",
      "Episode 36, exploration rate: 0.0892, final rewards: 215.0, final loss is 1.4807, Time elapsed: 198.5871\n",
      "Target network updated!\n",
      "Episode 37, exploration rate: 0.0804, final rewards: 305.0, final loss is 3.3493, Time elapsed: 208.6394\n",
      "Episode 38, exploration rate: 0.0747, final rewards: 140.0, final loss is 0.3675, Time elapsed: 149.9774\n",
      "Episode 39, exploration rate: 0.0702, final rewards: 105.0, final loss is 2.0395, Time elapsed: 122.5237\n",
      "Episode 40, exploration rate: 0.0656, final rewards: 215.0, final loss is 0.5847, Time elapsed: 136.5394\n",
      "Episode 41, exploration rate: 0.0586, final rewards: 260.0, final loss is 0.2136, Time elapsed: 226.5050\n",
      "Episode 42, exploration rate: 0.0538, final rewards: 425.0, final loss is 0.7544, Time elapsed: 173.3992\n",
      "Episode 43, exploration rate: 0.0511, final rewards: 80.0, final loss is 0.4411, Time elapsed: 104.4349\n",
      "Target network updated!\n",
      "Episode 44, exploration rate: 0.0477, final rewards: 125.0, final loss is 0.3084, Time elapsed: 138.9850\n",
      "Episode 45, exploration rate: 0.0441, final rewards: 175.0, final loss is 1.0569, Time elapsed: 159.3980\n",
      "Episode 46, exploration rate: 0.0412, final rewards: 110.0, final loss is 0.1766, Time elapsed: 134.1222\n",
      "Episode 47, exploration rate: 0.0380, final rewards: 130.0, final loss is 0.2881, Time elapsed: 168.3144\n",
      "Episode 48, exploration rate: 0.0346, final rewards: 150.0, final loss is 0.6900, Time elapsed: 188.5071\n",
      "Episode 49, exploration rate: 0.0306, final rewards: 430.0, final loss is 0.4056, Time elapsed: 251.9443\n",
      "Target network updated!\n",
      "Episode 50, exploration rate: 0.0286, final rewards: 125.0, final loss is 0.3499, Time elapsed: 135.3331\n",
      "Model Saved\n"
     ]
    }
   ],
   "source": [
    "# Saver will help us to save our model\n",
    "saver = tf.train.Saver()\n",
    "\n",
    "# Re-Initialise memory for training\n",
    "memory = Memory(MEMORY_SIZE)\n",
    "\n",
    "# Store measurements\n",
    "loss = []\n",
    "reward_list = []\n",
    "step_list = []\n",
    "total_steps = 0\n",
    "start_time = time.time()\n",
    "\n",
    "with tf.Session() as sess:\n",
    "    \n",
    "    # Initialize the variables\n",
    "    sess.run(tf.global_variables_initializer())\n",
    "     \n",
    "    # Number of episodes to train \n",
    "    N = 50 \n",
    "    for i in range(0, N):\n",
    "\n",
    "        # Initialise state\n",
    "        state = env.reset()\n",
    "        state, stacked_frames = stack_frames(stacked_frames, state, True)\n",
    "        reward_sum = 0\n",
    "\n",
    "        # Initialise step oer episode\n",
    "        step = 0\n",
    "        done = False\n",
    "\n",
    "        while not done:\n",
    "\n",
    "            # Get action \n",
    "            action = act(state, EXPLORATION_RATE)\n",
    "\n",
    "            # Take action\n",
    "            state_next, reward, done, _ = env.step(action)\n",
    "\n",
    "            # stops the episode by set max step\n",
    "            if step > MAX_STEP:\n",
    "                done = True\n",
    "                print(\"Episode Done\")\n",
    "\n",
    "            # Append the next state\n",
    "            state_next, stacked_frames = stack_frames(stacked_frames, state_next, False)\n",
    "\n",
    "            # Append to memory\n",
    "            memory.store((state, action, reward, state_next, done))\n",
    "\n",
    "            # Forward to next state\n",
    "            state = state_next\n",
    "\n",
    "            # accumulate rewards\n",
    "            reward_sum += reward\n",
    "            \n",
    "            # Update model every UPDATE_STEP (5000)\n",
    "            if total_steps % UPDATE_MODEL_STEP == 0:\n",
    "                sess.run(update_graph())\n",
    "                print(\"Target network updated!\")\n",
    "\n",
    "            # accumilate steps\n",
    "            step += 1\n",
    "            total_steps += 1\n",
    "\n",
    "            # Reduce the exploreation every step\n",
    "            EXPLORATION_RATE *= EXPLORATION_DECAY\n",
    "            EXPLORATION_RATE = max(EXPLORATION_MIN, EXPLORATION_RATE)\n",
    "\n",
    "            ### Learning procedure begins ###\n",
    "            # learn only when memory has be filled to batch size\n",
    "            if memory.memory_tree.capacity_filled >= BATCH_SIZE:\n",
    "                history = model_fit(BATCH_SIZE)\n",
    "\n",
    "                # store loss\n",
    "                loss.append(history)\n",
    "            ### Learning procedure ends ###\n",
    "\n",
    "            # Print messge every 100 episodes\n",
    "#             if total_steps % 100 == 0:\n",
    "#                 print(\"Afte {} steps, exploration rate: {:.4f}, reward: {}, Model loss: {:.4f}\"\\\n",
    "#                       .format(total_steps, EXPLORATION_RATE, reward_sum, history))\n",
    "                \n",
    "\n",
    "        # Append values at the end of an episode\n",
    "        step_list.append(step)\n",
    "        reward_list.append(reward_sum)\n",
    "\n",
    "        # print information at the end of the episode\n",
    "        print(\"Episode {}, exploration rate: {:.4f}, final rewards: {}, final loss is {:.4f}, Time elapsed: {:.4f}\"\\\n",
    "              .format(i+1, EXPLORATION_RATE, reward_sum, history, time.time() - start_time))\n",
    "        start_time = time.time()\n",
    "        \n",
    "    save_path = saver.save(sess, \"./D3QN_PER_models/model.ckpt\")\n",
    "    print(\"Model Saved\")"
   ]
  },
  {
   "cell_type": "code",
   "execution_count": 17,
   "metadata": {},
   "outputs": [
    {
     "data": {
      "image/png": "[encoded data removed]",
      "text/plain": [
       "<Figure size 432x288 with 1 Axes>"
      ]
     },
     "metadata": {
      "needs_background": "light"
     },
     "output_type": "display_data"
    }
   ],
   "source": [
    "# plot result\n",
    "plt.plot(reward_list)\n",
    "plt.ylabel('Steps')\n",
    "plt.xlabel('Runs')\n",
    "\n",
    "\n",
    "plt.plot(step_list)\n",
    "plt.ylabel('Steps')\n",
    "plt.xlabel('Runs')\n",
    "\n",
    "plt.show()"
   ]
  },
  {
   "cell_type": "code",
   "execution_count": 18,
   "metadata": {},
   "outputs": [
    {
     "data": {
      "image/png": "[encoded data removed]",
      "text/plain": [
       "<Figure size 432x288 with 1 Axes>"
      ]
     },
     "metadata": {
      "needs_background": "light"
     },
     "output_type": "display_data"
    }
   ],
   "source": [
    "# plot loss\n",
    "plt.plot(loss)\n",
    "plt.ylabel('Loss')\n",
    "plt.xlabel('Steps')\n",
    "plt.show()"
   ]
  },
  {
   "cell_type": "code",
   "execution_count": 20,
   "metadata": {},
   "outputs": [
    {
     "data": {
      "text/plain": [
       "35545"
      ]
     },
     "execution_count": 20,
     "metadata": {},
     "output_type": "execute_result"
    }
   ],
   "source": [
    "# Number of steps learnt\n",
    "memory.memory_tree.capacity_filled"
   ]
  },
  {
   "cell_type": "code",
   "execution_count": 25,
   "metadata": {},
   "outputs": [
    {
     "name": "stdout",
     "output_type": "stream",
     "text": [
      "INFO:tensorflow:Restoring parameters from ./D3QN_PER_models/model.ckpt\n",
      "Average rewards over 20 episodes is 175.49999999999997\n"
     ]
    }
   ],
   "source": [
    "# Test the model and get average rewards\n",
    "with tf.Session() as sess:\n",
    "    \n",
    "    # Load the model\n",
    "    saver.restore(sess, \"./D3QN_PER_models/model.ckpt\")\n",
    "    \n",
    "    # Run Tests\n",
    "    N_tests = 20\n",
    "    steps, total_reward = test(N_tests, model = DQNetwork, memory = None)\n",
    "    \n",
    "print(\"Average rewards over {} episodes is {}\".format(N_tests, total_reward))"
   ]
  },
  {
   "cell_type": "code",
   "execution_count": 21,
   "metadata": {},
   "outputs": [
    {
     "name": "stdout",
     "output_type": "stream",
     "text": [
      "INFO:tensorflow:Restoring parameters from ./D3QN_PER_models/model.ckpt\n",
      "[-0.32562178 -0.44265288 -1.1505349  -0.54962844 -0.89416045 -0.64086455]\n"
     ]
    },
    {
     "ename": "NoSuchDisplayException",
     "evalue": "Cannot connect to \"None\"",
     "output_type": "error",
     "traceback": [
      "\u001b[0;31m---------------------------------------------------------------------------\u001b[0m",
      "\u001b[0;31mNoSuchDisplayException\u001b[0m                    Traceback (most recent call last)",
      "\u001b[0;32m<ipython-input-21-7f888f6004cf>\u001b[0m in \u001b[0;36m<module>\u001b[0;34m\u001b[0m\n\u001b[1;32m     21\u001b[0m \u001b[0;34m\u001b[0m\u001b[0m\n\u001b[1;32m     22\u001b[0m         \u001b[0;31m# render the current environment\u001b[0m\u001b[0;34m\u001b[0m\u001b[0;34m\u001b[0m\u001b[0;34m\u001b[0m\u001b[0m\n\u001b[0;32m---> 23\u001b[0;31m         \u001b[0menv\u001b[0m\u001b[0;34m.\u001b[0m\u001b[0mrender\u001b[0m\u001b[0;34m(\u001b[0m\u001b[0;34m)\u001b[0m\u001b[0;34m\u001b[0m\u001b[0;34m\u001b[0m\u001b[0m\n\u001b[0m\u001b[1;32m     24\u001b[0m \u001b[0;34m\u001b[0m\u001b[0m\n\u001b[1;32m     25\u001b[0m         \u001b[0;31m# take an action using model\u001b[0m\u001b[0;34m\u001b[0m\u001b[0;34m\u001b[0m\u001b[0;34m\u001b[0m\u001b[0m\n",
      "\u001b[0;32m/anaconda/envs/rl_tensorflow1/lib/python3.7/site-packages/gym/core.py\u001b[0m in \u001b[0;36mrender\u001b[0;34m(self, mode, **kwargs)\u001b[0m\n\u001b[1;32m    231\u001b[0m \u001b[0;34m\u001b[0m\u001b[0m\n\u001b[1;32m    232\u001b[0m     \u001b[0;32mdef\u001b[0m \u001b[0mrender\u001b[0m\u001b[0;34m(\u001b[0m\u001b[0mself\u001b[0m\u001b[0;34m,\u001b[0m \u001b[0mmode\u001b[0m\u001b[0;34m=\u001b[0m\u001b[0;34m'human'\u001b[0m\u001b[0;34m,\u001b[0m \u001b[0;34m**\u001b[0m\u001b[0mkwargs\u001b[0m\u001b[0;34m)\u001b[0m\u001b[0;34m:\u001b[0m\u001b[0;34m\u001b[0m\u001b[0;34m\u001b[0m\u001b[0m\n\u001b[0;32m--> 233\u001b[0;31m         \u001b[0;32mreturn\u001b[0m \u001b[0mself\u001b[0m\u001b[0;34m.\u001b[0m\u001b[0menv\u001b[0m\u001b[0;34m.\u001b[0m\u001b[0mrender\u001b[0m\u001b[0;34m(\u001b[0m\u001b[0mmode\u001b[0m\u001b[0;34m,\u001b[0m \u001b[0;34m**\u001b[0m\u001b[0mkwargs\u001b[0m\u001b[0;34m)\u001b[0m\u001b[0;34m\u001b[0m\u001b[0;34m\u001b[0m\u001b[0m\n\u001b[0m\u001b[1;32m    234\u001b[0m \u001b[0;34m\u001b[0m\u001b[0m\n\u001b[1;32m    235\u001b[0m     \u001b[0;32mdef\u001b[0m \u001b[0mclose\u001b[0m\u001b[0;34m(\u001b[0m\u001b[0mself\u001b[0m\u001b[0;34m)\u001b[0m\u001b[0;34m:\u001b[0m\u001b[0;34m\u001b[0m\u001b[0;34m\u001b[0m\u001b[0m\n",
      "\u001b[0;32m/anaconda/envs/rl_tensorflow1/lib/python3.7/site-packages/gym/envs/atari/atari_env.py\u001b[0m in \u001b[0;36mrender\u001b[0;34m(self, mode)\u001b[0m\n\u001b[1;32m    150\u001b[0m             \u001b[0;32mreturn\u001b[0m \u001b[0mimg\u001b[0m\u001b[0;34m\u001b[0m\u001b[0;34m\u001b[0m\u001b[0m\n\u001b[1;32m    151\u001b[0m         \u001b[0;32melif\u001b[0m \u001b[0mmode\u001b[0m \u001b[0;34m==\u001b[0m \u001b[0;34m'human'\u001b[0m\u001b[0;34m:\u001b[0m\u001b[0;34m\u001b[0m\u001b[0;34m\u001b[0m\u001b[0m\n\u001b[0;32m--> 152\u001b[0;31m             \u001b[0;32mfrom\u001b[0m \u001b[0mgym\u001b[0m\u001b[0;34m.\u001b[0m\u001b[0menvs\u001b[0m\u001b[0;34m.\u001b[0m\u001b[0mclassic_control\u001b[0m \u001b[0;32mimport\u001b[0m \u001b[0mrendering\u001b[0m\u001b[0;34m\u001b[0m\u001b[0;34m\u001b[0m\u001b[0m\n\u001b[0m\u001b[1;32m    153\u001b[0m             \u001b[0;32mif\u001b[0m \u001b[0mself\u001b[0m\u001b[0;34m.\u001b[0m\u001b[0mviewer\u001b[0m \u001b[0;32mis\u001b[0m \u001b[0;32mNone\u001b[0m\u001b[0;34m:\u001b[0m\u001b[0;34m\u001b[0m\u001b[0;34m\u001b[0m\u001b[0m\n\u001b[1;32m    154\u001b[0m                 \u001b[0mself\u001b[0m\u001b[0;34m.\u001b[0m\u001b[0mviewer\u001b[0m \u001b[0;34m=\u001b[0m \u001b[0mrendering\u001b[0m\u001b[0;34m.\u001b[0m\u001b[0mSimpleImageViewer\u001b[0m\u001b[0;34m(\u001b[0m\u001b[0;34m)\u001b[0m\u001b[0;34m\u001b[0m\u001b[0;34m\u001b[0m\u001b[0m\n",
      "\u001b[0;32m/anaconda/envs/rl_tensorflow1/lib/python3.7/site-packages/gym/envs/classic_control/rendering.py\u001b[0m in \u001b[0;36m<module>\u001b[0;34m\u001b[0m\n\u001b[1;32m     23\u001b[0m \u001b[0;34m\u001b[0m\u001b[0m\n\u001b[1;32m     24\u001b[0m \u001b[0;32mtry\u001b[0m\u001b[0;34m:\u001b[0m\u001b[0;34m\u001b[0m\u001b[0;34m\u001b[0m\u001b[0m\n\u001b[0;32m---> 25\u001b[0;31m     \u001b[0;32mfrom\u001b[0m \u001b[0mpyglet\u001b[0m\u001b[0;34m.\u001b[0m\u001b[0mgl\u001b[0m \u001b[0;32mimport\u001b[0m \u001b[0;34m*\u001b[0m\u001b[0;34m\u001b[0m\u001b[0;34m\u001b[0m\u001b[0m\n\u001b[0m\u001b[1;32m     26\u001b[0m \u001b[0;32mexcept\u001b[0m \u001b[0mImportError\u001b[0m \u001b[0;32mas\u001b[0m \u001b[0me\u001b[0m\u001b[0;34m:\u001b[0m\u001b[0;34m\u001b[0m\u001b[0;34m\u001b[0m\u001b[0m\n\u001b[1;32m     27\u001b[0m     raise ImportError('''\n",
      "\u001b[0;32m/anaconda/envs/rl_tensorflow1/lib/python3.7/site-packages/pyglet/gl/__init__.py\u001b[0m in \u001b[0;36m<module>\u001b[0;34m\u001b[0m\n\u001b[1;32m    242\u001b[0m     \u001b[0;31m# trickery is for circular import\u001b[0m\u001b[0;34m\u001b[0m\u001b[0;34m\u001b[0m\u001b[0;34m\u001b[0m\u001b[0m\n\u001b[1;32m    243\u001b[0m     \u001b[0m_pyglet\u001b[0m\u001b[0;34m.\u001b[0m\u001b[0mgl\u001b[0m \u001b[0;34m=\u001b[0m \u001b[0m_sys\u001b[0m\u001b[0;34m.\u001b[0m\u001b[0mmodules\u001b[0m\u001b[0;34m[\u001b[0m\u001b[0m__name__\u001b[0m\u001b[0;34m]\u001b[0m\u001b[0;34m\u001b[0m\u001b[0;34m\u001b[0m\u001b[0m\n\u001b[0;32m--> 244\u001b[0;31m     \u001b[0;32mimport\u001b[0m \u001b[0mpyglet\u001b[0m\u001b[0;34m.\u001b[0m\u001b[0mwindow\u001b[0m\u001b[0;34m\u001b[0m\u001b[0;34m\u001b[0m\u001b[0m\n\u001b[0m",
      "\u001b[0;32m/anaconda/envs/rl_tensorflow1/lib/python3.7/site-packages/pyglet/window/__init__.py\u001b[0m in \u001b[0;36m<module>\u001b[0;34m\u001b[0m\n\u001b[1;32m   1878\u001b[0m \u001b[0;32mif\u001b[0m \u001b[0;32mnot\u001b[0m \u001b[0m_is_pyglet_doc_run\u001b[0m\u001b[0;34m:\u001b[0m\u001b[0;34m\u001b[0m\u001b[0;34m\u001b[0m\u001b[0m\n\u001b[1;32m   1879\u001b[0m     \u001b[0mpyglet\u001b[0m\u001b[0;34m.\u001b[0m\u001b[0mwindow\u001b[0m \u001b[0;34m=\u001b[0m \u001b[0msys\u001b[0m\u001b[0;34m.\u001b[0m\u001b[0mmodules\u001b[0m\u001b[0;34m[\u001b[0m\u001b[0m__name__\u001b[0m\u001b[0;34m]\u001b[0m\u001b[0;34m\u001b[0m\u001b[0;34m\u001b[0m\u001b[0m\n\u001b[0;32m-> 1880\u001b[0;31m     \u001b[0mgl\u001b[0m\u001b[0;34m.\u001b[0m\u001b[0m_create_shadow_window\u001b[0m\u001b[0;34m(\u001b[0m\u001b[0;34m)\u001b[0m\u001b[0;34m\u001b[0m\u001b[0;34m\u001b[0m\u001b[0m\n\u001b[0m",
      "\u001b[0;32m/anaconda/envs/rl_tensorflow1/lib/python3.7/site-packages/pyglet/gl/__init__.py\u001b[0m in \u001b[0;36m_create_shadow_window\u001b[0;34m()\u001b[0m\n\u001b[1;32m    218\u001b[0m \u001b[0;34m\u001b[0m\u001b[0m\n\u001b[1;32m    219\u001b[0m     \u001b[0;32mfrom\u001b[0m \u001b[0mpyglet\u001b[0m\u001b[0;34m.\u001b[0m\u001b[0mwindow\u001b[0m \u001b[0;32mimport\u001b[0m \u001b[0mWindow\u001b[0m\u001b[0;34m\u001b[0m\u001b[0;34m\u001b[0m\u001b[0m\n\u001b[0;32m--> 220\u001b[0;31m     \u001b[0m_shadow_window\u001b[0m \u001b[0;34m=\u001b[0m \u001b[0mWindow\u001b[0m\u001b[0;34m(\u001b[0m\u001b[0mwidth\u001b[0m\u001b[0;34m=\u001b[0m\u001b[0;36m1\u001b[0m\u001b[0;34m,\u001b[0m \u001b[0mheight\u001b[0m\u001b[0;34m=\u001b[0m\u001b[0;36m1\u001b[0m\u001b[0;34m,\u001b[0m \u001b[0mvisible\u001b[0m\u001b[0;34m=\u001b[0m\u001b[0;32mFalse\u001b[0m\u001b[0;34m)\u001b[0m\u001b[0;34m\u001b[0m\u001b[0;34m\u001b[0m\u001b[0m\n\u001b[0m\u001b[1;32m    221\u001b[0m     \u001b[0m_shadow_window\u001b[0m\u001b[0;34m.\u001b[0m\u001b[0mswitch_to\u001b[0m\u001b[0;34m(\u001b[0m\u001b[0;34m)\u001b[0m\u001b[0;34m\u001b[0m\u001b[0;34m\u001b[0m\u001b[0m\n\u001b[1;32m    222\u001b[0m \u001b[0;34m\u001b[0m\u001b[0m\n",
      "\u001b[0;32m/anaconda/envs/rl_tensorflow1/lib/python3.7/site-packages/pyglet/window/xlib/__init__.py\u001b[0m in \u001b[0;36m__init__\u001b[0;34m(self, *args, **kwargs)\u001b[0m\n\u001b[1;32m    163\u001b[0m                     \u001b[0mself\u001b[0m\u001b[0;34m.\u001b[0m\u001b[0m_event_handlers\u001b[0m\u001b[0;34m[\u001b[0m\u001b[0mmessage\u001b[0m\u001b[0;34m]\u001b[0m \u001b[0;34m=\u001b[0m \u001b[0mfunc\u001b[0m\u001b[0;34m\u001b[0m\u001b[0;34m\u001b[0m\u001b[0m\n\u001b[1;32m    164\u001b[0m \u001b[0;34m\u001b[0m\u001b[0m\n\u001b[0;32m--> 165\u001b[0;31m         \u001b[0msuper\u001b[0m\u001b[0;34m(\u001b[0m\u001b[0mXlibWindow\u001b[0m\u001b[0;34m,\u001b[0m \u001b[0mself\u001b[0m\u001b[0;34m)\u001b[0m\u001b[0;34m.\u001b[0m\u001b[0m__init__\u001b[0m\u001b[0;34m(\u001b[0m\u001b[0;34m*\u001b[0m\u001b[0margs\u001b[0m\u001b[0;34m,\u001b[0m \u001b[0;34m**\u001b[0m\u001b[0mkwargs\u001b[0m\u001b[0;34m)\u001b[0m\u001b[0;34m\u001b[0m\u001b[0;34m\u001b[0m\u001b[0m\n\u001b[0m\u001b[1;32m    166\u001b[0m \u001b[0;34m\u001b[0m\u001b[0m\n\u001b[1;32m    167\u001b[0m         \u001b[0;32mglobal\u001b[0m \u001b[0m_can_detect_autorepeat\u001b[0m\u001b[0;34m\u001b[0m\u001b[0;34m\u001b[0m\u001b[0m\n",
      "\u001b[0;32m/anaconda/envs/rl_tensorflow1/lib/python3.7/site-packages/pyglet/window/__init__.py\u001b[0m in \u001b[0;36m__init__\u001b[0;34m(self, width, height, caption, resizable, style, fullscreen, visible, vsync, display, screen, config, context, mode)\u001b[0m\n\u001b[1;32m    568\u001b[0m \u001b[0;34m\u001b[0m\u001b[0m\n\u001b[1;32m    569\u001b[0m         \u001b[0;32mif\u001b[0m \u001b[0;32mnot\u001b[0m \u001b[0mdisplay\u001b[0m\u001b[0;34m:\u001b[0m\u001b[0;34m\u001b[0m\u001b[0;34m\u001b[0m\u001b[0m\n\u001b[0;32m--> 570\u001b[0;31m             \u001b[0mdisplay\u001b[0m \u001b[0;34m=\u001b[0m \u001b[0mpyglet\u001b[0m\u001b[0;34m.\u001b[0m\u001b[0mcanvas\u001b[0m\u001b[0;34m.\u001b[0m\u001b[0mget_display\u001b[0m\u001b[0;34m(\u001b[0m\u001b[0;34m)\u001b[0m\u001b[0;34m\u001b[0m\u001b[0;34m\u001b[0m\u001b[0m\n\u001b[0m\u001b[1;32m    571\u001b[0m \u001b[0;34m\u001b[0m\u001b[0m\n\u001b[1;32m    572\u001b[0m         \u001b[0;32mif\u001b[0m \u001b[0;32mnot\u001b[0m \u001b[0mscreen\u001b[0m\u001b[0;34m:\u001b[0m\u001b[0;34m\u001b[0m\u001b[0;34m\u001b[0m\u001b[0m\n",
      "\u001b[0;32m/anaconda/envs/rl_tensorflow1/lib/python3.7/site-packages/pyglet/canvas/__init__.py\u001b[0m in \u001b[0;36mget_display\u001b[0;34m()\u001b[0m\n\u001b[1;32m     92\u001b[0m \u001b[0;34m\u001b[0m\u001b[0m\n\u001b[1;32m     93\u001b[0m     \u001b[0;31m# Otherwise, create a new display and return it.\u001b[0m\u001b[0;34m\u001b[0m\u001b[0;34m\u001b[0m\u001b[0;34m\u001b[0m\u001b[0m\n\u001b[0;32m---> 94\u001b[0;31m     \u001b[0;32mreturn\u001b[0m \u001b[0mDisplay\u001b[0m\u001b[0;34m(\u001b[0m\u001b[0;34m)\u001b[0m\u001b[0;34m\u001b[0m\u001b[0;34m\u001b[0m\u001b[0m\n\u001b[0m\u001b[1;32m     95\u001b[0m \u001b[0;34m\u001b[0m\u001b[0m\n\u001b[1;32m     96\u001b[0m \u001b[0;34m\u001b[0m\u001b[0m\n",
      "\u001b[0;32m/anaconda/envs/rl_tensorflow1/lib/python3.7/site-packages/pyglet/canvas/xlib.py\u001b[0m in \u001b[0;36m__init__\u001b[0;34m(self, name, x_screen)\u001b[0m\n\u001b[1;32m    121\u001b[0m         \u001b[0mself\u001b[0m\u001b[0;34m.\u001b[0m\u001b[0m_display\u001b[0m \u001b[0;34m=\u001b[0m \u001b[0mxlib\u001b[0m\u001b[0;34m.\u001b[0m\u001b[0mXOpenDisplay\u001b[0m\u001b[0;34m(\u001b[0m\u001b[0mname\u001b[0m\u001b[0;34m)\u001b[0m\u001b[0;34m\u001b[0m\u001b[0;34m\u001b[0m\u001b[0m\n\u001b[1;32m    122\u001b[0m         \u001b[0;32mif\u001b[0m \u001b[0;32mnot\u001b[0m \u001b[0mself\u001b[0m\u001b[0;34m.\u001b[0m\u001b[0m_display\u001b[0m\u001b[0;34m:\u001b[0m\u001b[0;34m\u001b[0m\u001b[0;34m\u001b[0m\u001b[0m\n\u001b[0;32m--> 123\u001b[0;31m             \u001b[0;32mraise\u001b[0m \u001b[0mNoSuchDisplayException\u001b[0m\u001b[0;34m(\u001b[0m\u001b[0;34m'Cannot connect to \"%s\"'\u001b[0m \u001b[0;34m%\u001b[0m \u001b[0mname\u001b[0m\u001b[0;34m)\u001b[0m\u001b[0;34m\u001b[0m\u001b[0;34m\u001b[0m\u001b[0m\n\u001b[0m\u001b[1;32m    124\u001b[0m \u001b[0;34m\u001b[0m\u001b[0m\n\u001b[1;32m    125\u001b[0m         \u001b[0mscreen_count\u001b[0m \u001b[0;34m=\u001b[0m \u001b[0mxlib\u001b[0m\u001b[0;34m.\u001b[0m\u001b[0mXScreenCount\u001b[0m\u001b[0;34m(\u001b[0m\u001b[0mself\u001b[0m\u001b[0;34m.\u001b[0m\u001b[0m_display\u001b[0m\u001b[0;34m)\u001b[0m\u001b[0;34m\u001b[0m\u001b[0;34m\u001b[0m\u001b[0m\n",
      "\u001b[0;31mNoSuchDisplayException\u001b[0m: Cannot connect to \"None\""
     ]
    }
   ],
   "source": [
    "# simulate a result play a game and render\n",
    "with tf.Session() as sess:\n",
    "    \n",
    "    # Load the model\n",
    "    saver.restore(sess, \"./D3QN_PER_models/model.ckpt\")\n",
    "    \n",
    "    Q_DQN = sess.run(DQNetwork.output, \n",
    "                                    feed_dict = {DQNetwork.inputs_: stacked_states[tf.newaxis,...]})[0]\n",
    "    print(Q_DQN)\n",
    "    \n",
    "    # Initialise environment \n",
    "    state = env.reset()\n",
    "    state, stacked_frames = stack_frames(stacked_frames, state, True)\n",
    "\n",
    "    done = False \n",
    "    total_reward = 0\n",
    "    steps = 0\n",
    "\n",
    "    # Until done \n",
    "    while not done:\n",
    "\n",
    "        # render the current environment \n",
    "        env.render()\n",
    "\n",
    "        # take an action using model\n",
    "        Q_values= sess.run(DQNetwork.output, feed_dict = {DQNetwork.inputs_: state[tf.newaxis,...]})\n",
    "        action = np.argmax(Q_values[0])\n",
    "        next_state, reward, done, info = env.step(action)\n",
    "        next_state, stacked_frames = stack_frames(stacked_frames, next_state, False)\n",
    "        state = next_state\n",
    "\n",
    "        total_reward += reward\n",
    "        steps += 1\n",
    "\n",
    "        # pause for visualisation\n",
    "        time.sleep(0.01)\n",
    "\n",
    "    env.close()\n",
    "    print (\"Score: {}, Steps: {}\".format(total_reward, steps))"
   ]
  },
  {
   "cell_type": "code",
   "execution_count": null,
   "metadata": {},
   "outputs": [],
   "source": [
    "#"
   ]
  }
 ],
 "metadata": {
  "kernelspec": {
   "display_name": "rl_tensorflow1",
   "language": "python",
   "name": "conda-env-rl_tensorflow1-py"
  },
  "language_info": {
   "codemirror_mode": {
    "name": "ipython",
    "version": 3
   },
   "file_extension": ".py",
   "mimetype": "text/x-python",
   "name": "python",
   "nbconvert_exporter": "python",
   "pygments_lexer": "ipython3",
   "version": "3.7.7"
  },
  "varInspector": {
   "cols": {
    "lenName": 16,
    "lenType": 16,
    "lenVar": 40
   },
   "kernels_config": {
    "python": {
     "delete_cmd_postfix": "",
     "delete_cmd_prefix": "del ",
     "library": "var_list.py",
     "varRefreshCmd": "print(var_dic_list())"
    },
    "r": {
     "delete_cmd_postfix": ") ",
     "delete_cmd_prefix": "rm(",
     "library": "var_list.r",
     "varRefreshCmd": "cat(var_dic_list()) "
    }
   },
   "oldHeight": 279.86,
   "position": {
    "height": "40px",
    "left": "888.57px",
    "right": "20px",
    "top": "107px",
    "width": "350px"
   },
   "types_to_exclude": [
    "module",
    "function",
    "builtin_function_or_method",
    "instance",
    "_Feature"
   ],
   "varInspector_section_display": "none",
   "window_display": true
  }
 },
 "nbformat": 4,
 "nbformat_minor": 2
}
