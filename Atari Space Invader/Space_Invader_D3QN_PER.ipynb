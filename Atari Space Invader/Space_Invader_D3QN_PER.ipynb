{
 "cells": [
  {
   "cell_type": "markdown",
   "metadata": {},
   "source": [
    "# Deep Q Learning to Play Space Invaders"
   ]
  },
  {
   "cell_type": "code",
   "execution_count": 1,
   "metadata": {},
   "outputs": [
    {
     "name": "stdout",
     "output_type": "stream",
     "text": [
      "1.15.0\n"
     ]
    }
   ],
   "source": [
    "# Import packages\n",
    "import numpy as np\n",
    "import gym\n",
    "import matplotlib.pyplot as plt\n",
    "from collections import deque\n",
    "import random\n",
    "import time\n",
    "\n",
    "from tensorflow.keras.models import Sequential\n",
    "import tensorflow as tf\n",
    "print(tf.__version__)\n",
    "\n",
    "from skimage import transform \n",
    "from skimage.color import rgb2gray "
   ]
  },
  {
   "cell_type": "code",
   "execution_count": 2,
   "metadata": {},
   "outputs": [
    {
     "name": "stdout",
     "output_type": "stream",
     "text": [
      "[name: \"/device:CPU:0\"\n",
      "device_type: \"CPU\"\n",
      "memory_limit: 268435456\n",
      "locality {\n",
      "}\n",
      "incarnation: 17557304731791109610\n",
      ", name: \"/device:XLA_CPU:0\"\n",
      "device_type: \"XLA_CPU\"\n",
      "memory_limit: 17179869184\n",
      "locality {\n",
      "}\n",
      "incarnation: 10207388889382360825\n",
      "physical_device_desc: \"device: XLA_CPU device\"\n",
      ", name: \"/device:GPU:0\"\n",
      "device_type: \"GPU\"\n",
      "memory_limit: 11329617920\n",
      "locality {\n",
      "  bus_id: 1\n",
      "  links {\n",
      "  }\n",
      "}\n",
      "incarnation: 14139883587247033655\n",
      "physical_device_desc: \"device: 0, name: Tesla K80, pci bus id: 0001:00:00.0, compute capability: 3.7\"\n",
      ", name: \"/device:XLA_GPU:0\"\n",
      "device_type: \"XLA_GPU\"\n",
      "memory_limit: 17179869184\n",
      "locality {\n",
      "}\n",
      "incarnation: 16360342389981201784\n",
      "physical_device_desc: \"device: XLA_GPU device\"\n",
      "]\n"
     ]
    }
   ],
   "source": [
    "from tensorflow.python.client import device_lib\n",
    "print(device_lib.list_local_devices())"
   ]
  },
  {
   "cell_type": "code",
   "execution_count": 3,
   "metadata": {},
   "outputs": [
    {
     "name": "stdout",
     "output_type": "stream",
     "text": [
      "Num GPUs Available:  1\n"
     ]
    }
   ],
   "source": [
    "print(\"Num GPUs Available: \", len(tf.config.experimental.list_physical_devices('GPU')))"
   ]
  },
  {
   "cell_type": "markdown",
   "metadata": {},
   "source": [
    "## [1] Create the environment"
   ]
  },
  {
   "cell_type": "code",
   "execution_count": 4,
   "metadata": {},
   "outputs": [
    {
     "name": "stdout",
     "output_type": "stream",
     "text": [
      "The size of our frame is:  Box(210, 160, 3)\n",
      "The action size is :  6\n"
     ]
    }
   ],
   "source": [
    "# Create our environment\n",
    "env = gym.make(\"SpaceInvaders-v0\")\n",
    "\n",
    "# Get state and action space\n",
    "state_size = env.observation_space\n",
    "action_size = env.action_space.n\n",
    "\n",
    "print(\"The size of our frame is: \", state_size)\n",
    "print(\"The action size is : \", action_size)"
   ]
  },
  {
   "cell_type": "markdown",
   "metadata": {},
   "source": [
    "## [2] Preprocess Functions"
   ]
  },
  {
   "cell_type": "code",
   "execution_count": 5,
   "metadata": {},
   "outputs": [],
   "source": [
    "# plotting the images in a list\n",
    "def plot_frames(display_list, title_list = None):\n",
    "    \n",
    "    plt.figure(figsize=(10, 10))\n",
    "    for i in range(len(display_list)):\n",
    "        plt.subplot(1, len(display_list), i+1) \n",
    "        \n",
    "        if title_list:\n",
    "            plt.title(title_list[i])\n",
    "        plt.imshow(display_list[i])\n",
    "        plt.axis('off')\n",
    "\n",
    "    plt.show()"
   ]
  },
  {
   "cell_type": "markdown",
   "metadata": {},
   "source": [
    "### [2.1] Image Filtering"
   ]
  },
  {
   "cell_type": "code",
   "execution_count": 6,
   "metadata": {},
   "outputs": [
    {
     "data": {
      "image/png": "[encoded data removed]",
      "text/plain": [
       "<Figure size 720x720 with 2 Axes>"
      ]
     },
     "metadata": {
      "needs_background": "light"
     },
     "output_type": "display_data"
    },
    {
     "name": "stdout",
     "output_type": "stream",
     "text": [
      "Size before process:  (210, 160, 3)\n",
      "Size after process:  (110, 84)\n"
     ]
    }
   ],
   "source": [
    "# Normalise, turn into greyscale and crop image\n",
    "frame_size = (110, 84)\n",
    "def preprocess_frame(frame):\n",
    "    # Greyscale frame \n",
    "    gray = rgb2gray(frame)\n",
    "    \n",
    "    # Crop the screen (remove the part below the player)\n",
    "    # [Up: Down, Left: right]\n",
    "    cropped_frame = gray[8:-12,4:-12]\n",
    "    \n",
    "    # Normalize Pixel Values\n",
    "    normalized_frame = cropped_frame/255.0\n",
    "    \n",
    "    # Resize\n",
    "    # Thanks to Mikołaj Walkowiak\n",
    "    preprocessed_frame = transform.resize(normalized_frame, frame_size)\n",
    "    \n",
    "    return preprocessed_frame # 110x84x1 frame\n",
    "\n",
    "# Test out the preprocess procedure\n",
    "sample_state = env.reset()\n",
    "sample_state_processed = preprocess_frame(sample_state)\n",
    "plot_frames([sample_state, sample_state_processed], ['Original Frame','Processed Frame'])\n",
    "\n",
    "print('Size before process: ', sample_state.shape)\n",
    "print('Size after process: ', sample_state_processed.shape)"
   ]
  },
  {
   "cell_type": "markdown",
   "metadata": {},
   "source": [
    "### [2.2] Stack the frames"
   ]
  },
  {
   "cell_type": "code",
   "execution_count": 7,
   "metadata": {},
   "outputs": [
    {
     "data": {
      "image/png": "[encoded data removed]",
      "text/plain": [
       "<Figure size 720x720 with 4 Axes>"
      ]
     },
     "metadata": {
      "needs_background": "light"
     },
     "output_type": "display_data"
    },
    {
     "data": {
      "image/png": "[encoded data removed]",
      "text/plain": [
       "<Figure size 720x720 with 4 Axes>"
      ]
     },
     "metadata": {
      "needs_background": "light"
     },
     "output_type": "display_data"
    }
   ],
   "source": [
    "# Given a stacked frame, append a new frame to this stack\n",
    "def stack_frames(stacked_frames, new_frame, is_new_episode):\n",
    "    \n",
    "    # Preprocess frame before stacking\n",
    "    frame = preprocess_frame(new_frame)\n",
    "    \n",
    "    # if new episode make copies of frame, else append frame\n",
    "    if is_new_episode:\n",
    "        \n",
    "        # Clear stacked frames\n",
    "        stacked_frames = deque([np.zeros(frame_size, dtype = np.int) for i in range(0,stack_size)], maxlen=stack_size)\n",
    "        \n",
    "        # Append the same frame to the stack stack_size times\n",
    "        for _ in range(0, stack_size):\n",
    "            stacked_frames.append(frame)\n",
    "        \n",
    "        # Return a numpy array for the stacked frame\n",
    "        stacked_states = np.stack(stacked_frames, axis = 2)\n",
    "    \n",
    "    else:\n",
    "        stacked_frames.append(frame)\n",
    "        stacked_states = np.stack(stacked_frames, axis = 2)\n",
    "    \n",
    "    return stacked_states, stacked_frames\n",
    "\n",
    "# Stacking frames to provide input = [frame 1, frame 2, frame 3, frame 4]\n",
    "stack_size = 4\n",
    "\n",
    "# Initialise with array of zeros\n",
    "stacked_frames = deque([np.zeros(frame_size, dtype = np.int) for i in range(0,stack_size)], maxlen=stack_size)\n",
    "\n",
    "# Test out the stack_frames procedure\n",
    "sample_state = env.reset()\n",
    "stacked_states, stacked_frames = stack_frames(stacked_frames, sample_state, True)\n",
    "plot_frames(stacked_frames, ['Frame ' + str(1) for i in range(0,4)])\n",
    "\n",
    "for i in range(0, 4):\n",
    "    sample_next_state, _ , done , _  = env.step(env.action_space.sample())\n",
    "    stacked_states, stacked_frames = stack_frames(stacked_frames, sample_next_state, False)\n",
    "    \n",
    "plot_frames(stacked_frames, ['Frame ' + str(1) for i in range(1,4)] + ['Frame 2'] )"
   ]
  },
  {
   "cell_type": "markdown",
   "metadata": {},
   "source": [
    "## 3 Training "
   ]
  },
  {
   "cell_type": "code",
   "execution_count": 17,
   "metadata": {},
   "outputs": [],
   "source": [
    "# Define paramters for training \n",
    "LEARNING_RATE = 0.001\n",
    "MEMORY_SIZE = 100000\n",
    "BATCH_SIZE = 64\n",
    "MAX_STEP = 50000\n",
    "UPDATE_MODEL_STEP = 5000\n",
    "\n",
    "EXPLORATION_RATE = 1\n",
    "EXPLORATION_DECAY = 0.9999\n",
    "EXPLORATION_MIN = 0.01\n",
    "\n",
    "GAMMA = 0.9"
   ]
  },
  {
   "cell_type": "markdown",
   "metadata": {},
   "source": [
    "### [3.1] Create Deep Q Neural Network"
   ]
  },
  {
   "cell_type": "code",
   "execution_count": 9,
   "metadata": {},
   "outputs": [],
   "source": [
    "class DQNetworks:\n",
    "    def __init__(self, state_size, action_size, learning_rate, name='DQNetwork'):\n",
    "        self.state_size = state_size\n",
    "        self.action_size = action_size\n",
    "        self.learning_rate = learning_rate\n",
    "        \n",
    "        with tf.variable_scope(name):\n",
    "            # We create the placeholders\n",
    "            # *state_size means that we take each elements of state_size in tuple hence is like if we wrote\n",
    "            # [None, 84, 84, 4]\n",
    "            self.inputs_ = tf.placeholder(tf.float32, [None, *state_size], name=\"inputs\")\n",
    "            self.actions_ = tf.placeholder(tf.float32, [None, self.action_size], name=\"actions_\")\n",
    "            \n",
    "            # Remember that target_Q is the R(s,a) + ymax Qhat(s', a')\n",
    "            self.target_Q = tf.placeholder(tf.float32, [None], name=\"target\")\n",
    "            \n",
    "            # Input the Importance sampling weights here\n",
    "            self.IS_weights = tf.placeholder(tf.float32, [None], name=\"IS_weights\")\n",
    "            \n",
    "            \"\"\"\n",
    "            First convnet:\n",
    "            CNN\n",
    "            ELU\n",
    "            \"\"\"\n",
    "            # Input is 110x84x4\n",
    "            self.conv1 = tf.layers.conv2d(inputs = self.inputs_,\n",
    "                                         filters = 32,\n",
    "                                         kernel_size = [8,8],\n",
    "                                         strides = [4,4],\n",
    "                                         padding = \"VALID\",\n",
    "                                          kernel_initializer=tf.contrib.layers.xavier_initializer_conv2d(),\n",
    "                                         name = \"conv1\")\n",
    "            \n",
    "            self.conv1_out = tf.nn.elu(self.conv1, name=\"conv1_out\")\n",
    "            \n",
    "            \"\"\"\n",
    "            Second convnet:\n",
    "            CNN\n",
    "            ELU\n",
    "            \"\"\"\n",
    "            self.conv2 = tf.layers.conv2d(inputs = self.conv1_out,\n",
    "                                 filters = 64,\n",
    "                                 kernel_size = [4,4],\n",
    "                                 strides = [2,2],\n",
    "                                 padding = \"VALID\",\n",
    "                                kernel_initializer=tf.contrib.layers.xavier_initializer_conv2d(),\n",
    "                                 name = \"conv2\")\n",
    "\n",
    "            self.conv2_out = tf.nn.elu(self.conv2, name=\"conv2_out\")            \n",
    "            \n",
    "            \"\"\"\n",
    "            Third convnet:\n",
    "            CNN\n",
    "            ELU\n",
    "            \"\"\"\n",
    "            self.conv3 = tf.layers.conv2d(inputs = self.conv2_out,\n",
    "                                 filters = 64,\n",
    "                                 kernel_size = [3,3],\n",
    "                                 strides = [2,2],\n",
    "                                 padding = \"VALID\",\n",
    "                                kernel_initializer=tf.contrib.layers.xavier_initializer_conv2d(),\n",
    "                                 name = \"conv3\")\n",
    "\n",
    "            self.conv3_out = tf.nn.elu(self.conv3, name=\"conv3_out\")\n",
    "            \n",
    "            self.flatten = tf.contrib.layers.flatten(self.conv3_out)\n",
    "            \n",
    "            ## Here to separate into two streams\n",
    "            # The one to calculate V(s)\n",
    "            self.value_fc = tf.layers.dense(inputs = self.flatten,\n",
    "                                            units = 512,\n",
    "                                            activation = tf.nn.elu,\n",
    "                                            kernel_initializer=tf.contrib.layers.xavier_initializer(),\n",
    "                                            name=\"value_fc\")\n",
    "            \n",
    "            self.value =  tf.layers.dense(inputs = self.value_fc,\n",
    "                                          units = 1,\n",
    "                                          activation = None,\n",
    "                                          kernel_initializer=tf.contrib.layers.xavier_initializer(),\n",
    "                                          name=\"value\")\n",
    "            \n",
    "            # The one to calculate A(s,a)\n",
    "            self.advantage_fc = tf.layers.dense(inputs = self.flatten,\n",
    "                                                units = 512,\n",
    "                                                activation = tf.nn.elu,\n",
    "                                                kernel_initializer=tf.contrib.layers.xavier_initializer(),\n",
    "                                                name=\"advantage_fc\")\n",
    "            \n",
    "            self.advantage = tf.layers.dense(inputs = self.advantage_fc, \n",
    "                                             kernel_initializer=tf.contrib.layers.xavier_initializer(),\n",
    "                                             units = self.action_size, \n",
    "                                             activation=None,\n",
    "                                             name = \"advantage\")\n",
    "            \n",
    "            \n",
    "            # Agregating layer \n",
    "            self.output = tf.add(self.value, tf.subtract(self.advantage, tf.reduce_mean(self.advantage, axis=1, keepdims=True)))\n",
    "              \n",
    "            # Q is our predicted Q value.\n",
    "            self.Q = tf.reduce_sum(tf.multiply(self.output, self.actions_), axis = -1)\n",
    "            \n",
    "            # Absolute errors for Priortising\n",
    "            self.abs_TD_error = tf.abs(self.target_Q - self.Q)\n",
    "            \n",
    "            # The loss is the difference between our predicted Q_values and the Q_target\n",
    "            # Sum(Qtarget - Q)^2\n",
    "            self.loss = tf.reduce_mean(self.IS_weights * tf.square(self.abs_TD_error))\n",
    "            \n",
    "            self.optimizer = tf.train.RMSPropOptimizer(self.learning_rate).minimize(self.loss)"
   ]
  },
  {
   "cell_type": "code",
   "execution_count": 10,
   "metadata": {},
   "outputs": [
    {
     "name": "stdout",
     "output_type": "stream",
     "text": [
      "WARNING:tensorflow:\n",
      "The TensorFlow contrib module will not be included in TensorFlow 2.0.\n",
      "For more information, please see:\n",
      "  * https://github.com/tensorflow/community/blob/master/rfcs/20180907-contrib-sunset.md\n",
      "  * https://github.com/tensorflow/addons\n",
      "  * https://github.com/tensorflow/io (for I/O related ops)\n",
      "If you depend on functionality not listed there, please file an issue.\n",
      "\n",
      "WARNING:tensorflow:From <ipython-input-9-4db6040b10dd>:32: conv2d (from tensorflow.python.layers.convolutional) is deprecated and will be removed in a future version.\n",
      "Instructions for updating:\n",
      "Use `tf.keras.layers.Conv2D` instead.\n",
      "WARNING:tensorflow:From /anaconda/envs/rl_tensorflow1/lib/python3.7/site-packages/tensorflow_core/python/layers/convolutional.py:424: Layer.apply (from tensorflow.python.keras.engine.base_layer) is deprecated and will be removed in a future version.\n",
      "Instructions for updating:\n",
      "Please use `layer.__call__` method instead.\n",
      "WARNING:tensorflow:From /anaconda/envs/rl_tensorflow1/lib/python3.7/site-packages/tensorflow_core/contrib/layers/python/layers/layers.py:1634: flatten (from tensorflow.python.layers.core) is deprecated and will be removed in a future version.\n",
      "Instructions for updating:\n",
      "Use keras.layers.flatten instead.\n",
      "WARNING:tensorflow:From <ipython-input-9-4db6040b10dd>:74: dense (from tensorflow.python.layers.core) is deprecated and will be removed in a future version.\n",
      "Instructions for updating:\n",
      "Use keras.layers.Dense instead.\n",
      "WARNING:tensorflow:From /anaconda/envs/rl_tensorflow1/lib/python3.7/site-packages/tensorflow_core/python/training/rmsprop.py:119: calling Ones.__init__ (from tensorflow.python.ops.init_ops) with dtype is deprecated and will be removed in a future version.\n",
      "Instructions for updating:\n",
      "Call initializer instance with the dtype argument instead of passing it to the constructor\n"
     ]
    }
   ],
   "source": [
    "# Reset the graph\n",
    "tf.reset_default_graph()\n",
    "\n",
    "# Instantiate the DQNetwork\n",
    "DQNetwork = DQNetworks([110, 84, 4], action_size, LEARNING_RATE, \"DQN\")\n",
    "\n",
    "# Instantiate the TargetDQNetwork\n",
    "TargetDQNetwork = DQNetworks([110, 84, 4], action_size, LEARNING_RATE, \"TargetDQN\")"
   ]
  },
  {
   "cell_type": "markdown",
   "metadata": {},
   "source": [
    "### [3.2] Create memory for experience relay"
   ]
  },
  {
   "cell_type": "code",
   "execution_count": 11,
   "metadata": {},
   "outputs": [],
   "source": [
    "class SumTree:\n",
    "    \n",
    "    # Index for pointing to data \n",
    "    data_index = 0\n",
    "    capacity_filled = 0\n",
    "    \n",
    "    # Initialise the tree and data\n",
    "    def __init__(self, capacity):\n",
    "        \n",
    "        # The size of the leaves\n",
    "        self.capacity = capacity\n",
    "        \n",
    "        # Define the tree list itself, zeros everywhere\n",
    "        self.tree = np.zeros(capacity*2 - 1)\n",
    "        \n",
    "        # Define the data list for holding experiences, zeros everywhere\n",
    "        self.data = np.zeros(capacity, dtype=object)\n",
    "        \n",
    "    # Add new values to tree\n",
    "    def add(self, priority, data):\n",
    "        \n",
    "        # add to data list \n",
    "        self.data[self.data_index] = data\n",
    "        \n",
    "        # add the priority to the leaf of the tree\n",
    "        tree_index = self.data_index + self.capacity - 1\n",
    "        self.update(priority, tree_index)\n",
    "        \n",
    "        # Increase data_index\n",
    "        self.data_index += 1\n",
    "        if self.data_index > self.capacity - 1:\n",
    "            self.data_index = 0\n",
    "            \n",
    "        # Inrease capacity filled\n",
    "        if self.capacity_filled < self.capacity:\n",
    "            self.capacity_filled += 1\n",
    "            \n",
    "    # Update all the nodes leading up to a leaf\n",
    "    def update(self, priority, tree_index):\n",
    "        \n",
    "        # Find the change in priority value\n",
    "        delta_priority = priority - self.tree[tree_index]\n",
    "        \n",
    "        # Update leaf\n",
    "        self.tree[tree_index] = priority\n",
    "        \n",
    "        # Propagate change up\n",
    "        while tree_index != 0 :\n",
    "            tree_index = (tree_index - 1)//2\n",
    "            self.tree[tree_index] += delta_priority \n",
    "            \n",
    "    # sample a leaf from a value\n",
    "    def get_leaf(self, value):\n",
    "        \n",
    "        # Define initial indixes\n",
    "        parent_index = 0\n",
    "        left_index = 1\n",
    "        right_index = 2\n",
    "        \n",
    "        # Retrive the leaf algorithm\n",
    "        while left_index < (2*self.capacity - 1):\n",
    "            if self.tree[left_index] >= value: \n",
    "                parent_index = left_index\n",
    "            else:\n",
    "                parent_index = right_index\n",
    "                value = value - self.tree[left_index]      \n",
    "            # Update left_index for next iteration\n",
    "            left_index = parent_index*2 + 1\n",
    "            right_index = left_index + 1\n",
    "            \n",
    "        return parent_index, self.tree[parent_index], self.data[parent_index + 1 - self.capacity]"
   ]
  },
  {
   "cell_type": "code",
   "execution_count": 30,
   "metadata": {},
   "outputs": [],
   "source": [
    "class Memory():\n",
    "    \n",
    "    # Max TD error\n",
    "    abs_error_upper = 1.0;\n",
    "    \n",
    "    # Prioritzation exponents\n",
    "    PER_a = 0.6\n",
    "    PER_b = 0.4\n",
    "    epsilon= 0.01\n",
    "    \n",
    "    # Incremental value for PER_b\n",
    "    PER_b_increments = 0.001\n",
    "    \n",
    "    def __init__(self, capacity):\n",
    "        \n",
    "        # Create the sum tree\n",
    "        self.memory_tree = SumTree(capacity)\n",
    "            \n",
    "    def store(self, experience):\n",
    "        \n",
    "        # Get the max priority so far\n",
    "        max_priority = np.max(self.memory_tree.tree[-self.memory_tree.capacity:])\n",
    "        \n",
    "        # if max prioity is 0 then set it as abs_error_upper\n",
    "        if max_priority == 0:\n",
    "            max_priority = self.abs_error_upper\n",
    "        \n",
    "        # Store this experience in the tree\n",
    "        self.memory_tree.add(max_priority, experience)\n",
    "        \n",
    "        \n",
    "    def sample(self, n):\n",
    "        \n",
    "        # Get total priority\n",
    "        total_priority = self.memory_tree.tree[0]\n",
    "        \n",
    "        # Sample from a mini range [0:total_priority] in batch sizes\n",
    "        sample_ranges = np.linspace(0, total_priority, num=n+1)\n",
    "        \n",
    "        # get min P(i) of data filled so far and max weight to scale maximum weights = 1\n",
    "        start_filled = -self.memory_tree.capacity\n",
    "        end_filled = -(self.memory_tree.capacity - self.memory_tree.capacity_filled)\n",
    "        if  end_filled == 0:\n",
    "            min_probability = np.min(self.memory_tree.tree[start_filled:])/total_priority\n",
    "        else:\n",
    "            min_probability = np.min(self.memory_tree.tree[start_filled:end_filled])/total_priority\n",
    "        max_weight = (self.memory_tree.capacity_filled * min_probability) ** (-self.PER_b)\n",
    "        \n",
    "        # Initialise list for storing\n",
    "        tree_indexes = np.empty(n, dtype=np.int32)\n",
    "        IS_weights = np.empty(n, dtype=np.float32)\n",
    "        batch = []\n",
    "        \n",
    "        # Sample in a loop\n",
    "        for i in range(0, n):\n",
    "            value = np.random.uniform(sample_ranges[i], sample_ranges[i+1])\n",
    "            tree_index, priority, experience = self.memory_tree.get_leaf(value)\n",
    "            \n",
    "            # Append tree indicies of sample \n",
    "            tree_indexes[i] = tree_index\n",
    "            \n",
    "            # Obtain IS_weights\n",
    "            sample_probability = (priority / total_priority)\n",
    "            IS_weights[i] = ((self.memory_tree.capacity_filled * sample_probability) ** (-self.PER_b)) / max_weight\n",
    "            \n",
    "            # append expereice  to batch\n",
    "            batch.append(experience)\n",
    "            \n",
    "        # Increase PER_b value for every sampling action max = 1\n",
    "        if self.PER_b < 1.0:\n",
    "            self.PER_b += self.PER_b_increments\n",
    "        \n",
    "        return tree_indexes, IS_weights, batch\n",
    "            \n",
    "            \n",
    "    def update_batch(self, tree_indexes, TD_errors):\n",
    "        priorities = np.minimum(self.abs_error_upper, (TD_errors + self.epsilon)) ** self.PER_a\n",
    "        \n",
    "        # update the batch of prrioties\n",
    "        for idx, new_p in zip(tree_indexes, priorities):\n",
    "            self.memory_tree.update(new_p, idx)"
   ]
  },
  {
   "cell_type": "code",
   "execution_count": 176,
   "metadata": {},
   "outputs": [
    {
     "data": {
      "text/plain": [
       "array([1.        , 1.        , 1.        , 0.06473273, 0.06612306,\n",
       "       1.        , 1.        , 0.06399166, 1.        , 1.        ,\n",
       "       1.        , 0.06318223, 1.        , 1.        , 1.        ,\n",
       "       1.        , 1.        , 0.06552009, 0.06575353, 1.        ,\n",
       "       1.        , 1.        , 0.06333977, 1.        , 0.06717559,\n",
       "       0.06318223, 1.        , 1.        , 1.        , 0.06386025,\n",
       "       0.06333977, 1.        , 1.        , 1.        , 1.        ,\n",
       "       1.        , 0.06637347, 0.06552009, 1.        , 1.        ,\n",
       "       1.        , 0.06575353, 1.        , 1.        , 0.063321  ,\n",
       "       1.        , 1.        , 0.06630511, 0.06383928, 1.        ,\n",
       "       1.        , 1.        , 0.06536387, 1.        , 1.        ,\n",
       "       1.        , 0.06683905, 1.        , 1.        , 1.        ,\n",
       "       1.        , 1.        , 1.        , 0.06545214, 0.06346885,\n",
       "       1.        , 1.        , 1.        , 1.        , 0.06661084,\n",
       "       1.        , 1.        , 0.06550597, 0.06440443, 1.        ,\n",
       "       1.        , 0.06400467, 1.        , 1.        , 0.06754773,\n",
       "       1.        , 0.063782  , 1.        , 1.        , 1.        ,\n",
       "       0.06319021, 1.        , 1.        , 1.        , 0.06715172,\n",
       "       0.06374482, 1.        , 1.        , 1.        , 1.        ,\n",
       "       1.        , 1.        , 1.        , 0.06423435, 1.        ,\n",
       "       1.        , 0.06704216, 0.07027248, 0.06684463, 1.        ,\n",
       "       1.        , 1.        , 1.        , 1.        , 1.        ,\n",
       "       0.06710742, 0.06700554, 1.        , 1.        , 0.06331985,\n",
       "       1.        , 0.0660276 , 1.        , 1.        , 0.06705848,\n",
       "       1.        , 1.        , 1.        , 1.        , 0.06363475,\n",
       "       0.06719848, 1.        , 1.        , 1.        , 0.06658529,\n",
       "       1.        , 1.        , 0.06920104, 0.06871764, 1.        ,\n",
       "       1.        , 1.        , 0.06339486, 1.        , 1.        ,\n",
       "       1.        , 0.06603123, 1.        , 0.06358742, 0.06570768,\n",
       "       1.        , 1.        , 1.        , 1.        , 1.        ,\n",
       "       1.        , 0.06317125, 1.        , 1.        , 0.06517456,\n",
       "       0.06508412, 1.        , 1.        , 1.        , 1.        ,\n",
       "       1.        , 1.        , 1.        , 1.        , 0.06469345,\n",
       "       1.        , 0.06464654, 1.        , 0.06834736, 0.06551124,\n",
       "       0.06545993, 1.        , 1.        , 1.        , 1.        ,\n",
       "       1.        , 1.        , 0.0651146 , 1.        , 1.        ,\n",
       "       0.06984644, 1.        , 1.        , 1.        , 1.        ,\n",
       "       1.        , 1.        , 0.06711062, 1.        , 1.        ,\n",
       "       0.06643637, 1.        , 1.        , 0.06499342, 1.        ,\n",
       "       1.        , 1.        , 1.        , 1.        , 1.        ,\n",
       "       0.06323843, 1.        , 0.06330934, 0.06668945, 1.        ,\n",
       "       0.06587992, 1.        , 0.06638373, 1.        , 1.        ,\n",
       "       1.        , 1.        , 1.        , 0.06345777, 0.06706327,\n",
       "       1.        , 1.        , 0.06438411, 1.        , 1.        ,\n",
       "       1.        , 1.        , 1.        , 0.06538875, 1.        ,\n",
       "       1.        , 0.06691183, 1.        , 1.        , 1.        ,\n",
       "       0.06562048, 1.        , 0.067015  , 1.        , 1.        ,\n",
       "       1.        , 1.        , 1.        , 0.06727041, 1.        ,\n",
       "       0.06629608, 0.06389057, 1.        , 1.        , 1.        ,\n",
       "       1.        , 0.06570937, 1.        , 1.        , 1.        ,\n",
       "       0.06702765, 0.06317168, 0.06436122, 1.        , 1.        ,\n",
       "       0.06320713, 0.06740396, 1.        , 1.        , 1.        ,\n",
       "       1.        , 1.        , 1.        , 1.        , 0.06702018,\n",
       "       0.06647485, 1.        , 0.06593321, 1.        , 1.        ,\n",
       "       1.        , 1.        , 1.        , 0.06582179, 0.06811521,\n",
       "       0.06501938, 1.        , 1.        , 1.        , 1.        ,\n",
       "       1.        , 1.        , 1.        , 1.        , 0.06774074,\n",
       "       0.06453839, 0.06352066, 1.        , 1.        , 1.        ,\n",
       "       1.        , 1.        , 0.06905232, 1.        , 1.        ,\n",
       "       0.06574026, 0.06713065, 1.        , 1.        , 1.        ,\n",
       "       1.        , 0.06362674, 1.        , 0.06729146, 1.        ,\n",
       "       0.06571166, 1.        , 1.        , 1.        , 1.        ,\n",
       "       0.06323726, 1.        , 1.        , 1.        , 1.        ,\n",
       "       0.06803462, 1.        , 0.06555586, 1.        , 1.        ,\n",
       "       0.06611062, 1.        , 1.        , 0.06900927, 0.06571166,\n",
       "       1.        , 1.        , 1.        , 0.06816768, 1.        ,\n",
       "       1.        , 1.        , 1.        , 0.06459812, 0.06580897,\n",
       "       1.        , 1.        , 1.        , 0.06399927, 1.        ,\n",
       "       0.06664351, 0.06693064, 1.        , 1.        , 1.        ,\n",
       "       1.        , 1.        , 1.        , 1.        , 1.        ,\n",
       "       0.06703879, 0.06756993, 1.        , 1.        , 0.06370607,\n",
       "       1.        , 0.06734652, 1.        , 1.        , 0.06651288,\n",
       "       0.06398858, 1.        , 1.        , 1.        , 1.        ,\n",
       "       0.06520706, 0.06839173, 1.        , 1.        , 1.        ,\n",
       "       1.        , 0.06549813, 1.        , 1.        , 0.06440011,\n",
       "       1.        , 1.        , 0.06419115, 1.        , 1.        ,\n",
       "       0.06471997, 1.        , 1.        , 1.        , 1.        ,\n",
       "       0.06424892, 0.06564637, 0.06421266, 1.        , 1.        ,\n",
       "       1.        , 1.        , 1.        , 1.        , 1.        ,\n",
       "       0.06485476, 1.        , 1.        , 1.        , 0.06515177,\n",
       "       0.0660743 , 1.        , 0.06478775, 1.        , 1.        ,\n",
       "       1.        , 1.        , 0.06481957, 1.        , 0.06425619,\n",
       "       1.        , 1.        , 0.06520921, 1.        , 0.06370082,\n",
       "       0.06321917, 1.        , 1.        , 1.        , 1.        ,\n",
       "       1.        , 1.        , 1.        , 1.        , 1.        ,\n",
       "       1.        , 0.06337199, 0.06321917, 1.        , 0.06310049,\n",
       "       0.06329437, 1.        , 1.        , 0.06504801, 1.        ,\n",
       "       0.06429765, 1.        , 1.        , 1.        , 1.        ,\n",
       "       0.06429765, 0.06329437, 1.        , 1.        , 1.        ,\n",
       "       0.06420917, 1.        , 1.        , 1.        , 0.06329437,\n",
       "       0.06491591, 1.        , 0.06429765, 1.        , 1.        ,\n",
       "       1.        , 1.        , 1.        , 1.        , 1.        ,\n",
       "       1.        , 0.06456055, 1.        , 0.0663514 , 0.06421839,\n",
       "       1.        , 1.        , 1.        , 1.        , 0.06396507,\n",
       "       1.        , 0.06494895, 1.        , 1.        , 0.06518993,\n",
       "       1.        , 1.        , 1.        , 1.        , 1.        ,\n",
       "       1.        , 1.        , 0.06418239, 0.06327369, 1.        ,\n",
       "       0.06435479, 1.        , 1.        , 0.06399083, 0.06435286,\n",
       "       0.06431608, 1.        , 1.        , 1.        , 1.        ,\n",
       "       1.        , 1.        , 1.        , 0.06494001, 1.        ,\n",
       "       1.        , 1.        , 0.06659483, 0.06329167, 1.        ,\n",
       "       0.06640942, 0.06523172, 0.06377001, 1.        , 1.        ,\n",
       "       1.        , 1.        , 1.        , 0.0651284 , 1.        ,\n",
       "       1.        , 1.        , 1.        , 1.        , 1.        ,\n",
       "       0.06385557, 0.0631187 , 1.        , 1.        , 1.        ,\n",
       "       1.        , 1.        , 1.        , 0.06544579, 1.        ,\n",
       "       1.        , 0.06415531, 0.06392049, 1.        , 0.06331077,\n",
       "       0.0677709 , 1.        , 1.        , 1.        , 1.        ,\n",
       "       0.06358667, 1.        , 1.        , 1.        , 1.        ,\n",
       "       1.        , 1.        , 0.06605832, 0.06313545, 1.        ,\n",
       "       0.06457852, 1.        , 1.        , 1.        , 0.06356799,\n",
       "       1.        , 1.        , 0.06380608, 1.        , 0.06909215,\n",
       "       1.        , 0.06543177, 0.06660467, 1.        , 0.06327847,\n",
       "       1.        , 1.        , 1.        , 1.        , 1.        ,\n",
       "       1.        , 1.        , 0.06367435, 1.        , 0.06660467,\n",
       "       1.        , 1.        , 1.        , 0.06380559, 1.        ,\n",
       "       1.        , 1.        , 0.06405053, 0.06344744, 0.06688765,\n",
       "       1.        , 1.        , 1.        , 1.        , 1.        ,\n",
       "       1.        , 1.        , 0.06688765, 0.06344743, 1.        ,\n",
       "       0.06367435, 1.        , 1.        ])"
      ]
     },
     "execution_count": 176,
     "metadata": {},
     "output_type": "execute_result"
    }
   ],
   "source": [
    "start_filled = -memory.memory_tree.capacity \n",
    "end_filled = -(memory.memory_tree.capacity - memory.memory_tree.capacity_filled) \n",
    "memory.memory_tree.tree[start_filled:end_filled]"
   ]
  },
  {
   "cell_type": "code",
   "execution_count": 122,
   "metadata": {},
   "outputs": [
    {
     "data": {
      "text/plain": [
       "563.0"
      ]
     },
     "execution_count": 122,
     "metadata": {},
     "output_type": "execute_result"
    }
   ],
   "source": [
    "memory.memory_tree.tree[0]"
   ]
  },
  {
   "cell_type": "markdown",
   "metadata": {},
   "source": [
    "### [3.3] Act to exploit or explore"
   ]
  },
  {
   "cell_type": "code",
   "execution_count": 13,
   "metadata": {},
   "outputs": [],
   "source": [
    "# Function to pick action either from model or take random action\n",
    "def act(state, exploration_rate):\n",
    "    \n",
    "    # Take random action\n",
    "    if np.random.rand() < exploration_rate:\n",
    "        return env.action_space.sample()\n",
    "    \n",
    "    # Else use the model to predict a action\n",
    "    q_values = sess.run(DQNetwork.output, feed_dict = {DQNetwork.inputs_: state[tf.newaxis,...]})\n",
    "    \n",
    "    return np.argmax(q_values[0])"
   ]
  },
  {
   "cell_type": "code",
   "execution_count": 14,
   "metadata": {},
   "outputs": [],
   "source": [
    "# Update the target network \n",
    "def update_graph():\n",
    "    \n",
    "    # Get weights\n",
    "    from_vars = tf.get_collection(tf.GraphKeys.TRAINABLE_VARIABLES, \"DQN\")\n",
    "    to_vars = tf.get_collection(tf.GraphKeys.TRAINABLE_VARIABLES, \"TargetDQN\")\n",
    "    \n",
    "    # Update the target \n",
    "    updated_weights = [to_var.assign(from_var) for from_var, to_var in zip(from_vars, to_vars)]\n",
    "    \n",
    "    return updated_weights"
   ]
  },
  {
   "cell_type": "markdown",
   "metadata": {},
   "source": [
    "## [3.4] Train agent in batches from memory"
   ]
  },
  {
   "cell_type": "code",
   "execution_count": 15,
   "metadata": {},
   "outputs": [],
   "source": [
    "# Function to fit data from experience obtained from memory, THE LEARNING PROCEDURE\n",
    "def model_fit(BATCH_SIZE):\n",
    "    \n",
    "    # Sample from memory\n",
    "    tree_idx, IS_weights, batch = memory.sample(BATCH_SIZE)\n",
    "\n",
    "    # Initialise list of target Q and states\n",
    "    target_Q = []\n",
    "    state_train = []\n",
    "    action_list = []\n",
    "    \n",
    "    # Extract each parameter from batch\n",
    "    for state, action, reward, state_next, done in batch:\n",
    "\n",
    "        # add states to list\n",
    "        state_train.append(state)\n",
    "        \n",
    "        # add action to list\n",
    "        action_onehot = np.zeros(action_size)\n",
    "        action_onehot[action] = 1\n",
    "        action_list.append(action_onehot)\n",
    "\n",
    "        # Add the target Q to list\n",
    "        if done:\n",
    "            target_Q.append(reward)\n",
    "        else:\n",
    "            # Double target DQN, take best action from DQN and update with Q-values with TargetDQN Q-values[best_action]\n",
    "            best_action = np.argmax(sess.run(DQNetwork.output, \n",
    "                                            feed_dict = {DQNetwork.inputs_: state_next[tf.newaxis,...]})[0])\n",
    "            Q_update = reward + GAMMA * sess.run(TargetDQNetwork.output, \n",
    "                                                feed_dict = {TargetDQNetwork.inputs_: state_next[tf.newaxis,...]})[0][best_action]\n",
    "            target_Q.append(Q_update)\n",
    "\n",
    "    # Turn states and target Q in numpy arrays\n",
    "    state_train = np.array(state_train)\n",
    "    target_Q = np.array(target_Q)\n",
    "    action_list = np.array(action_list)\n",
    "    \n",
    "    # Fit the data \n",
    "    loss, abs_TD_error, _ = sess.run([DQNetwork.loss, DQNetwork.abs_TD_error, DQNetwork.optimizer],\n",
    "                                            feed_dict={DQNetwork.inputs_: state_train,\n",
    "                                                    DQNetwork.target_Q: target_Q,\n",
    "                                                    DQNetwork.actions_: action_list,\n",
    "                                                    DQNetwork.IS_weights: IS_weights})\n",
    "    # Update the priorites with latest TD errors\n",
    "    memory.update_batch(tree_idx, abs_TD_error)\n",
    "    \n",
    "    return loss"
   ]
  },
  {
   "cell_type": "markdown",
   "metadata": {},
   "source": [
    "### [3.5] Test agent by taking random actions"
   ]
  },
  {
   "cell_type": "code",
   "execution_count": 16,
   "metadata": {},
   "outputs": [],
   "source": [
    "# Play a game to test environment \n",
    "def test(n_episodes, model = None, memory = None):\n",
    "    \n",
    "    # Initialise average rewards\n",
    "    avg_rewards = 0\n",
    "    run_list = []\n",
    "    \n",
    "    for i in range(1, n_episodes+1):\n",
    "        \n",
    "        # Initialise the start of environment\n",
    "        state = env.reset()\n",
    "        stacked_frames = deque([np.zeros(frame_size, dtype = np.int) for i in range(0,stack_size)], maxlen=stack_size)\n",
    "        state, stacked_frames = stack_frames(stacked_frames, state, True)\n",
    "        done = False \n",
    "        total_reward = 0\n",
    "        steps = 0\n",
    "\n",
    "        while not done:\n",
    "            if model:\n",
    "                action = np.argmax(sess.run(model.output, feed_dict = {model.inputs_: state[tf.newaxis,...]})[0])\n",
    "            else:\n",
    "                action = env.action_space.sample()\n",
    "            state_next, reward, done, info = env.step(action)\n",
    "            state_next, stacked_frames = stack_frames(stacked_frames, state_next, False)\n",
    "            if memory:\n",
    "                memory.store((state, action, reward, state_next, done))\n",
    "            state = state_next\n",
    "            total_reward += reward\n",
    "            steps += 1\n",
    "            if steps > MAX_STEP:\n",
    "                done = True\n",
    "        \n",
    "        avg_rewards = avg_rewards + 1/(i) * (total_reward - avg_rewards)\n",
    "        run_list.append(steps)\n",
    "        \n",
    "    return run_list, avg_rewards"
   ]
  },
  {
   "cell_type": "code",
   "execution_count": 31,
   "metadata": {},
   "outputs": [
    {
     "name": "stdout",
     "output_type": "stream",
     "text": [
      "Total steps by taking random actions:  [1119]\n",
      "Average rewards by taking random actions:  255.0\n",
      "Memory length:  200\n"
     ]
    }
   ],
   "source": [
    "# Initialise memory\n",
    "memory = Memory(200)\n",
    "\n",
    "# Run Tests\n",
    "steps, total_reward = test(1, model = None, memory = memory)\n",
    "\n",
    "print(\"Total steps by taking random actions: \", steps)\n",
    "print(\"Average rewards by taking random actions: \", total_reward)\n",
    "print(\"Memory length: \", memory.memory_tree.capacity_filled)"
   ]
  },
  {
   "cell_type": "code",
   "execution_count": 184,
   "metadata": {},
   "outputs": [
    {
     "name": "stdout",
     "output_type": "stream",
     "text": [
      "[0.3194578 0.3194578 0.3194578 0.3194578 0.3194578 0.3194578 0.3194578\n",
      " 0.3194578 0.3194578 0.3194578 0.3194578 0.3194578 0.3194578 0.3194578\n",
      " 0.3194578 0.3194578 0.3194578 0.3194578 0.9849532 0.3194578 0.3194578\n",
      " 0.3194578 0.3194578 0.3194578 0.3194578 0.3194578 0.3194578 0.3194578\n",
      " 0.3194578 0.3194578 0.3194578 0.3194578 0.3194578 0.3194578 0.3194578\n",
      " 0.3194578 0.3194578 0.3194578 0.3194578 0.3194578 0.9916156 0.3194578\n",
      " 0.3194578 0.3194578 0.3194578 0.3194578 0.3194578 0.3194578 0.3194578\n",
      " 0.3194578 0.3194578 0.3194578 0.3194578 0.3194578 0.3194578 0.3194578\n",
      " 0.3194578 0.3194578 0.3194578 0.3194578 0.3194578 0.3194578 0.3194578\n",
      " 0.3194578]\n"
     ]
    }
   ],
   "source": [
    "tree_idx, IS_weights, batch = memory.sample(BATCH_SIZE)\n",
    "\n",
    "print(IS_weights)"
   ]
  },
  {
   "cell_type": "code",
   "execution_count": 186,
   "metadata": {},
   "outputs": [
    {
     "data": {
      "text/plain": [
       "array([1.        , 1.        , 1.        , 1.        , 1.        ,\n",
       "       1.        , 1.        , 1.        , 1.        , 1.        ,\n",
       "       1.        , 1.        , 1.        , 1.        , 1.        ,\n",
       "       1.        , 1.        , 1.        , 0.06545993, 1.        ,\n",
       "       1.        , 1.        , 1.        , 1.        , 1.        ,\n",
       "       1.        , 1.        , 1.        , 1.        , 1.        ,\n",
       "       1.        , 1.        , 1.        , 1.        , 1.        ,\n",
       "       1.        , 1.        , 1.        , 1.        , 1.        ,\n",
       "       0.06440011, 1.        , 1.        , 1.        , 1.        ,\n",
       "       1.        , 1.        , 1.        , 1.        , 1.        ,\n",
       "       1.        , 1.        , 1.        , 1.        , 1.        ,\n",
       "       1.        , 1.        , 1.        , 1.        , 1.        ,\n",
       "       1.        , 1.        , 1.        , 1.        ])"
      ]
     },
     "execution_count": 186,
     "metadata": {},
     "output_type": "execute_result"
    }
   ],
   "source": [
    "memory.memory_tree.tree[tree_idx]"
   ]
  },
  {
   "cell_type": "code",
   "execution_count": 194,
   "metadata": {},
   "outputs": [
    {
     "data": {
      "text/plain": [
       "5"
      ]
     },
     "execution_count": 194,
     "metadata": {},
     "output_type": "execute_result"
    }
   ],
   "source": [
    "batch[0][1]"
   ]
  },
  {
   "cell_type": "code",
   "execution_count": 100,
   "metadata": {},
   "outputs": [
    {
     "name": "stdout",
     "output_type": "stream",
     "text": [
      "0.010286483\n",
      "[0.11516771 0.43870953]\n",
      "[0.01151677 0.04387095]\n"
     ]
    }
   ],
   "source": [
    "# Define the training material\n",
    "state_train = np.random.rand(2,110, 84, 4)\n",
    "target_Q = np.random.rand(2)\n",
    "action_list = np.array([[0,1,0,0,0,0], [0,0,0,0,1,0]])\n",
    "IS_weights = np.array([0.1, 0.1])\n",
    "\n",
    "with tf.Session() as sess:\n",
    "    \n",
    "    # Initialize the variables\n",
    "    sess.run(tf.global_variables_initializer())\n",
    "    \n",
    "    loss, abs_error, weighted_TD = sess.run([DQNetwork.loss, DQNetwork.abs_TD_error, DQNetwork.weighted_TD], \n",
    "                                    feed_dict = {DQNetwork.inputs_: stacked_states[tf.newaxis,...], \n",
    "                                                 DQNetwork.target_Q: target_Q,\n",
    "                                                 DQNetwork.actions_: action_list,\n",
    "                                                 DQNetwork.IS_weights: IS_weights})\n",
    "\n",
    "\n",
    "print(loss)\n",
    "print(abs_error)\n",
    "print(weighted_TD)"
   ]
  },
  {
   "cell_type": "code",
   "execution_count": 22,
   "metadata": {},
   "outputs": [
    {
     "name": "stdout",
     "output_type": "stream",
     "text": [
      "Loss is : 2.551473\n",
      "Elapsed_time:  0.5619301795959473\n"
     ]
    }
   ],
   "source": [
    "# Check time taken to train for 1 batch\n",
    "start_time = time.time()\n",
    "with tf.Session() as sess:\n",
    "    # Initialize the variables\n",
    "    sess.run(tf.global_variables_initializer())\n",
    "    history = model_fit(BATCH_SIZE)\n",
    "print(\"Loss is :\", history)\n",
    "print(\"Elapsed_time: \", time.time() - start_time)"
   ]
  },
  {
   "cell_type": "markdown",
   "metadata": {},
   "source": [
    "### Training on the environment"
   ]
  },
  {
   "cell_type": "code",
   "execution_count": 18,
   "metadata": {
    "scrolled": true
   },
   "outputs": [
    {
     "name": "stdout",
     "output_type": "stream",
     "text": [
      "Target network updated!\n",
      "Episode 1, exploration rate: 0.9317, final rewards: 110.0, final loss is 0.5310, Time elapsed: 224.4139\n",
      "Episode 2, exploration rate: 0.8873, final rewards: 50.0, final loss is 0.6487, Time elapsed: 101.8743\n",
      "Episode 3, exploration rate: 0.8282, final rewards: 185.0, final loss is 0.2043, Time elapsed: 142.7031\n",
      "Episode 4, exploration rate: 0.7876, final rewards: 30.0, final loss is 0.1128, Time elapsed: 104.5487\n",
      "Episode 5, exploration rate: 0.7309, final rewards: 180.0, final loss is 0.2216, Time elapsed: 155.1433\n",
      "Episode 6, exploration rate: 0.6890, final rewards: 110.0, final loss is 0.5988, Time elapsed: 122.8135\n",
      "Episode 7, exploration rate: 0.6440, final rewards: 120.0, final loss is 0.1494, Time elapsed: 140.3883\n",
      "Target network updated!\n",
      "Episode 8, exploration rate: 0.5940, final rewards: 125.0, final loss is 0.2199, Time elapsed: 168.4722\n",
      "Episode 9, exploration rate: 0.5436, final rewards: 225.0, final loss is 0.3648, Time elapsed: 186.7073\n",
      "Episode 10, exploration rate: 0.5081, final rewards: 135.0, final loss is 0.1770, Time elapsed: 141.0774\n",
      "Episode 11, exploration rate: 0.4823, final rewards: 155.0, final loss is 0.1228, Time elapsed: 109.3599\n",
      "Episode 12, exploration rate: 0.4429, final rewards: 380.0, final loss is 0.2843, Time elapsed: 178.4135\n",
      "Episode 13, exploration rate: 0.4258, final rewards: 20.0, final loss is 0.1384, Time elapsed: 81.6526\n",
      "Episode 14, exploration rate: 0.3979, final rewards: 125.0, final loss is 0.7325, Time elapsed: 140.0802\n",
      "Target network updated!\n",
      "Episode 15, exploration rate: 0.3571, final rewards: 225.0, final loss is 0.9216, Time elapsed: 225.8716\n",
      "Episode 16, exploration rate: 0.3353, final rewards: 170.0, final loss is 0.2946, Time elapsed: 131.3861\n",
      "Episode 17, exploration rate: 0.2894, final rewards: 350.0, final loss is 0.3773, Time elapsed: 306.5409\n",
      "Episode 18, exploration rate: 0.2682, final rewards: 315.0, final loss is 0.3954, Time elapsed: 158.4077\n",
      "Episode 19, exploration rate: 0.2494, final rewards: 115.0, final loss is 0.1991, Time elapsed: 151.1683\n",
      "Episode 20, exploration rate: 0.2333, final rewards: 100.0, final loss is 0.1944, Time elapsed: 138.9578\n",
      "Target network updated!\n",
      "Episode 21, exploration rate: 0.2183, final rewards: 110.0, final loss is 0.1328, Time elapsed: 138.5965\n",
      "Episode 22, exploration rate: 0.2072, final rewards: 80.0, final loss is 0.5214, Time elapsed: 107.9885\n",
      "Episode 23, exploration rate: 0.1935, final rewards: 105.0, final loss is 0.7963, Time elapsed: 143.3859\n",
      "Episode 24, exploration rate: 0.1833, final rewards: 50.0, final loss is 0.4241, Time elapsed: 112.6821\n",
      "Episode 25, exploration rate: 0.1732, final rewards: 50.0, final loss is 0.6036, Time elapsed: 119.0985\n",
      "Episode 26, exploration rate: 0.1626, final rewards: 125.0, final loss is 0.2436, Time elapsed: 130.4569\n",
      "Episode 27, exploration rate: 0.1498, final rewards: 195.0, final loss is 0.2316, Time elapsed: 171.1229\n",
      "Target network updated!\n",
      "Episode 28, exploration rate: 0.1321, final rewards: 420.0, final loss is 0.5313, Time elapsed: 264.1085\n",
      "Episode 29, exploration rate: 0.1220, final rewards: 210.0, final loss is 0.3861, Time elapsed: 166.3161\n",
      "Episode 30, exploration rate: 0.1174, final rewards: 70.0, final loss is 0.3204, Time elapsed: 78.9356\n",
      "Episode 31, exploration rate: 0.1097, final rewards: 55.0, final loss is 0.1356, Time elapsed: 142.7012\n",
      "Episode 32, exploration rate: 0.0998, final rewards: 200.0, final loss is 0.2903, Time elapsed: 196.2670\n",
      "Episode 33, exploration rate: 0.0931, final rewards: 25.0, final loss is 0.3233, Time elapsed: 145.0269\n",
      "Episode 34, exploration rate: 0.0842, final rewards: 315.0, final loss is 0.3992, Time elapsed: 210.0505\n",
      "Target network updated!\n",
      "Episode 35, exploration rate: 0.0784, final rewards: 180.0, final loss is 0.4764, Time elapsed: 149.0072\n",
      "Episode 36, exploration rate: 0.0753, final rewards: 105.0, final loss is 0.3888, Time elapsed: 83.8186\n",
      "Episode 37, exploration rate: 0.0726, final rewards: 35.0, final loss is 0.2597, Time elapsed: 76.6683\n",
      "Episode 38, exploration rate: 0.0669, final rewards: 385.0, final loss is 0.3065, Time elapsed: 170.3238\n",
      "Episode 39, exploration rate: 0.0628, final rewards: 60.0, final loss is 0.7436, Time elapsed: 133.4427\n",
      "Episode 40, exploration rate: 0.0591, final rewards: 80.0, final loss is 0.0891, Time elapsed: 128.6898\n",
      "Episode 41, exploration rate: 0.0555, final rewards: 105.0, final loss is 0.1702, Time elapsed: 131.1009\n",
      "Episode 42, exploration rate: 0.0528, final rewards: 105.0, final loss is 0.4346, Time elapsed: 104.6592\n",
      "Target network updated!\n",
      "Episode 43, exploration rate: 0.0495, final rewards: 75.0, final loss is 0.3542, Time elapsed: 134.4640\n",
      "Episode 44, exploration rate: 0.0464, final rewards: 60.0, final loss is 0.2050, Time elapsed: 133.3470\n",
      "Episode 45, exploration rate: 0.0428, final rewards: 215.0, final loss is 0.3987, Time elapsed: 169.3410\n",
      "Episode 46, exploration rate: 0.0399, final rewards: 135.0, final loss is 0.1858, Time elapsed: 147.6181\n",
      "Episode 47, exploration rate: 0.0383, final rewards: 90.0, final loss is 0.2519, Time elapsed: 84.4526\n",
      "Episode 48, exploration rate: 0.0360, final rewards: 180.0, final loss is 0.6242, Time elapsed: 129.6394\n",
      "Episode 49, exploration rate: 0.0347, final rewards: 80.0, final loss is 0.2893, Time elapsed: 82.0025\n",
      "Episode 50, exploration rate: 0.0310, final rewards: 205.0, final loss is 0.1315, Time elapsed: 236.1737\n",
      "Target network updated!\n",
      "Episode 51, exploration rate: 0.0291, final rewards: 145.0, final loss is 0.6630, Time elapsed: 132.1172\n",
      "Episode 52, exploration rate: 0.0266, final rewards: 210.0, final loss is 0.3439, Time elapsed: 186.5483\n",
      "Episode 53, exploration rate: 0.0248, final rewards: 80.0, final loss is 0.7964, Time elapsed: 144.1274\n",
      "Episode 54, exploration rate: 0.0235, final rewards: 90.0, final loss is 0.3881, Time elapsed: 110.5906\n",
      "Episode 55, exploration rate: 0.0221, final rewards: 105.0, final loss is 0.9887, Time elapsed: 134.7981\n",
      "Episode 56, exploration rate: 0.0200, final rewards: 145.0, final loss is 0.3583, Time elapsed: 201.3984\n",
      "Episode 57, exploration rate: 0.0190, final rewards: 55.0, final loss is 0.2675, Time elapsed: 111.5642\n",
      "Target network updated!\n",
      "Episode 58, exploration rate: 0.0178, final rewards: 120.0, final loss is 0.2608, Time elapsed: 141.3438\n",
      "Episode 59, exploration rate: 0.0159, final rewards: 365.0, final loss is 0.5067, Time elapsed: 237.9693\n",
      "Episode 60, exploration rate: 0.0147, final rewards: 155.0, final loss is 0.1946, Time elapsed: 152.4695\n",
      "Episode 61, exploration rate: 0.0134, final rewards: 255.0, final loss is 0.1441, Time elapsed: 202.4675\n",
      "Episode 62, exploration rate: 0.0124, final rewards: 115.0, final loss is 0.4959, Time elapsed: 153.2158\n",
      "Episode 63, exploration rate: 0.0118, final rewards: 30.0, final loss is 1.3110, Time elapsed: 115.8113\n",
      "Target network updated!\n",
      "Episode 64, exploration rate: 0.0108, final rewards: 210.0, final loss is 0.2802, Time elapsed: 177.9521\n",
      "Episode 65, exploration rate: 0.0100, final rewards: 635.0, final loss is 0.3865, Time elapsed: 355.7813\n",
      "Episode 66, exploration rate: 0.0100, final rewards: 120.0, final loss is 0.1376, Time elapsed: 204.1183\n",
      "Episode 67, exploration rate: 0.0100, final rewards: 10.0, final loss is 0.1526, Time elapsed: 116.1238\n",
      "Episode 68, exploration rate: 0.0100, final rewards: 485.0, final loss is 0.7472, Time elapsed: 216.1949\n",
      "Target network updated!\n",
      "Episode 69, exploration rate: 0.0100, final rewards: 105.0, final loss is 0.4740, Time elapsed: 144.1285\n",
      "Episode 70, exploration rate: 0.0100, final rewards: 135.0, final loss is 0.4821, Time elapsed: 136.7197\n",
      "Episode 71, exploration rate: 0.0100, final rewards: 15.0, final loss is 0.3834, Time elapsed: 104.3106\n",
      "Episode 72, exploration rate: 0.0100, final rewards: 180.0, final loss is 1.0146, Time elapsed: 155.4874\n",
      "Episode 73, exploration rate: 0.0100, final rewards: 190.0, final loss is 1.3236, Time elapsed: 196.8180\n",
      "Episode 74, exploration rate: 0.0100, final rewards: 225.0, final loss is 0.1884, Time elapsed: 152.0338\n",
      "Episode 75, exploration rate: 0.0100, final rewards: 80.0, final loss is 0.2417, Time elapsed: 132.3550\n",
      "Target network updated!\n",
      "Episode 76, exploration rate: 0.0100, final rewards: 280.0, final loss is 0.5494, Time elapsed: 225.5545\n"
     ]
    },
    {
     "name": "stdout",
     "output_type": "stream",
     "text": [
      "Episode 77, exploration rate: 0.0100, final rewards: 85.0, final loss is 0.2517, Time elapsed: 132.8893\n",
      "Episode 78, exploration rate: 0.0100, final rewards: 245.0, final loss is 0.1554, Time elapsed: 180.0562\n",
      "Episode 79, exploration rate: 0.0100, final rewards: 210.0, final loss is 0.5626, Time elapsed: 144.8498\n",
      "Episode 80, exploration rate: 0.0100, final rewards: 245.0, final loss is 0.1741, Time elapsed: 252.2702\n",
      "Episode 81, exploration rate: 0.0100, final rewards: 255.0, final loss is 0.8396, Time elapsed: 212.1509\n",
      "Target network updated!\n",
      "Episode 82, exploration rate: 0.0100, final rewards: 55.0, final loss is 0.8206, Time elapsed: 105.7779\n",
      "Episode 83, exploration rate: 0.0100, final rewards: 80.0, final loss is 0.1727, Time elapsed: 94.0028\n",
      "Episode 84, exploration rate: 0.0100, final rewards: 60.0, final loss is 0.3307, Time elapsed: 76.8151\n",
      "Episode 85, exploration rate: 0.0100, final rewards: 60.0, final loss is 0.4525, Time elapsed: 132.5817\n",
      "Episode 86, exploration rate: 0.0100, final rewards: 130.0, final loss is 0.3464, Time elapsed: 143.5562\n",
      "Episode 87, exploration rate: 0.0100, final rewards: 80.0, final loss is 0.3729, Time elapsed: 112.5427\n",
      "Episode 88, exploration rate: 0.0100, final rewards: 180.0, final loss is 1.8118, Time elapsed: 144.6210\n",
      "Episode 89, exploration rate: 0.0100, final rewards: 250.0, final loss is 0.6213, Time elapsed: 226.0798\n",
      "Target network updated!\n",
      "Episode 90, exploration rate: 0.0100, final rewards: 200.0, final loss is 0.3363, Time elapsed: 210.9488\n",
      "Episode 91, exploration rate: 0.0100, final rewards: 75.0, final loss is 0.3747, Time elapsed: 97.3879\n",
      "Episode 92, exploration rate: 0.0100, final rewards: 215.0, final loss is 0.6495, Time elapsed: 190.0945\n",
      "Episode 93, exploration rate: 0.0100, final rewards: 175.0, final loss is 0.2534, Time elapsed: 141.9758\n",
      "Episode 94, exploration rate: 0.0100, final rewards: 240.0, final loss is 0.5412, Time elapsed: 160.6555\n",
      "Episode 95, exploration rate: 0.0100, final rewards: 185.0, final loss is 0.3395, Time elapsed: 136.6714\n",
      "Target network updated!\n",
      "Episode 96, exploration rate: 0.0100, final rewards: 245.0, final loss is 0.9315, Time elapsed: 226.2281\n",
      "Episode 97, exploration rate: 0.0100, final rewards: 180.0, final loss is 0.6820, Time elapsed: 141.2207\n",
      "Episode 98, exploration rate: 0.0100, final rewards: 335.0, final loss is 1.6332, Time elapsed: 245.4010\n",
      "Episode 99, exploration rate: 0.0100, final rewards: 155.0, final loss is 0.3785, Time elapsed: 166.2377\n",
      "Episode 100, exploration rate: 0.0100, final rewards: 150.0, final loss is 0.6729, Time elapsed: 146.2643\n",
      "Episode 101, exploration rate: 0.0100, final rewards: 140.0, final loss is 0.2454, Time elapsed: 140.3994\n",
      "Target network updated!\n",
      "Episode 102, exploration rate: 0.0100, final rewards: 275.0, final loss is 0.7214, Time elapsed: 218.4878\n",
      "Episode 103, exploration rate: 0.0100, final rewards: 145.0, final loss is 0.8117, Time elapsed: 145.6594\n",
      "Episode 104, exploration rate: 0.0100, final rewards: 150.0, final loss is 0.3273, Time elapsed: 128.2216\n",
      "Episode 105, exploration rate: 0.0100, final rewards: 175.0, final loss is 0.3328, Time elapsed: 151.8325\n",
      "Episode 106, exploration rate: 0.0100, final rewards: 80.0, final loss is 0.3469, Time elapsed: 127.8900\n",
      "Episode 107, exploration rate: 0.0100, final rewards: 350.0, final loss is 1.0354, Time elapsed: 282.9816\n",
      "Target network updated!\n",
      "Episode 108, exploration rate: 0.0100, final rewards: 110.0, final loss is 0.4042, Time elapsed: 141.6397\n",
      "Episode 109, exploration rate: 0.0100, final rewards: 90.0, final loss is 0.2671, Time elapsed: 82.3989\n",
      "Episode 110, exploration rate: 0.0100, final rewards: 385.0, final loss is 0.5369, Time elapsed: 218.1380\n",
      "Episode 111, exploration rate: 0.0100, final rewards: 215.0, final loss is 0.4092, Time elapsed: 207.6271\n",
      "Episode 112, exploration rate: 0.0100, final rewards: 185.0, final loss is 0.2595, Time elapsed: 153.3809\n",
      "Episode 113, exploration rate: 0.0100, final rewards: 405.0, final loss is 0.1886, Time elapsed: 249.5904\n",
      "Target network updated!\n",
      "Episode 114, exploration rate: 0.0100, final rewards: 270.0, final loss is 0.6713, Time elapsed: 220.8192\n",
      "Episode 115, exploration rate: 0.0100, final rewards: 20.0, final loss is 0.5957, Time elapsed: 74.1139\n",
      "Episode 116, exploration rate: 0.0100, final rewards: 20.0, final loss is 0.2449, Time elapsed: 92.3601\n",
      "Episode 117, exploration rate: 0.0100, final rewards: 210.0, final loss is 0.3012, Time elapsed: 191.5194\n",
      "Episode 118, exploration rate: 0.0100, final rewards: 180.0, final loss is 0.6065, Time elapsed: 155.1318\n",
      "Episode 119, exploration rate: 0.0100, final rewards: 30.0, final loss is 0.5220, Time elapsed: 105.9469\n",
      "Episode 120, exploration rate: 0.0100, final rewards: 115.0, final loss is 0.4290, Time elapsed: 148.3702\n",
      "Target network updated!\n",
      "Episode 121, exploration rate: 0.0100, final rewards: 55.0, final loss is 0.2101, Time elapsed: 164.5317\n",
      "Episode 122, exploration rate: 0.0100, final rewards: 20.0, final loss is 0.3563, Time elapsed: 84.0432\n",
      "Episode 123, exploration rate: 0.0100, final rewards: 50.0, final loss is 0.3261, Time elapsed: 71.2263\n",
      "Episode 124, exploration rate: 0.0100, final rewards: 305.0, final loss is 0.6136, Time elapsed: 193.9407\n",
      "Episode 125, exploration rate: 0.0100, final rewards: 115.0, final loss is 0.3503, Time elapsed: 126.7432\n",
      "Episode 126, exploration rate: 0.0100, final rewards: 170.0, final loss is 0.1986, Time elapsed: 165.3827\n",
      "Episode 127, exploration rate: 0.0100, final rewards: 185.0, final loss is 0.2006, Time elapsed: 130.4481\n",
      "Episode 128, exploration rate: 0.0100, final rewards: 65.0, final loss is 1.2116, Time elapsed: 119.4514\n",
      "Episode 129, exploration rate: 0.0100, final rewards: 150.0, final loss is 0.6634, Time elapsed: 135.7959\n",
      "Target network updated!\n",
      "Episode 130, exploration rate: 0.0100, final rewards: 460.0, final loss is 0.2264, Time elapsed: 211.8083\n",
      "Episode 131, exploration rate: 0.0100, final rewards: 180.0, final loss is 0.4273, Time elapsed: 149.1093\n",
      "Episode 132, exploration rate: 0.0100, final rewards: 80.0, final loss is 0.5225, Time elapsed: 106.7047\n",
      "Episode 133, exploration rate: 0.0100, final rewards: 120.0, final loss is 0.3408, Time elapsed: 124.7542\n",
      "Episode 134, exploration rate: 0.0100, final rewards: 185.0, final loss is 0.3274, Time elapsed: 163.3750\n",
      "Episode 135, exploration rate: 0.0100, final rewards: 210.0, final loss is 0.4113, Time elapsed: 176.8114\n"
     ]
    },
    {
     "ename": "ValueError",
     "evalue": "zero-size array to reduction operation minimum which has no identity",
     "output_type": "error",
     "traceback": [
      "\u001b[0;31m---------------------------------------------------------------------------\u001b[0m",
      "\u001b[0;31mValueError\u001b[0m                                Traceback (most recent call last)",
      "\u001b[0;32m<ipython-input-18-362276d641c6>\u001b[0m in \u001b[0;36m<module>\u001b[0;34m\u001b[0m\n\u001b[1;32m     71\u001b[0m             \u001b[0;31m# learn only when memory has be filled to batch size\u001b[0m\u001b[0;34m\u001b[0m\u001b[0;34m\u001b[0m\u001b[0;34m\u001b[0m\u001b[0m\n\u001b[1;32m     72\u001b[0m             \u001b[0;32mif\u001b[0m \u001b[0mmemory\u001b[0m\u001b[0;34m.\u001b[0m\u001b[0mmemory_tree\u001b[0m\u001b[0;34m.\u001b[0m\u001b[0mcapacity_filled\u001b[0m \u001b[0;34m>=\u001b[0m \u001b[0mBATCH_SIZE\u001b[0m\u001b[0;34m:\u001b[0m\u001b[0;34m\u001b[0m\u001b[0;34m\u001b[0m\u001b[0m\n\u001b[0;32m---> 73\u001b[0;31m                 \u001b[0mhistory\u001b[0m \u001b[0;34m=\u001b[0m \u001b[0mmodel_fit\u001b[0m\u001b[0;34m(\u001b[0m\u001b[0mBATCH_SIZE\u001b[0m\u001b[0;34m)\u001b[0m\u001b[0;34m\u001b[0m\u001b[0;34m\u001b[0m\u001b[0m\n\u001b[0m\u001b[1;32m     74\u001b[0m \u001b[0;34m\u001b[0m\u001b[0m\n\u001b[1;32m     75\u001b[0m                 \u001b[0;31m# store loss\u001b[0m\u001b[0;34m\u001b[0m\u001b[0;34m\u001b[0m\u001b[0;34m\u001b[0m\u001b[0m\n",
      "\u001b[0;32m<ipython-input-15-62e3336af934>\u001b[0m in \u001b[0;36mmodel_fit\u001b[0;34m(BATCH_SIZE)\u001b[0m\n\u001b[1;32m      3\u001b[0m \u001b[0;34m\u001b[0m\u001b[0m\n\u001b[1;32m      4\u001b[0m     \u001b[0;31m# Sample from memory\u001b[0m\u001b[0;34m\u001b[0m\u001b[0;34m\u001b[0m\u001b[0;34m\u001b[0m\u001b[0m\n\u001b[0;32m----> 5\u001b[0;31m     \u001b[0mtree_idx\u001b[0m\u001b[0;34m,\u001b[0m \u001b[0mIS_weights\u001b[0m\u001b[0;34m,\u001b[0m \u001b[0mbatch\u001b[0m \u001b[0;34m=\u001b[0m \u001b[0mmemory\u001b[0m\u001b[0;34m.\u001b[0m\u001b[0msample\u001b[0m\u001b[0;34m(\u001b[0m\u001b[0mBATCH_SIZE\u001b[0m\u001b[0;34m)\u001b[0m\u001b[0;34m\u001b[0m\u001b[0;34m\u001b[0m\u001b[0m\n\u001b[0m\u001b[1;32m      6\u001b[0m \u001b[0;34m\u001b[0m\u001b[0m\n\u001b[1;32m      7\u001b[0m     \u001b[0;31m# Initialise list of target Q and states\u001b[0m\u001b[0;34m\u001b[0m\u001b[0;34m\u001b[0m\u001b[0;34m\u001b[0m\u001b[0m\n",
      "\u001b[0;32m<ipython-input-12-2d481135abae>\u001b[0m in \u001b[0;36msample\u001b[0;34m(self, n)\u001b[0m\n\u001b[1;32m     41\u001b[0m         \u001b[0mstart_filled\u001b[0m \u001b[0;34m=\u001b[0m \u001b[0;34m-\u001b[0m\u001b[0mself\u001b[0m\u001b[0;34m.\u001b[0m\u001b[0mmemory_tree\u001b[0m\u001b[0;34m.\u001b[0m\u001b[0mcapacity\u001b[0m\u001b[0;34m\u001b[0m\u001b[0;34m\u001b[0m\u001b[0m\n\u001b[1;32m     42\u001b[0m         \u001b[0mend_filled\u001b[0m \u001b[0;34m=\u001b[0m \u001b[0;34m-\u001b[0m\u001b[0;34m(\u001b[0m\u001b[0mself\u001b[0m\u001b[0;34m.\u001b[0m\u001b[0mmemory_tree\u001b[0m\u001b[0;34m.\u001b[0m\u001b[0mcapacity\u001b[0m \u001b[0;34m-\u001b[0m \u001b[0mself\u001b[0m\u001b[0;34m.\u001b[0m\u001b[0mmemory_tree\u001b[0m\u001b[0;34m.\u001b[0m\u001b[0mcapacity_filled\u001b[0m\u001b[0;34m)\u001b[0m\u001b[0;34m\u001b[0m\u001b[0;34m\u001b[0m\u001b[0m\n\u001b[0;32m---> 43\u001b[0;31m         \u001b[0mmin_probability\u001b[0m \u001b[0;34m=\u001b[0m \u001b[0mnp\u001b[0m\u001b[0;34m.\u001b[0m\u001b[0mmin\u001b[0m\u001b[0;34m(\u001b[0m\u001b[0mself\u001b[0m\u001b[0;34m.\u001b[0m\u001b[0mmemory_tree\u001b[0m\u001b[0;34m.\u001b[0m\u001b[0mtree\u001b[0m\u001b[0;34m[\u001b[0m\u001b[0mstart_filled\u001b[0m\u001b[0;34m:\u001b[0m\u001b[0mend_filled\u001b[0m\u001b[0;34m]\u001b[0m\u001b[0;34m)\u001b[0m\u001b[0;34m/\u001b[0m\u001b[0mtotal_priority\u001b[0m\u001b[0;34m\u001b[0m\u001b[0;34m\u001b[0m\u001b[0m\n\u001b[0m\u001b[1;32m     44\u001b[0m         \u001b[0mmax_weight\u001b[0m \u001b[0;34m=\u001b[0m \u001b[0;34m(\u001b[0m\u001b[0mself\u001b[0m\u001b[0;34m.\u001b[0m\u001b[0mmemory_tree\u001b[0m\u001b[0;34m.\u001b[0m\u001b[0mcapacity_filled\u001b[0m \u001b[0;34m*\u001b[0m \u001b[0mmin_probability\u001b[0m\u001b[0;34m)\u001b[0m \u001b[0;34m**\u001b[0m \u001b[0;34m(\u001b[0m\u001b[0;34m-\u001b[0m\u001b[0mself\u001b[0m\u001b[0;34m.\u001b[0m\u001b[0mPER_b\u001b[0m\u001b[0;34m)\u001b[0m\u001b[0;34m\u001b[0m\u001b[0;34m\u001b[0m\u001b[0m\n\u001b[1;32m     45\u001b[0m \u001b[0;34m\u001b[0m\u001b[0m\n",
      "\u001b[0;32m<__array_function__ internals>\u001b[0m in \u001b[0;36mamin\u001b[0;34m(*args, **kwargs)\u001b[0m\n",
      "\u001b[0;32m/anaconda/envs/rl_tensorflow1/lib/python3.7/site-packages/numpy/core/fromnumeric.py\u001b[0m in \u001b[0;36mamin\u001b[0;34m(a, axis, out, keepdims, initial, where)\u001b[0m\n\u001b[1;32m   2791\u001b[0m     \"\"\"\n\u001b[1;32m   2792\u001b[0m     return _wrapreduction(a, np.minimum, 'min', axis, None, out,\n\u001b[0;32m-> 2793\u001b[0;31m                           keepdims=keepdims, initial=initial, where=where)\n\u001b[0m\u001b[1;32m   2794\u001b[0m \u001b[0;34m\u001b[0m\u001b[0m\n\u001b[1;32m   2795\u001b[0m \u001b[0;34m\u001b[0m\u001b[0m\n",
      "\u001b[0;32m/anaconda/envs/rl_tensorflow1/lib/python3.7/site-packages/numpy/core/fromnumeric.py\u001b[0m in \u001b[0;36m_wrapreduction\u001b[0;34m(obj, ufunc, method, axis, dtype, out, **kwargs)\u001b[0m\n\u001b[1;32m     88\u001b[0m                 \u001b[0;32mreturn\u001b[0m \u001b[0mreduction\u001b[0m\u001b[0;34m(\u001b[0m\u001b[0maxis\u001b[0m\u001b[0;34m=\u001b[0m\u001b[0maxis\u001b[0m\u001b[0;34m,\u001b[0m \u001b[0mout\u001b[0m\u001b[0;34m=\u001b[0m\u001b[0mout\u001b[0m\u001b[0;34m,\u001b[0m \u001b[0;34m**\u001b[0m\u001b[0mpasskwargs\u001b[0m\u001b[0;34m)\u001b[0m\u001b[0;34m\u001b[0m\u001b[0;34m\u001b[0m\u001b[0m\n\u001b[1;32m     89\u001b[0m \u001b[0;34m\u001b[0m\u001b[0m\n\u001b[0;32m---> 90\u001b[0;31m     \u001b[0;32mreturn\u001b[0m \u001b[0mufunc\u001b[0m\u001b[0;34m.\u001b[0m\u001b[0mreduce\u001b[0m\u001b[0;34m(\u001b[0m\u001b[0mobj\u001b[0m\u001b[0;34m,\u001b[0m \u001b[0maxis\u001b[0m\u001b[0;34m,\u001b[0m \u001b[0mdtype\u001b[0m\u001b[0;34m,\u001b[0m \u001b[0mout\u001b[0m\u001b[0;34m,\u001b[0m \u001b[0;34m**\u001b[0m\u001b[0mpasskwargs\u001b[0m\u001b[0;34m)\u001b[0m\u001b[0;34m\u001b[0m\u001b[0;34m\u001b[0m\u001b[0m\n\u001b[0m\u001b[1;32m     91\u001b[0m \u001b[0;34m\u001b[0m\u001b[0m\n\u001b[1;32m     92\u001b[0m \u001b[0;34m\u001b[0m\u001b[0m\n",
      "\u001b[0;31mValueError\u001b[0m: zero-size array to reduction operation minimum which has no identity"
     ]
    }
   ],
   "source": [
    "# Saver will help us to save our model\n",
    "saver = tf.train.Saver()\n",
    "\n",
    "# Re-Initialise memory for training\n",
    "memory = Memory(MEMORY_SIZE)\n",
    "\n",
    "# Store measurements\n",
    "loss = []\n",
    "reward_list = []\n",
    "step_list = []\n",
    "total_steps = 0\n",
    "start_time = time.time()\n",
    "\n",
    "with tf.Session() as sess:\n",
    "    \n",
    "    # Initialize the variables\n",
    "    sess.run(tf.global_variables_initializer())\n",
    "     \n",
    "    # Number of episodes to train \n",
    "    N = 150 \n",
    "    for i in range(0, N):\n",
    "\n",
    "        # Initialise state\n",
    "        state = env.reset()\n",
    "        state, stacked_frames = stack_frames(stacked_frames, state, True)\n",
    "        reward_sum = 0\n",
    "\n",
    "        # Initialise step oer episode\n",
    "        step = 0\n",
    "        done = False\n",
    "\n",
    "        while not done:\n",
    "\n",
    "            # Get action \n",
    "            action = act(state, EXPLORATION_RATE)\n",
    "\n",
    "            # Take action\n",
    "            state_next, reward, done, _ = env.step(action)\n",
    "\n",
    "            # stops the episode by set max step\n",
    "            if step > MAX_STEP:\n",
    "                done = True\n",
    "                print(\"Episode Done\")\n",
    "\n",
    "            # Append the next state\n",
    "            state_next, stacked_frames = stack_frames(stacked_frames, state_next, False)\n",
    "\n",
    "            # Append to memory\n",
    "            memory.store((state, action, reward, state_next, done))\n",
    "\n",
    "            # Forward to next state\n",
    "            state = state_next\n",
    "\n",
    "            # accumulate rewards\n",
    "            reward_sum += reward\n",
    "            \n",
    "            # Update model every UPDATE_STEP (5000)\n",
    "            if total_steps % UPDATE_MODEL_STEP == 0:\n",
    "                sess.run(update_graph())\n",
    "                print(\"Target network updated!\")\n",
    "\n",
    "            # accumilate steps\n",
    "            step += 1\n",
    "            total_steps += 1\n",
    "\n",
    "            # Reduce the exploreation every step\n",
    "            EXPLORATION_RATE *= EXPLORATION_DECAY\n",
    "            EXPLORATION_RATE = max(EXPLORATION_MIN, EXPLORATION_RATE)\n",
    "\n",
    "            ### Learning procedure begins ###\n",
    "            # learn only when memory has be filled to batch size\n",
    "            if memory.memory_tree.capacity_filled >= BATCH_SIZE:\n",
    "                history = model_fit(BATCH_SIZE)\n",
    "\n",
    "                # store loss\n",
    "                loss.append(history)\n",
    "            ### Learning procedure ends ###\n",
    "\n",
    "            # Print messge every 100 episodes\n",
    "#             if total_steps % 100 == 0:\n",
    "#                 print(\"Afte {} steps, exploration rate: {:.4f}, reward: {}, Model loss: {:.4f}\"\\\n",
    "#                       .format(total_steps, EXPLORATION_RATE, reward_sum, history))\n",
    "                \n",
    "\n",
    "        # Append values at the end of an episode\n",
    "        step_list.append(step)\n",
    "        reward_list.append(reward_sum)\n",
    "\n",
    "        # print information at the end of the episode\n",
    "        print(\"Episode {}, exploration rate: {:.4f}, final rewards: {}, final loss is {:.4f}, Time elapsed: {:.4f}\"\\\n",
    "              .format(i+1, EXPLORATION_RATE, reward_sum, history, time.time() - start_time))\n",
    "        start_time = time.time()\n",
    "        \n",
    "    save_path = saver.save(sess, \"./D3QN_PER_models/model.ckpt\")\n",
    "    print(\"Model Saved\")"
   ]
  },
  {
   "cell_type": "code",
   "execution_count": 20,
   "metadata": {},
   "outputs": [
    {
     "data": {
      "image/png": "[encoded data removed]",
      "text/plain": [
       "<Figure size 432x288 with 1 Axes>"
      ]
     },
     "metadata": {
      "needs_background": "light"
     },
     "output_type": "display_data"
    }
   ],
   "source": [
    "# plot result\n",
    "plt.plot(reward_list)\n",
    "plt.ylabel('Steps')\n",
    "plt.xlabel('Runs')\n",
    "\n",
    "\n",
    "plt.plot(step_list)\n",
    "plt.ylabel('Steps')\n",
    "plt.xlabel('Runs')\n",
    "\n",
    "plt.show()"
   ]
  },
  {
   "cell_type": "code",
   "execution_count": 21,
   "metadata": {},
   "outputs": [
    {
     "data": {
      "image/png": "[encoded data removed]",
      "text/plain": [
       "<Figure size 432x288 with 1 Axes>"
      ]
     },
     "metadata": {
      "needs_background": "light"
     },
     "output_type": "display_data"
    }
   ],
   "source": [
    "# plot loss\n",
    "plt.plot(loss)\n",
    "plt.ylabel('Loss')\n",
    "plt.xlabel('Steps')\n",
    "plt.show()"
   ]
  },
  {
   "cell_type": "code",
   "execution_count": 19,
   "metadata": {},
   "outputs": [
    {
     "data": {
      "text/plain": [
       "100000"
      ]
     },
     "execution_count": 19,
     "metadata": {},
     "output_type": "execute_result"
    }
   ],
   "source": [
    "# Number of steps learnt\n",
    "memory.memory_tree.capacity_filled"
   ]
  },
  {
   "cell_type": "code",
   "execution_count": null,
   "metadata": {},
   "outputs": [],
   "source": [
    "# For saving and loading files\n",
    "saver = tf.train.Saver()"
   ]
  },
  {
   "cell_type": "code",
   "execution_count": 25,
   "metadata": {},
   "outputs": [
    {
     "name": "stdout",
     "output_type": "stream",
     "text": [
      "INFO:tensorflow:Restoring parameters from ./D3QN_PER_models/model.ckpt\n",
      "Average rewards over 20 episodes is 175.49999999999997\n"
     ]
    }
   ],
   "source": [
    "# Test the model and get average rewards\n",
    "with tf.Session() as sess:\n",
    "    \n",
    "    # Load the model\n",
    "    saver.restore(sess, \"./D3QN_PER_models/model.ckpt\")\n",
    "    \n",
    "    # Run Tests\n",
    "    N_tests = 20\n",
    "    steps, total_reward = test(N_tests, model = DQNetwork, memory = None)\n",
    "    \n",
    "print(\"Average rewards over {} episodes is {}\".format(N_tests, total_reward))"
   ]
  },
  {
   "cell_type": "code",
   "execution_count": 19,
   "metadata": {},
   "outputs": [
    {
     "name": "stdout",
     "output_type": "stream",
     "text": [
      "INFO:tensorflow:Restoring parameters from ./D3QN_PER_models/model.ckpt\n",
      "[-0.32561296 -0.4426517  -1.150526   -0.5496196  -0.89415544 -0.6408557 ]\n",
      "Score: 225.0, Steps: 856\n"
     ]
    }
   ],
   "source": [
    "with tf.Session() as sess:\n",
    "    \n",
    "    # Load the model\n",
    "    saver.restore(sess, \"./D3QN_PER_models/model.ckpt\")\n",
    "    \n",
    "    Q_DQN = sess.run(DQNetwork.output, \n",
    "                                    feed_dict = {DQNetwork.inputs_: stacked_states[tf.newaxis,...]})[0]\n",
    "    print(Q_DQN)\n",
    "    \n",
    "    # Initialise environment \n",
    "    state = env.reset()\n",
    "    state, stacked_frames = stack_frames(stacked_frames, state, True)\n",
    "\n",
    "    done = False \n",
    "    total_reward = 0\n",
    "    steps = 0\n",
    "\n",
    "    # Until done \n",
    "    while not done:\n",
    "\n",
    "        # render the current environment \n",
    "        env.render()\n",
    "\n",
    "        # take an action using model\n",
    "        Q_values= sess.run(DQNetwork.output, feed_dict = {DQNetwork.inputs_: state[tf.newaxis,...]})\n",
    "        action = np.argmax(Q_values[0])\n",
    "        next_state, reward, done, info = env.step(action)\n",
    "        next_state, stacked_frames = stack_frames(stacked_frames, next_state, False)\n",
    "        state = next_state\n",
    "\n",
    "        total_reward += reward\n",
    "        steps += 1\n",
    "\n",
    "        # pause for visualisation\n",
    "        time.sleep(0.01)\n",
    "\n",
    "    env.close()\n",
    "    print (\"Score: {}, Steps: {}\".format(total_reward, steps))"
   ]
  },
  {
   "cell_type": "code",
   "execution_count": null,
   "metadata": {},
   "outputs": [],
   "source": []
  }
 ],
 "metadata": {
  "kernelspec": {
   "display_name": "rl_tensorflow1",
   "language": "python",
   "name": "conda-env-rl_tensorflow1-py"
  },
  "language_info": {
   "codemirror_mode": {
    "name": "ipython",
    "version": 3
   },
   "file_extension": ".py",
   "mimetype": "text/x-python",
   "name": "python",
   "nbconvert_exporter": "python",
   "pygments_lexer": "ipython3",
   "version": "3.7.7"
  },
  "varInspector": {
   "cols": {
    "lenName": 16,
    "lenType": 16,
    "lenVar": 40
   },
   "kernels_config": {
    "python": {
     "delete_cmd_postfix": "",
     "delete_cmd_prefix": "del ",
     "library": "var_list.py",
     "varRefreshCmd": "print(var_dic_list())"
    },
    "r": {
     "delete_cmd_postfix": ") ",
     "delete_cmd_prefix": "rm(",
     "library": "var_list.r",
     "varRefreshCmd": "cat(var_dic_list()) "
    }
   },
   "oldHeight": 279.86,
   "position": {
    "height": "40px",
    "left": "888.57px",
    "right": "20px",
    "top": "107px",
    "width": "350px"
   },
   "types_to_exclude": [
    "module",
    "function",
    "builtin_function_or_method",
    "instance",
    "_Feature"
   ],
   "varInspector_section_display": "none",
   "window_display": true
  }
 },
 "nbformat": 4,
 "nbformat_minor": 2
}
